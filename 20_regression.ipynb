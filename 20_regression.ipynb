{
 "cells": [
  {
   "cell_type": "markdown",
   "metadata": {},
   "source": [
    "# Regression"
   ]
  },
  {
   "cell_type": "code",
   "execution_count": 1,
   "metadata": {},
   "outputs": [],
   "source": [
    "%load_ext autoreload\n",
    "%autoreload 2"
   ]
  },
  {
   "cell_type": "code",
   "execution_count": 2,
   "metadata": {},
   "outputs": [
    {
     "name": "stderr",
     "output_type": "stream",
     "text": [
      "INFO: Using numpy backend\n"
     ]
    }
   ],
   "source": [
    "from itertools import product\n",
    "\n",
    "import pandas as pd\n",
    "import numpy as np\n",
    "import matplotlib.pyplot as plt\n",
    "\n",
    "from tqdm import tqdm\n",
    "from sklearn.metrics import mean_squared_error, accuracy_score\n",
    "from sklearn.model_selection import train_test_split\n",
    "\n",
    "from src.hyperdt.toy_data import wrapped_normal_mixture\n",
    "from src.hyperdt.conversions import convert\n",
    "from src.hyperdt.tree import HyperbolicDecisionTreeRegressor, DecisionTreeRegressor, DecisionTreeClassifier"
   ]
  },
  {
   "cell_type": "code",
   "execution_count": 3,
   "metadata": {},
   "outputs": [],
   "source": [
    "def euclidean_distance_from_origin(X):\n",
    "    \"\"\"Compute the euclidean distance from the origin for each row in X\"\"\"\n",
    "    return np.sum(X ** 2, axis=1)\n",
    "\n",
    "def poincare_distance_from_origin(X):\n",
    "    \"\"\"Compute the hyperbolic distance from the origin for each row in X (in the Poincare ball model).\"\"\"\n",
    "    l2_norm = np.sum(X ** 2, axis=1)\n",
    "    return np.arccosh(1 + 2 * l2_norm / (1 - l2_norm))"
   ]
  },
  {
   "cell_type": "code",
   "execution_count": 4,
   "metadata": {},
   "outputs": [],
   "source": [
    "def get_data(n_samples=1000, n_classes=2, noise_std=0.5, n_dim=3, seed=None):\n",
    "    \"\"\"Get data for regression experiments.\"\"\"\n",
    "    \n",
    "    X, _ = wrapped_normal_mixture(\n",
    "        num_points=n_samples, num_classes=n_classes, noise_std=noise_std, n_dim=n_dim, seed=seed\n",
    "    )\n",
    "    \n",
    "    X_poincare = convert(X, \"hyperboloid\", \"poincare\")\n",
    "    y_edist = euclidean_distance_from_origin(X_poincare)\n",
    "    y_hdist = poincare_distance_from_origin(X_poincare)\n",
    "\n",
    "    return X, y_edist, y_hdist"
   ]
  },
  {
   "cell_type": "code",
   "execution_count": 5,
   "metadata": {},
   "outputs": [],
   "source": [
    "def train_and_test_dts(X, y, seed=None, max_depth=8):\n",
    "    \"\"\"Train and test euclidean and hyperbolic decision trees on the given data.\n",
    "    Return the mean squared error for both models.\"\"\"\n",
    "    \n",
    "    # Split data\n",
    "    X_train, X_test, y_train, y_test = train_test_split(\n",
    "        X, y, test_size=0.2, random_state=seed\n",
    "    )\n",
    "    \n",
    "    \n",
    "    # Hyperbolic decision tree\n",
    "    hdt_reg = HyperbolicDecisionTreeRegressor(\n",
    "        max_depth=max_depth, candidates=\"data\"\n",
    "    )\n",
    "    # Euclidean decision tree\n",
    "    edt_reg = DecisionTreeRegressor(\n",
    "        max_depth=max_depth\n",
    "    )\n",
    "\n",
    "    # Fit, predict, and score hyperbolic decision tree\n",
    "    hdt_reg.fit(X_train, y_train)\n",
    "    hdt_reg_mse = mean_squared_error(y_test, hdt_reg.predict(X_test))\n",
    "    \n",
    "    # Fit, predict, and score euclidean decision tree\n",
    "    edt_reg.fit(X_train, y_train)\n",
    "    edt_reg_mse = mean_squared_error(y_test, edt_reg.predict(X_test))\n",
    "    \n",
    "    return hdt_reg_mse, edt_reg_mse"
   ]
  },
  {
   "cell_type": "code",
   "execution_count": 1,
   "metadata": {},
   "outputs": [
    {
     "name": "stderr",
     "output_type": "stream",
     "text": [
      "INFO: Using numpy backend\n"
     ]
    },
    {
     "ename": "ValueError",
     "evalue": "Points must lie on a hyperboloid: Lorentzian Inner Product does not equal the curvature of -1.",
     "output_type": "error",
     "traceback": [
      "\u001b[0;31m---------------------------------------------------------------------------\u001b[0m",
      "\u001b[0;31mAssertionError\u001b[0m                            Traceback (most recent call last)",
      "File \u001b[0;32m~/hdt/src/hyperdt/tree.py:200\u001b[0m, in \u001b[0;36mHyperbolicDecisionTreeClassifier._validate_hyperbolic\u001b[0;34m(self, X)\u001b[0m\n\u001b[1;32m    199\u001b[0m \u001b[39mtry\u001b[39;00m:\n\u001b[0;32m--> 200\u001b[0m     \u001b[39massert\u001b[39;00m np\u001b[39m.\u001b[39mallclose(\n\u001b[1;32m    201\u001b[0m         np\u001b[39m.\u001b[39msum(X_spacelike\u001b[39m*\u001b[39m\u001b[39m*\u001b[39m\u001b[39m2\u001b[39m, axis\u001b[39m=\u001b[39m\u001b[39m1\u001b[39m) \u001b[39m-\u001b[39m X[:, \u001b[39mself\u001b[39m\u001b[39m.\u001b[39mtimelike_dim] \u001b[39m*\u001b[39m\u001b[39m*\u001b[39m \u001b[39m2\u001b[39m,\n\u001b[1;32m    202\u001b[0m         \u001b[39m-\u001b[39m\u001b[39m1.0\u001b[39m,\n\u001b[1;32m    203\u001b[0m         atol\u001b[39m=\u001b[39m\u001b[39m1e-1\u001b[39m,  \u001b[39m# Don't be too strict\u001b[39;00m\n\u001b[1;32m    204\u001b[0m     )\n\u001b[1;32m    205\u001b[0m \u001b[39mexcept\u001b[39;00m \u001b[39mAssertionError\u001b[39;00m:\n",
      "\u001b[0;31mAssertionError\u001b[0m: ",
      "\nDuring handling of the above exception, another exception occurred:\n",
      "\u001b[0;31mValueError\u001b[0m                                Traceback (most recent call last)",
      "Cell \u001b[0;32mIn[1], line 9\u001b[0m\n\u001b[1;32m      7\u001b[0m X_train, X_test, y_train, y_test \u001b[39m=\u001b[39m train_test_split(X, y, test_size\u001b[39m=\u001b[39m\u001b[39m0.2\u001b[39m, random_state\u001b[39m=\u001b[39m\u001b[39m42\u001b[39m)\n\u001b[1;32m      8\u001b[0m hdt_reg \u001b[39m=\u001b[39m HyperbolicDecisionTreeRegressor(max_depth\u001b[39m=\u001b[39m\u001b[39m8\u001b[39m, candidates\u001b[39m=\u001b[39m\u001b[39m\"\u001b[39m\u001b[39mdata\u001b[39m\u001b[39m\"\u001b[39m)\n\u001b[0;32m----> 9\u001b[0m hdt_reg\u001b[39m.\u001b[39;49mfit(X_train, y_train)\n",
      "File \u001b[0;32m~/hdt/src/hyperdt/tree.py:272\u001b[0m, in \u001b[0;36mDecisionTreeRegressor.fit\u001b[0;34m(self, X, y)\u001b[0m\n\u001b[1;32m    269\u001b[0m \u001b[39mdef\u001b[39;00m \u001b[39mfit\u001b[39m(\u001b[39mself\u001b[39m, X, y):\n\u001b[1;32m    270\u001b[0m \u001b[39m    \u001b[39m\u001b[39m\"\"\"Fit a decision tree to the data. Wrapper for DecisionTreeClassifier's\u001b[39;00m\n\u001b[1;32m    271\u001b[0m \u001b[39m    fit method but with a dummy self.classes_ attribute.\"\"\"\u001b[39;00m\n\u001b[0;32m--> 272\u001b[0m     \u001b[39msuper\u001b[39;49m()\u001b[39m.\u001b[39;49mfit(X, y)\n\u001b[1;32m    273\u001b[0m     \u001b[39mself\u001b[39m\u001b[39m.\u001b[39mclasses_ \u001b[39m=\u001b[39m \u001b[39mNone\u001b[39;00m\n\u001b[1;32m    274\u001b[0m     \u001b[39mreturn\u001b[39;00m \u001b[39mself\u001b[39m\n",
      "File \u001b[0;32m~/hdt/src/hyperdt/tree.py:231\u001b[0m, in \u001b[0;36mHyperbolicDecisionTreeClassifier.fit\u001b[0;34m(self, X, y)\u001b[0m\n\u001b[1;32m    228\u001b[0m     \u001b[39mself\u001b[39m\u001b[39m.\u001b[39mdims\u001b[39m.\u001b[39mremove(\u001b[39mself\u001b[39m\u001b[39m.\u001b[39mtimelike_dim)\n\u001b[1;32m    230\u001b[0m \u001b[39m# Validate data and fit tree:\u001b[39;00m\n\u001b[0;32m--> 231\u001b[0m \u001b[39mself\u001b[39;49m\u001b[39m.\u001b[39;49m_validate_hyperbolic(X)\n\u001b[1;32m    232\u001b[0m \u001b[39mself\u001b[39m\u001b[39m.\u001b[39mtree \u001b[39m=\u001b[39m \u001b[39mself\u001b[39m\u001b[39m.\u001b[39m_fit_node(X\u001b[39m=\u001b[39mX, y\u001b[39m=\u001b[39my, depth\u001b[39m=\u001b[39m\u001b[39m0\u001b[39m)\n\u001b[1;32m    233\u001b[0m \u001b[39mreturn\u001b[39;00m \u001b[39mself\u001b[39m\n",
      "File \u001b[0;32m~/hdt/src/hyperdt/tree.py:206\u001b[0m, in \u001b[0;36mHyperbolicDecisionTreeClassifier._validate_hyperbolic\u001b[0;34m(self, X)\u001b[0m\n\u001b[1;32m    200\u001b[0m     \u001b[39massert\u001b[39;00m np\u001b[39m.\u001b[39mallclose(\n\u001b[1;32m    201\u001b[0m         np\u001b[39m.\u001b[39msum(X_spacelike\u001b[39m*\u001b[39m\u001b[39m*\u001b[39m\u001b[39m2\u001b[39m, axis\u001b[39m=\u001b[39m\u001b[39m1\u001b[39m) \u001b[39m-\u001b[39m X[:, \u001b[39mself\u001b[39m\u001b[39m.\u001b[39mtimelike_dim] \u001b[39m*\u001b[39m\u001b[39m*\u001b[39m \u001b[39m2\u001b[39m,\n\u001b[1;32m    202\u001b[0m         \u001b[39m-\u001b[39m\u001b[39m1.0\u001b[39m,\n\u001b[1;32m    203\u001b[0m         atol\u001b[39m=\u001b[39m\u001b[39m1e-1\u001b[39m,  \u001b[39m# Don't be too strict\u001b[39;00m\n\u001b[1;32m    204\u001b[0m     )\n\u001b[1;32m    205\u001b[0m \u001b[39mexcept\u001b[39;00m \u001b[39mAssertionError\u001b[39;00m:\n\u001b[0;32m--> 206\u001b[0m     \u001b[39mraise\u001b[39;00m \u001b[39mValueError\u001b[39;00m(\u001b[39m\"\u001b[39m\u001b[39mPoints must lie on a hyperboloid: Lorentzian Inner Product does not equal the curvature of -1.\u001b[39m\u001b[39m\"\u001b[39m)\n\u001b[1;32m    208\u001b[0m \u001b[39mtry\u001b[39;00m:\n\u001b[1;32m    209\u001b[0m     \u001b[39massert\u001b[39;00m np\u001b[39m.\u001b[39mall(X[:, \u001b[39mself\u001b[39m\u001b[39m.\u001b[39mtimelike_dim] \u001b[39m>\u001b[39m \u001b[39m1.0\u001b[39m)  \u001b[39m# Ensure timelike\u001b[39;00m\n",
      "\u001b[0;31mValueError\u001b[0m: Points must lie on a hyperboloid: Lorentzian Inner Product does not equal the curvature of -1."
     ]
    }
   ],
   "source": [
    "# minimal example with bug\n",
    "from sklearn.model_selection import train_test_split\n",
    "\n",
    "from src.hyperdt.toy_data import wrapped_normal_mixture\n",
    "from src.hyperdt.tree import HyperbolicDecisionTreeRegressor\n",
    "\n",
    "X, y = wrapped_normal_mixture(num_points=1000, num_classes=2, noise_std=0.1, n_dim=32, seed=42)\n",
    "X_train, X_test, y_train, y_test = train_test_split(X, y, test_size=0.2, random_state=42)\n",
    "hdt_reg = HyperbolicDecisionTreeRegressor(max_depth=8, candidates=\"data\")\n",
    "hdt_reg.fit(X_train, y_train)"
   ]
  },
  {
   "cell_type": "code",
   "execution_count": null,
   "metadata": {},
   "outputs": [],
   "source": [
    "n_dims = [32, 64, 128, 256, 512, 1024, 2, 4, 8, 16]\n",
    "seeds = [42, 43, 44]\n",
    "noise_std = 0.1\n",
    "total = len(n_dims) * len(seeds)\n",
    "results = []\n",
    "\n",
    "with tqdm(product(n_dims, seeds), total=total) as pbar:\n",
    "    for n_dim, seed in pbar:\n",
    "        pbar.set_description('Dim={}, Seed={}'.format(n_dim, seed))\n",
    "\n",
    "        # generate data\n",
    "        X, y_edist, y_hdist = get_data(seed=seed, n_dim=n_dim, noise_std=noise_std)\n",
    "        \n",
    "        # train and test euclidean and hyperbolic decision trees on euclidean distance from origin\n",
    "        hdt_edist_mse, edt_edist_mse = train_and_test_dts(X, y_edist, seed=seed)\n",
    "        \n",
    "        # train and test euclidean and hyperbolic decision trees on hyperbolic distance from origin\n",
    "        hdt_hdist_mse, edt_hdist_mse = train_and_test_dts(X, y_hdist, seed=seed)\n",
    "\n",
    "        # save results\n",
    "        result = {}\n",
    "        result['hdt_edist_mse'] = hdt_edist_mse\n",
    "        result['edt_edist_mse'] = edt_edist_mse\n",
    "        result['hdt_hdist_mse'] = hdt_hdist_mse\n",
    "        result['edt_hdist_mse'] = edt_hdist_mse\n",
    "        result['seed'] = seed\n",
    "        result['n_dim'] = n_dim\n",
    "        results.append(result)\n",
    "            \n",
    "results = pd.DataFrame(results)"
   ]
  },
  {
   "cell_type": "code",
   "execution_count": null,
   "metadata": {},
   "outputs": [],
   "source": [
    "results"
   ]
  }
 ],
 "metadata": {
  "kernelspec": {
   "display_name": "hdt",
   "language": "python",
   "name": "python3"
  },
  "language_info": {
   "codemirror_mode": {
    "name": "ipython",
    "version": 3
   },
   "file_extension": ".py",
   "mimetype": "text/x-python",
   "name": "python",
   "nbconvert_exporter": "python",
   "pygments_lexer": "ipython3",
   "version": "3.11.5"
  },
  "orig_nbformat": 4
 },
 "nbformat": 4,
 "nbformat_minor": 2
}
