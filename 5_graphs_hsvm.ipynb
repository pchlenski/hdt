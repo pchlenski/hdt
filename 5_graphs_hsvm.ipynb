{
 "cells": [
  {
   "cell_type": "markdown",
   "metadata": {},
   "source": [
    "# Graphs hSVM\n",
    ">Different notebook because we need a different conda env"
   ]
  },
  {
   "cell_type": "code",
   "execution_count": 10,
   "metadata": {},
   "outputs": [
    {
     "name": "stdout",
     "output_type": "stream",
     "text": [
      "Requirement already satisfied: click in /home/phil/mambaforge/envs/hsvm/lib/python3.11/site-packages (6.7)\n",
      "Requirement already satisfied: ipython in /home/phil/mambaforge/envs/hsvm/lib/python3.11/site-packages (8.12.0)\n",
      "Requirement already satisfied: numba in /home/phil/mambaforge/envs/hsvm/lib/python3.11/site-packages (0.57.1)\n",
      "Requirement already satisfied: numpy in /home/phil/mambaforge/envs/hsvm/lib/python3.11/site-packages (1.24.4)\n",
      "Requirement already satisfied: pandas in /home/phil/mambaforge/envs/hsvm/lib/python3.11/site-packages (2.0.3)\n",
      "Requirement already satisfied: scikit-learn in /home/phil/mambaforge/envs/hsvm/lib/python3.11/site-packages (1.3.0)\n",
      "Requirement already satisfied: scipy in /home/phil/mambaforge/envs/hsvm/lib/python3.11/site-packages (1.11.1)\n",
      "Requirement already satisfied: tqdm in /home/phil/mambaforge/envs/hsvm/lib/python3.11/site-packages (4.26.0)\n",
      "Collecting htools\n",
      "  Downloading htools-7.7.0.tar.gz (84 kB)\n",
      "\u001b[2K     \u001b[90m━━━━━━━━━━━━━━━━━━━━━━━━━━━━━━━━━━━━━━━━\u001b[0m \u001b[32m84.0/84.0 kB\u001b[0m \u001b[31m5.0 MB/s\u001b[0m eta \u001b[36m0:00:00\u001b[0m\n",
      "\u001b[?25h  Preparing metadata (setup.py) ... \u001b[?25ldone\n",
      "\u001b[?25hRequirement already satisfied: backcall in /home/phil/mambaforge/envs/hsvm/lib/python3.11/site-packages (from ipython) (0.2.0)\n",
      "Requirement already satisfied: decorator in /home/phil/mambaforge/envs/hsvm/lib/python3.11/site-packages (from ipython) (5.1.1)\n",
      "Requirement already satisfied: jedi>=0.16 in /home/phil/mambaforge/envs/hsvm/lib/python3.11/site-packages (from ipython) (0.18.1)\n",
      "Requirement already satisfied: matplotlib-inline in /home/phil/mambaforge/envs/hsvm/lib/python3.11/site-packages (from ipython) (0.1.6)\n",
      "Requirement already satisfied: pickleshare in /home/phil/mambaforge/envs/hsvm/lib/python3.11/site-packages (from ipython) (0.7.5)\n",
      "Requirement already satisfied: prompt-toolkit!=3.0.37,<3.1.0,>=3.0.30 in /home/phil/mambaforge/envs/hsvm/lib/python3.11/site-packages (from ipython) (3.0.36)\n",
      "Requirement already satisfied: pygments>=2.4.0 in /home/phil/mambaforge/envs/hsvm/lib/python3.11/site-packages (from ipython) (2.15.1)\n",
      "Requirement already satisfied: stack-data in /home/phil/mambaforge/envs/hsvm/lib/python3.11/site-packages (from ipython) (0.2.0)\n",
      "Requirement already satisfied: traitlets>=5 in /home/phil/mambaforge/envs/hsvm/lib/python3.11/site-packages (from ipython) (5.7.1)\n",
      "Requirement already satisfied: pexpect>4.3 in /home/phil/mambaforge/envs/hsvm/lib/python3.11/site-packages (from ipython) (4.8.0)\n",
      "Requirement already satisfied: llvmlite<0.41,>=0.40.0dev0 in /home/phil/mambaforge/envs/hsvm/lib/python3.11/site-packages (from numba) (0.40.1)\n",
      "Requirement already satisfied: python-dateutil>=2.8.2 in /home/phil/mambaforge/envs/hsvm/lib/python3.11/site-packages (from pandas) (2.8.2)\n",
      "Requirement already satisfied: pytz>=2020.1 in /home/phil/mambaforge/envs/hsvm/lib/python3.11/site-packages (from pandas) (2022.7)\n",
      "Requirement already satisfied: tzdata>=2022.1 in /home/phil/mambaforge/envs/hsvm/lib/python3.11/site-packages (from pandas) (2023.3)\n",
      "Requirement already satisfied: joblib>=1.1.1 in /home/phil/mambaforge/envs/hsvm/lib/python3.11/site-packages (from scikit-learn) (1.3.1)\n",
      "Requirement already satisfied: threadpoolctl>=2.0.0 in /home/phil/mambaforge/envs/hsvm/lib/python3.11/site-packages (from scikit-learn) (3.2.0)\n",
      "Collecting datasketch>=1.5.0 (from htools)\n",
      "  Downloading datasketch-1.5.9-py3-none-any.whl (76 kB)\n",
      "\u001b[2K     \u001b[90m━━━━━━━━━━━━━━━━━━━━━━━━━━━━━━━━━━━━━━━━\u001b[0m \u001b[32m76.7/76.7 kB\u001b[0m \u001b[31m9.4 MB/s\u001b[0m eta \u001b[36m0:00:00\u001b[0m\n",
      "\u001b[?25hCollecting fire>=0.3.0 (from htools)\n",
      "  Downloading fire-0.5.0.tar.gz (88 kB)\n",
      "\u001b[2K     \u001b[90m━━━━━━━━━━━━━━━━━━━━━━━━━━━━━━━━━━━━━━━━\u001b[0m \u001b[32m88.3/88.3 kB\u001b[0m \u001b[31m11.4 MB/s\u001b[0m eta \u001b[36m0:00:00\u001b[0m\n",
      "\u001b[?25h  Preparing metadata (setup.py) ... \u001b[?25ldone\n",
      "\u001b[?25hCollecting multipledispatch (from htools)\n",
      "  Downloading multipledispatch-1.0.0-py3-none-any.whl (12 kB)\n",
      "Collecting pandas_flavor==0.1.2 (from htools)\n",
      "  Downloading pandas_flavor-0.1.2-py2.py3-none-any.whl (5.7 kB)\n",
      "Collecting pyperclip (from htools)\n",
      "  Downloading pyperclip-1.8.2.tar.gz (20 kB)\n",
      "  Preparing metadata (setup.py) ... \u001b[?25ldone\n",
      "\u001b[?25hCollecting wordninja>=2.0.0 (from htools)\n",
      "  Downloading wordninja-2.0.0.tar.gz (541 kB)\n",
      "\u001b[2K     \u001b[90m━━━━━━━━━━━━━━━━━━━━━━━━━━━━━━━━━━━━━━\u001b[0m \u001b[32m541.6/541.6 kB\u001b[0m \u001b[31m72.7 MB/s\u001b[0m eta \u001b[36m0:00:00\u001b[0m\n",
      "\u001b[?25h  Preparing metadata (setup.py) ... \u001b[?25ldone\n",
      "\u001b[?25hRequirement already satisfied: six in /home/phil/mambaforge/envs/hsvm/lib/python3.11/site-packages (from fire>=0.3.0->htools) (1.16.0)\n",
      "Collecting termcolor (from fire>=0.3.0->htools)\n",
      "  Downloading termcolor-2.3.0-py3-none-any.whl (6.9 kB)\n",
      "Requirement already satisfied: parso<0.9.0,>=0.8.0 in /home/phil/mambaforge/envs/hsvm/lib/python3.11/site-packages (from jedi>=0.16->ipython) (0.8.3)\n",
      "Requirement already satisfied: ptyprocess>=0.5 in /home/phil/mambaforge/envs/hsvm/lib/python3.11/site-packages (from pexpect>4.3->ipython) (0.7.0)\n",
      "Requirement already satisfied: wcwidth in /home/phil/mambaforge/envs/hsvm/lib/python3.11/site-packages (from prompt-toolkit!=3.0.37,<3.1.0,>=3.0.30->ipython) (0.2.5)\n",
      "Requirement already satisfied: executing in /home/phil/mambaforge/envs/hsvm/lib/python3.11/site-packages (from stack-data->ipython) (0.8.3)\n",
      "Requirement already satisfied: asttokens in /home/phil/mambaforge/envs/hsvm/lib/python3.11/site-packages (from stack-data->ipython) (2.0.5)\n",
      "Requirement already satisfied: pure-eval in /home/phil/mambaforge/envs/hsvm/lib/python3.11/site-packages (from stack-data->ipython) (0.2.2)\n",
      "Building wheels for collected packages: htools, fire, wordninja, pyperclip\n",
      "  Building wheel for htools (setup.py) ... \u001b[?25ldone\n",
      "\u001b[?25h  Created wheel for htools: filename=htools-7.7.0-py3-none-any.whl size=88734 sha256=79d860fcd0ec3103fbea75ada8e32a27426292605f7ffbb5ad09fefed9ca658e\n",
      "  Stored in directory: /home/phil/.cache/pip/wheels/79/ff/d9/065b18e3112d334426c98c661c6705dd13494402142abeacc9\n",
      "  Building wheel for fire (setup.py) ... \u001b[?25ldone\n",
      "\u001b[?25h  Created wheel for fire: filename=fire-0.5.0-py2.py3-none-any.whl size=116931 sha256=de544f5cdbe2072778bf4055bb527691bdff7124541d2fffeca5087c2e15f352\n",
      "  Stored in directory: /home/phil/.cache/pip/wheels/a7/ee/a5/19e91481be8bea594935d137578bfe77d6bf905e4595336f6b\n",
      "  Building wheel for wordninja (setup.py) ... \u001b[?25ldone\n",
      "\u001b[?25h  Created wheel for wordninja: filename=wordninja-2.0.0-py3-none-any.whl size=541530 sha256=dddea044a64a9aefd27c8b7ca70b89cfbe7cbed50b0c8b382b9d8e664032846c\n",
      "  Stored in directory: /home/phil/.cache/pip/wheels/e6/66/9c/712044a983337f5d44f90abcd244bd4b8ad28ee64750404b50\n",
      "  Building wheel for pyperclip (setup.py) ... \u001b[?25ldone\n",
      "\u001b[?25h  Created wheel for pyperclip: filename=pyperclip-1.8.2-py3-none-any.whl size=11124 sha256=a297e7642b003e149e61c3451a740a103255394af730d393b9a99999a7c5a3d8\n",
      "  Stored in directory: /home/phil/.cache/pip/wheels/70/bd/ba/8ae5c080c895c9360fe6e153acda2dee82527374467eae061b\n",
      "Successfully built htools fire wordninja pyperclip\n",
      "Installing collected packages: wordninja, pyperclip, multipledispatch, termcolor, fire, datasketch, pandas_flavor, htools\n",
      "Successfully installed datasketch-1.5.9 fire-0.5.0 htools-7.7.0 multipledispatch-1.0.0 pandas_flavor-0.1.2 pyperclip-1.8.2 termcolor-2.3.0 wordninja-2.0.0\n"
     ]
    }
   ],
   "source": [
    "!pip install click ipython numba numpy pandas scikit-learn scipy tqdm htools\n",
    "# !pip install click==6.7\n",
    "# # !pip install ipython==6.5.0\n",
    "# !pip install numba==0.40.0 \n",
    "# !pip install numpy==1.14.5\n",
    "# !pip install pandas==0.23.4\n",
    "# !pip install scikit-learn==0.19.2\n",
    "# !pip install scipy==1.1.0\n",
    "# !pip install tqdm==4.26.0\n"
   ]
  },
  {
   "cell_type": "code",
   "execution_count": null,
   "metadata": {},
   "outputs": [],
   "source": []
  }
 ],
 "metadata": {
  "kernelspec": {
   "display_name": "hsvm",
   "language": "python",
   "name": "python3"
  },
  "language_info": {
   "codemirror_mode": {
    "name": "ipython",
    "version": 3
   },
   "file_extension": ".py",
   "mimetype": "text/x-python",
   "name": "python",
   "nbconvert_exporter": "python",
   "pygments_lexer": "ipython3",
   "version": "3.11.4"
  },
  "orig_nbformat": 4
 },
 "nbformat": 4,
 "nbformat_minor": 2
}
