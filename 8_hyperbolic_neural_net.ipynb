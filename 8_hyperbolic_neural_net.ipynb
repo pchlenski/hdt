{
 "cells": [
  {
   "cell_type": "markdown",
   "metadata": {},
   "source": [
    "# Hyperbolic neural net\n",
    "> Do hyperbolic neural nets beat HDTs?"
   ]
  },
  {
   "cell_type": "code",
   "execution_count": 1,
   "metadata": {},
   "outputs": [],
   "source": [
    "%load_ext autoreload\n",
    "%autoreload 2"
   ]
  },
  {
   "cell_type": "code",
   "execution_count": 25,
   "metadata": {},
   "outputs": [],
   "source": [
    "import torch\n",
    "import argparse\n",
    "\n",
    "from hgcn.models.encoders import HNN\n"
   ]
  },
  {
   "cell_type": "code",
   "execution_count": 38,
   "metadata": {},
   "outputs": [],
   "source": [
    "# Initialize this kind of arcane HNN object:\n",
    "\n",
    "C = 1.0  # c is the hyperbolic radius\n",
    "EMBEDDING_DIM = 2  # dimension of the Poincare ball\n",
    "\n",
    "hnn = HNN(\n",
    "    c=C,\n",
    "    args=argparse.Namespace(\n",
    "        num_layers=2,\n",
    "        manifold=\"PoincareBall\",\n",
    "        dropout=0.5,\n",
    "        bias=True,\n",
    "        act=\"tanh\",\n",
    "        feat_dim=EMBEDDING_DIM,\n",
    "        dim=EMBEDDING_DIM,\n",
    "        task=\"nc\",\n",
    "        c=C,\n",
    "        cuda=\"gpu\",\n",
    "        device=torch.device(\"cuda:0\" if torch.cuda.is_available() else \"cpu\"),\n",
    "    ),\n",
    ")"
   ]
  },
  {
   "cell_type": "markdown",
   "metadata": {},
   "source": []
  }
 ],
 "metadata": {
  "kernelspec": {
   "display_name": "hdt",
   "language": "python",
   "name": "python3"
  },
  "language_info": {
   "codemirror_mode": {
    "name": "ipython",
    "version": 3
   },
   "file_extension": ".py",
   "mimetype": "text/x-python",
   "name": "python",
   "nbconvert_exporter": "python",
   "pygments_lexer": "ipython3",
   "version": "3.11.4"
  },
  "orig_nbformat": 4
 },
 "nbformat": 4,
 "nbformat_minor": 2
}
