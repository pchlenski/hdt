{
 "cells": [
  {
   "cell_type": "markdown",
   "metadata": {},
   "source": [
    "# Classification on Clip"
   ]
  },
  {
   "cell_type": "code",
   "execution_count": 1,
   "metadata": {},
   "outputs": [],
   "source": [
    "%load_ext autoreload\n",
    "%autoreload 2"
   ]
  },
  {
   "cell_type": "markdown",
   "metadata": {},
   "source": [
    "### Get Data"
   ]
  },
  {
   "cell_type": "code",
   "execution_count": 2,
   "metadata": {},
   "outputs": [],
   "source": [
    "import pickle\n",
    "import numpy as np"
   ]
  },
  {
   "cell_type": "code",
   "execution_count": 3,
   "metadata": {},
   "outputs": [],
   "source": [
    "def get_time(X, curvature=1):\n",
    "    curvature = abs(curvature)\n",
    "    x_time = np.sqrt(1 / curvature + np.sum(X**2, axis=-1))\n",
    "    return x_time"
   ]
  },
  {
   "cell_type": "code",
   "execution_count": 4,
   "metadata": {},
   "outputs": [],
   "source": [
    "def get_data(seed=None, model_name='meru', projection=False, normal=False, curvature=1, subset=False):\n",
    "    \n",
    "    # Define path to load data from\n",
    "    projection_str = 'projection' if projection else 'noprojection'\n",
    "    normal_str = 'normal' if normal else 'nonormal'\n",
    "    path = 'cifar100/{}_{}_{}'.format(model_name, projection_str, normal_str)\n",
    "    \n",
    "    # load data\n",
    "    with open(path + '/image_feats.pickle', 'rb') as f:\n",
    "        X_splits = pickle.load(f)\n",
    "    with open(path + '/labels.pickle', 'rb') as f:\n",
    "        y_splits = pickle.load(f)\n",
    "    \n",
    "    # convert to numpy\n",
    "    X_splits = {split: X.numpy() for split, X in X_splits.items()}\n",
    "    y_splits = {split: y.numpy() for split, y in y_splits.items()}\n",
    "\n",
    "    # take subset\n",
    "    if subset:\n",
    "        X_splits = {split: X[:subset] for split, X in X_splits.items()}\n",
    "        y_splits = {split: y[:subset] for split, y in y_splits.items()}\n",
    "        \n",
    "    # if meru, get time components on hyperboloid (we only loaded space\n",
    "    # components)\n",
    "    if model_name == 'meru':\n",
    "        X_splits = {\n",
    "            split: np.concatenate([get_time(X, curvature)[:, None], X], axis=-1)\n",
    "            for split, X in X_splits.items()\n",
    "            }\n",
    "        \n",
    "    return X_splits, y_splits"
   ]
  },
  {
   "cell_type": "code",
   "execution_count": 5,
   "metadata": {},
   "outputs": [],
   "source": [
    "model_name = 'clip'\n",
    "projection=False\n",
    "normal=False\n",
    "curvature = -0.10000000149011612\n",
    "subset = False\n",
    "\n",
    "X_splits, y_splits = get_data(\n",
    "    model_name=model_name,\n",
    "    projection=projection,\n",
    "    normal=normal,\n",
    "    curvature=curvature,\n",
    "    subset=subset\n",
    "    )"
   ]
  },
  {
   "cell_type": "markdown",
   "metadata": {},
   "source": [
    "### Train Model"
   ]
  },
  {
   "cell_type": "code",
   "execution_count": 6,
   "metadata": {},
   "outputs": [],
   "source": [
    "from sklearn.metrics import accuracy_score\n",
    "from src.hyperdt.tree import HyperbolicDecisionTreeClassifier, DecisionTreeClassifier"
   ]
  },
  {
   "cell_type": "code",
   "execution_count": null,
   "metadata": {},
   "outputs": [],
   "source": [
    "dt = DecisionTreeClassifier(max_depth=3)\n",
    "dt.fit(X_train, y_train)\n",
    "y_pred = dt.predict(X_val)\n",
    "dt_acc = accuracy_score(y_val, y_pred)\n",
    "dt_acc"
   ]
  },
  {
   "cell_type": "code",
   "execution_count": null,
   "metadata": {},
   "outputs": [],
   "source": [
    "hdt = HyperbolicDecisionTreeClassifier(max_depth=3, curvature=curvature)\n",
    "hdt.fit(X_train, y_train)\n",
    "y_pred = hdt.predict(X_val)\n",
    "hdt_acc = accuracy_score(y_val, y_pred)\n",
    "hdt_acc"
   ]
  },
  {
   "cell_type": "code",
   "execution_count": 10,
   "metadata": {},
   "outputs": [],
   "source": [
    "from sklearn.tree import DecisionTreeClassifier as SklearnDecisionTreeClassifier\n",
    "from sklearn.ensemble import RandomForestClassifier as SklearnRandomForestClassifier"
   ]
  },
  {
   "cell_type": "code",
   "execution_count": 28,
   "metadata": {},
   "outputs": [],
   "source": [
    "sdt = SklearnDecisionTreeClassifier(max_depth=15, random_state=42)\n",
    "sdt.fit(X_splits['train'], y_splits['train'])\n",
    "y_pred = sdt.predict(X_splits['val'])"
   ]
  },
  {
   "cell_type": "code",
   "execution_count": 29,
   "metadata": {},
   "outputs": [
    {
     "name": "stdout",
     "output_type": "stream",
     "text": [
      "sklearn train acc:  0.4078\n",
      "sklearn val acc:  0.1802\n"
     ]
    }
   ],
   "source": [
    "std_train_acc = accuracy_score(y_splits['train'], sdt.predict(X_splits['train']))\n",
    "sdt_val_acc = accuracy_score(y_splits['val'], sdt.predict(X_splits['val']))\n",
    "\n",
    "print('sklearn train acc: ', std_train_acc)\n",
    "print('sklearn val acc: ', sdt_val_acc)"
   ]
  },
  {
   "cell_type": "markdown",
   "metadata": {},
   "source": [
    "max_depth = 3 -> sdt_acc = 0.0472 \n",
    "\n",
    "| max_depth | train acc | val acc | time (sec) |\n",
    "| 3 | nan | 0.0472 | 10|\n",
    "| 10 | 0.226 | 0.16 | 34|\n",
    "| 15 | 0.4078 | 0.18 | 47 |\n",
    "| 20 | 0.579 | 0.1916 | 56.1 |"
   ]
  },
  {
   "cell_type": "code",
   "execution_count": null,
   "metadata": {},
   "outputs": [],
   "source": [
    "max_depth=6"
   ]
  },
  {
   "cell_type": "code",
   "execution_count": 7,
   "metadata": {},
   "outputs": [],
   "source": [
    "from itertools import product\n",
    "\n",
    "import pandas as pd\n",
    "from tqdm import tqdm"
   ]
  },
  {
   "cell_type": "code",
   "execution_count": 13,
   "metadata": {},
   "outputs": [],
   "source": [
    "model_params = {\n",
    "    'max_depth': [6],\n",
    "    'seed': [42, 43],\n",
    "    }\n",
    "\n",
    "data_params = {\n",
    "    'model_name': ['clip'],\n",
    "    'projection': [False],\n",
    "    'normal': [False],\n",
    "    'curvature': [-0.10000000149011612],\n",
    "    'subset': [False],\n",
    "}"
   ]
  },
  {
   "cell_type": "code",
   "execution_count": 14,
   "metadata": {},
   "outputs": [
    {
     "name": "stderr",
     "output_type": "stream",
     "text": [
      "  0%|          | 0/2 [00:00<?, ?it/s]"
     ]
    },
    {
     "name": "stderr",
     "output_type": "stream",
     "text": [
      "Seed=43, max_depth=6: 100%|██████████| 2/2 [02:57<00:00, 88.65s/it]\n"
     ]
    }
   ],
   "source": [
    "param_keys = list(model_params.keys())\n",
    "param_values_list = list(product(*model_params.values()))\n",
    "params_list = [{key: val for key, val in zip(param_keys, param_values)} for param_values in param_values_list]\n",
    "results = []\n",
    "\n",
    "with tqdm(params_list) as pbar:\n",
    "    for params in pbar:\n",
    "        X_splits, y_splits = get_data(\n",
    "            model_name=data_params['model_name'][0],\n",
    "            projection=data_params['projection'][0],\n",
    "            normal=data_params['normal'][0],\n",
    "            curvature=data_params['curvature'][0],\n",
    "            subset=data_params['subset'][0]\n",
    "            )\n",
    "        pbar.set_description('Seed={}, max_depth={}'.format(\n",
    "            params['seed'], params['max_depth']))\n",
    "            \n",
    "        # unpack data\n",
    "        X_train, X_val = X_splits['train'], X_splits['val']\n",
    "        y_train, y_val = y_splits['train'], y_splits['val']\n",
    "        \n",
    "        # Fit, predict, and score sklearn decision tree\n",
    "        dt = SklearnDecisionTreeClassifier(max_depth=params['max_depth'], random_state=params['seed'])\n",
    "        dt.fit(X_train, y_train)\n",
    "        dt_acc = accuracy_score(y_val, dt.predict(X_val))\n",
    "            \n",
    "        # Fit, predict, and score sklearn random forest\n",
    "        rf = SklearnRandomForestClassifier(max_depth=params['max_depth'], random_state=params['seed'])\n",
    "        rf.fit(X_train, y_train)\n",
    "        rf_acc = accuracy_score(y_val, rf.predict(X_val))\n",
    "\n",
    "        # save results\n",
    "        # geo_model is the model of geometry that data is in when computing the distance \n",
    "        # don't worry, the data is always in the hyperboloid model when inputted into hdt\n",
    "        result =model_params | data_params | {'dt_acc': dt_acc, 'rf_acc': rf_acc}\n",
    "        results.append(result)\n",
    "            \n",
    "results = pd.DataFrame(results)"
   ]
  },
  {
   "cell_type": "code",
   "execution_count": 16,
   "metadata": {},
   "outputs": [
    {
     "data": {
      "text/html": [
       "<div>\n",
       "<style scoped>\n",
       "    .dataframe tbody tr th:only-of-type {\n",
       "        vertical-align: middle;\n",
       "    }\n",
       "\n",
       "    .dataframe tbody tr th {\n",
       "        vertical-align: top;\n",
       "    }\n",
       "\n",
       "    .dataframe thead th {\n",
       "        text-align: right;\n",
       "    }\n",
       "</style>\n",
       "<table border=\"1\" class=\"dataframe\">\n",
       "  <thead>\n",
       "    <tr style=\"text-align: right;\">\n",
       "      <th></th>\n",
       "      <th>max_depth</th>\n",
       "      <th>seed</th>\n",
       "      <th>model_name</th>\n",
       "      <th>projection</th>\n",
       "      <th>normal</th>\n",
       "      <th>curvature</th>\n",
       "      <th>subset</th>\n",
       "      <th>dt_acc</th>\n",
       "      <th>rf_acc</th>\n",
       "    </tr>\n",
       "  </thead>\n",
       "  <tbody>\n",
       "    <tr>\n",
       "      <th>0</th>\n",
       "      <td>[6]</td>\n",
       "      <td>[42, 43]</td>\n",
       "      <td>[clip]</td>\n",
       "      <td>[False]</td>\n",
       "      <td>[False]</td>\n",
       "      <td>[-0.10000000149011612]</td>\n",
       "      <td>[False]</td>\n",
       "      <td>0.1046</td>\n",
       "      <td>0.3714</td>\n",
       "    </tr>\n",
       "    <tr>\n",
       "      <th>1</th>\n",
       "      <td>[6]</td>\n",
       "      <td>[42, 43]</td>\n",
       "      <td>[clip]</td>\n",
       "      <td>[False]</td>\n",
       "      <td>[False]</td>\n",
       "      <td>[-0.10000000149011612]</td>\n",
       "      <td>[False]</td>\n",
       "      <td>0.1046</td>\n",
       "      <td>0.3676</td>\n",
       "    </tr>\n",
       "  </tbody>\n",
       "</table>\n",
       "</div>"
      ],
      "text/plain": [
       "  max_depth      seed model_name projection   normal               curvature  \\\n",
       "0       [6]  [42, 43]     [clip]    [False]  [False]  [-0.10000000149011612]   \n",
       "1       [6]  [42, 43]     [clip]    [False]  [False]  [-0.10000000149011612]   \n",
       "\n",
       "    subset  dt_acc  rf_acc  \n",
       "0  [False]  0.1046  0.3714  \n",
       "1  [False]  0.1046  0.3676  "
      ]
     },
     "execution_count": 16,
     "metadata": {},
     "output_type": "execute_result"
    }
   ],
   "source": [
    "results"
   ]
  }
 ],
 "metadata": {
  "kernelspec": {
   "display_name": "hdt",
   "language": "python",
   "name": "python3"
  },
  "language_info": {
   "codemirror_mode": {
    "name": "ipython",
    "version": 3
   },
   "file_extension": ".py",
   "mimetype": "text/x-python",
   "name": "python",
   "nbconvert_exporter": "python",
   "pygments_lexer": "ipython3",
   "version": "3.11.5"
  },
  "orig_nbformat": 4
 },
 "nbformat": 4,
 "nbformat_minor": 2
}
