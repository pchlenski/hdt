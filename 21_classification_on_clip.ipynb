{
 "cells": [
  {
   "cell_type": "markdown",
   "metadata": {},
   "source": [
    "# Classification on Clip"
   ]
  },
  {
   "cell_type": "markdown",
   "metadata": {},
   "source": [
    "### Setup"
   ]
  },
  {
   "cell_type": "code",
   "execution_count": 1,
   "metadata": {},
   "outputs": [],
   "source": [
    "%load_ext autoreload\n",
    "%autoreload 2"
   ]
  },
  {
   "cell_type": "markdown",
   "metadata": {},
   "source": [
    "### Get Data"
   ]
  },
  {
   "cell_type": "code",
   "execution_count": 2,
   "metadata": {},
   "outputs": [],
   "source": [
    "import pickle\n",
    "import numpy as np"
   ]
  },
  {
   "cell_type": "code",
   "execution_count": 3,
   "metadata": {},
   "outputs": [],
   "source": [
    "X_splits_path = 'cifar100/meru_projection_normal/image_feats.pickle'\n",
    "y_splits_path = 'cifar100/meru_projection_normal/labels.pickle'\n",
    "curvature = -0.10000000149011612"
   ]
  },
  {
   "cell_type": "code",
   "execution_count": 4,
   "metadata": {},
   "outputs": [],
   "source": [
    "# load data and seperate into train, val, test\n",
    "\n",
    "subset = 20\n",
    "\n",
    "with open(X_splits_path, 'rb') as f:\n",
    "    X_splits = pickle.load(f)\n",
    "    \n",
    "with open(y_splits_path, 'rb') as f:\n",
    "    y_splits = pickle.load(f)\n",
    "    \n",
    "X_train, X_val, X_test = X_splits['train'].numpy(), X_splits['val'].numpy(), X_splits['test'].numpy()\n",
    "y_train, y_val, y_test = y_splits['train'].numpy(), y_splits['val'].numpy(), y_splits['test'].numpy()\n",
    "\n",
    "if subset:\n",
    "    X_train, X_val, X_test = X_train[:subset], X_val[:subset], X_test[:subset]\n",
    "    y_train, y_val, y_test = y_train[:subset], y_val[:subset], y_test[:subset]"
   ]
  },
  {
   "cell_type": "code",
   "execution_count": 5,
   "metadata": {},
   "outputs": [],
   "source": [
    "# get time components on hyperboloid (we only loaded space components)\n",
    "\n",
    "def get_time(X, curvature=1):\n",
    "    curvature = abs(curvature)\n",
    "    x_time = np.sqrt(1 / curvature + np.sum(X**2, axis=-1))\n",
    "    return x_time\n",
    "\n",
    "X_train_time = get_time(X_train, curvature)\n",
    "X_val_time = get_time(X_val, curvature)\n",
    "X_test_time = get_time(X_test, curvature)\n",
    "\n",
    "X_train = np.concatenate([X_train_time[:, None], X_train], axis=-1)\n",
    "X_val = np.concatenate([X_val_time[:, None], X_val], axis=-1)\n",
    "X_test = np.concatenate([X_test_time[:, None], X_test], axis=-1)"
   ]
  },
  {
   "cell_type": "markdown",
   "metadata": {},
   "source": [
    "### Train Model"
   ]
  },
  {
   "cell_type": "code",
   "execution_count": 6,
   "metadata": {},
   "outputs": [],
   "source": [
    "from sklearn.metrics import accuracy_score\n",
    "from src.hyperdt.tree import HyperbolicDecisionTreeClassifier, DecisionTreeClassifier"
   ]
  },
  {
   "cell_type": "code",
   "execution_count": 7,
   "metadata": {},
   "outputs": [
    {
     "data": {
      "text/plain": [
       "0.0"
      ]
     },
     "execution_count": 7,
     "metadata": {},
     "output_type": "execute_result"
    }
   ],
   "source": [
    "dt = DecisionTreeClassifier(max_depth=3)\n",
    "dt.fit(X_train, y_train)\n",
    "y_pred = dt.predict(X_val)\n",
    "dt_acc = accuracy_score(y_val, y_pred)\n",
    "dt_acc"
   ]
  },
  {
   "cell_type": "code",
   "execution_count": 8,
   "metadata": {},
   "outputs": [
    {
     "data": {
      "text/plain": [
       "0.05"
      ]
     },
     "execution_count": 8,
     "metadata": {},
     "output_type": "execute_result"
    }
   ],
   "source": [
    "hdt = HyperbolicDecisionTreeClassifier(max_depth=3, curvature=curvature)\n",
    "hdt.fit(X_train, y_train)\n",
    "y_pred = hdt.predict(X_val)\n",
    "hdt_acc = accuracy_score(y_val, y_pred)\n",
    "hdt_acc"
   ]
  }
 ],
 "metadata": {
  "kernelspec": {
   "display_name": "hdt",
   "language": "python",
   "name": "python3"
  },
  "language_info": {
   "codemirror_mode": {
    "name": "ipython",
    "version": 3
   },
   "file_extension": ".py",
   "mimetype": "text/x-python",
   "name": "python",
   "nbconvert_exporter": "python",
   "pygments_lexer": "ipython3",
   "version": "3.11.5"
  },
  "orig_nbformat": 4
 },
 "nbformat": 4,
 "nbformat_minor": 2
}
