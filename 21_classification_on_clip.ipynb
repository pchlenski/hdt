{
 "cells": [
  {
   "cell_type": "markdown",
   "metadata": {},
   "source": [
    "# Classification on Clip"
   ]
  },
  {
   "cell_type": "code",
   "execution_count": 1,
   "metadata": {},
   "outputs": [],
   "source": [
    "%load_ext autoreload\n",
    "%autoreload 2"
   ]
  },
  {
   "cell_type": "markdown",
   "metadata": {},
   "source": [
    "### Get Data"
   ]
  },
  {
   "cell_type": "code",
   "execution_count": 2,
   "metadata": {},
   "outputs": [],
   "source": [
    "import pickle\n",
    "import numpy as np"
   ]
  },
  {
   "cell_type": "code",
   "execution_count": 3,
   "metadata": {},
   "outputs": [],
   "source": [
    "def get_time(X, curvature=1):\n",
    "    curvature = abs(curvature)\n",
    "    x_time = np.sqrt(1 / curvature + np.sum(X**2, axis=-1))\n",
    "    return x_time"
   ]
  },
  {
   "cell_type": "code",
   "execution_count": 4,
   "metadata": {},
   "outputs": [],
   "source": [
    "def get_data(model_dir, binarize=True, curvature=1, subset=False):\n",
    "    \n",
    "    # Define path to load data from\n",
    "    model_name = model_dir.split('/')[-1].split('_')[0]\n",
    "    \n",
    "    # load data\n",
    "    with open(model_dir + '/image_feats.pickle', 'rb') as f:\n",
    "        X_splits = pickle.load(f)\n",
    "    with open(model_dir + '/labels.pickle', 'rb') as f:\n",
    "        y_splits = pickle.load(f)\n",
    "    \n",
    "    # convert to numpy\n",
    "    X_splits = {split: X.numpy() for split, X in X_splits.items()}\n",
    "    y_splits = {split: y.numpy() for split, y in y_splits.items()}\n",
    "    \n",
    "    if binarize:\n",
    "        # source for idxs: https://keras.io/api/datasets/cifar10/\n",
    "        cat_idx, dog_idx = 3, 5\n",
    "        X_splits = {\n",
    "            split: X[(y_splits[split] == cat_idx) | (y_splits[split] == dog_idx)]\n",
    "            for split, X in X_splits.items()\n",
    "            }\n",
    "        y_splits = {\n",
    "            split: y[(y_splits[split] == cat_idx) | (y_splits[split] == dog_idx)]\n",
    "            for split, y in y_splits.items()\n",
    "        }\n",
    "\n",
    "    # take subset\n",
    "    if subset:\n",
    "        X_splits = {split: X[:subset[split]] for split, X in X_splits.items()}\n",
    "        y_splits = {split: y[:subset[split]] for split, y in y_splits.items()}\n",
    "        \n",
    "    # if meru, get time components on hyperboloid (we only loaded space\n",
    "    # components)\n",
    "    if model_name == 'meru':\n",
    "        X_splits = {\n",
    "            split: np.concatenate([get_time(X, curvature)[:, None], X], axis=-1)\n",
    "            for split, X in X_splits.items()\n",
    "            }\n",
    "        \n",
    "    return X_splits, y_splits"
   ]
  },
  {
   "cell_type": "code",
   "execution_count": 5,
   "metadata": {},
   "outputs": [],
   "source": [
    "model_name = 'meru'\n",
    "projection = True\n",
    "norm = True\n",
    "model_dir = '../hdt_meru/datasets/eval/cifar10/{}_E{}{}'.format(\n",
    "    model_name,\n",
    "    'P' if projection else 'X',\n",
    "    'N' if norm else 'X'\n",
    "    )\n",
    "\n",
    "curvature = 0.10000000149011612\n",
    "# subset = {'train': 100, 'val': 10, 'test': 20}\n",
    "subset = False\n",
    "binarize = False\n",
    "\n",
    "X_splits, y_splits = get_data(\n",
    "    model_dir, curvature=curvature, subset=subset\n",
    "    )"
   ]
  },
  {
   "cell_type": "markdown",
   "metadata": {},
   "source": [
    "### Hyperbolic RF"
   ]
  },
  {
   "cell_type": "code",
   "execution_count": 6,
   "metadata": {},
   "outputs": [],
   "source": [
    "from sklearn.metrics import accuracy_score\n",
    "\n",
    "from src.hyperdt.forest import HyperbolicRandomForestClassifier"
   ]
  },
  {
   "cell_type": "code",
   "execution_count": 7,
   "metadata": {},
   "outputs": [],
   "source": [
    "from sklearn.metrics import confusion_matrix\n",
    "\n",
    "def top1perclassaccuracy(y_pred, y_true):\n",
    "    cm = confusion_matrix(y_true, y_pred, labels=np.unique(y_true))\n",
    "    per_class = np.diag(cm) / np.sum(cm, axis=1)\n",
    "\n",
    "    return np.mean(per_class)"
   ]
  },
  {
   "cell_type": "code",
   "execution_count": 8,
   "metadata": {},
   "outputs": [
    {
     "name": "stderr",
     "output_type": "stream",
     "text": [
      "  0%|          | 0/10 [00:00<?, ?it/s]"
     ]
    },
    {
     "name": "stderr",
     "output_type": "stream",
     "text": [
      "100%|██████████| 10/10 [00:00<00:00, 213.35it/s]\n"
     ]
    },
    {
     "data": {
      "text/html": [
       "<style>#sk-container-id-1 {color: black;}#sk-container-id-1 pre{padding: 0;}#sk-container-id-1 div.sk-toggleable {background-color: white;}#sk-container-id-1 label.sk-toggleable__label {cursor: pointer;display: block;width: 100%;margin-bottom: 0;padding: 0.3em;box-sizing: border-box;text-align: center;}#sk-container-id-1 label.sk-toggleable__label-arrow:before {content: \"▸\";float: left;margin-right: 0.25em;color: #696969;}#sk-container-id-1 label.sk-toggleable__label-arrow:hover:before {color: black;}#sk-container-id-1 div.sk-estimator:hover label.sk-toggleable__label-arrow:before {color: black;}#sk-container-id-1 div.sk-toggleable__content {max-height: 0;max-width: 0;overflow: hidden;text-align: left;background-color: #f0f8ff;}#sk-container-id-1 div.sk-toggleable__content pre {margin: 0.2em;color: black;border-radius: 0.25em;background-color: #f0f8ff;}#sk-container-id-1 input.sk-toggleable__control:checked~div.sk-toggleable__content {max-height: 200px;max-width: 100%;overflow: auto;}#sk-container-id-1 input.sk-toggleable__control:checked~label.sk-toggleable__label-arrow:before {content: \"▾\";}#sk-container-id-1 div.sk-estimator input.sk-toggleable__control:checked~label.sk-toggleable__label {background-color: #d4ebff;}#sk-container-id-1 div.sk-label input.sk-toggleable__control:checked~label.sk-toggleable__label {background-color: #d4ebff;}#sk-container-id-1 input.sk-hidden--visually {border: 0;clip: rect(1px 1px 1px 1px);clip: rect(1px, 1px, 1px, 1px);height: 1px;margin: -1px;overflow: hidden;padding: 0;position: absolute;width: 1px;}#sk-container-id-1 div.sk-estimator {font-family: monospace;background-color: #f0f8ff;border: 1px dotted black;border-radius: 0.25em;box-sizing: border-box;margin-bottom: 0.5em;}#sk-container-id-1 div.sk-estimator:hover {background-color: #d4ebff;}#sk-container-id-1 div.sk-parallel-item::after {content: \"\";width: 100%;border-bottom: 1px solid gray;flex-grow: 1;}#sk-container-id-1 div.sk-label:hover label.sk-toggleable__label {background-color: #d4ebff;}#sk-container-id-1 div.sk-serial::before {content: \"\";position: absolute;border-left: 1px solid gray;box-sizing: border-box;top: 0;bottom: 0;left: 50%;z-index: 0;}#sk-container-id-1 div.sk-serial {display: flex;flex-direction: column;align-items: center;background-color: white;padding-right: 0.2em;padding-left: 0.2em;position: relative;}#sk-container-id-1 div.sk-item {position: relative;z-index: 1;}#sk-container-id-1 div.sk-parallel {display: flex;align-items: stretch;justify-content: center;background-color: white;position: relative;}#sk-container-id-1 div.sk-item::before, #sk-container-id-1 div.sk-parallel-item::before {content: \"\";position: absolute;border-left: 1px solid gray;box-sizing: border-box;top: 0;bottom: 0;left: 50%;z-index: -1;}#sk-container-id-1 div.sk-parallel-item {display: flex;flex-direction: column;z-index: 1;position: relative;background-color: white;}#sk-container-id-1 div.sk-parallel-item:first-child::after {align-self: flex-end;width: 50%;}#sk-container-id-1 div.sk-parallel-item:last-child::after {align-self: flex-start;width: 50%;}#sk-container-id-1 div.sk-parallel-item:only-child::after {width: 0;}#sk-container-id-1 div.sk-dashed-wrapped {border: 1px dashed gray;margin: 0 0.4em 0.5em 0.4em;box-sizing: border-box;padding-bottom: 0.4em;background-color: white;}#sk-container-id-1 div.sk-label label {font-family: monospace;font-weight: bold;display: inline-block;line-height: 1.2em;}#sk-container-id-1 div.sk-label-container {text-align: center;}#sk-container-id-1 div.sk-container {/* jupyter's `normalize.less` sets `[hidden] { display: none; }` but bootstrap.min.css set `[hidden] { display: none !important; }` so we also need the `!important` here to be able to override the default hidden behavior on the sphinx rendered scikit-learn.org. See: https://github.com/scikit-learn/scikit-learn/issues/21755 */display: inline-block !important;position: relative;}#sk-container-id-1 div.sk-text-repr-fallback {display: none;}</style><div id=\"sk-container-id-1\" class=\"sk-top-container\"><div class=\"sk-text-repr-fallback\"><pre>HyperbolicRandomForestClassifier(curvature=0.10000000149011612)</pre><b>In a Jupyter environment, please rerun this cell to show the HTML representation or trust the notebook. <br />On GitHub, the HTML representation is unable to render, please try loading this page with nbviewer.org.</b></div><div class=\"sk-container\" hidden><div class=\"sk-item\"><div class=\"sk-estimator sk-toggleable\"><input class=\"sk-toggleable__control sk-hidden--visually\" id=\"sk-estimator-id-1\" type=\"checkbox\" checked><label for=\"sk-estimator-id-1\" class=\"sk-toggleable__label sk-toggleable__label-arrow\">HyperbolicRandomForestClassifier</label><div class=\"sk-toggleable__content\"><pre>HyperbolicRandomForestClassifier(curvature=0.10000000149011612)</pre></div></div></div></div></div>"
      ],
      "text/plain": [
       "HyperbolicRandomForestClassifier(curvature=0.10000000149011612)"
      ]
     },
     "execution_count": 8,
     "metadata": {},
     "output_type": "execute_result"
    }
   ],
   "source": [
    "hrf = HyperbolicRandomForestClassifier(random_state=42, curvature=curvature, n_estimators=10, max_depth=5)\n",
    "hrf.fit(X_splits['train'], y_splits['train'], use_tqdm=True)"
   ]
  },
  {
   "cell_type": "code",
   "execution_count": 14,
   "metadata": {},
   "outputs": [
    {
     "data": {
      "text/plain": [
       "0.862"
      ]
     },
     "execution_count": 14,
     "metadata": {},
     "output_type": "execute_result"
    }
   ],
   "source": [
    "y_pred = hrf.predict(X_splits['test'])\n",
    "# hrf_acc = accuracy_score(y_splits['test'], y_pred)\n",
    "hrf_acc = top1perclassaccuracy(y_pred, y_splits['test'])\n",
    "hrf_acc"
   ]
  },
  {
   "cell_type": "code",
   "execution_count": 16,
   "metadata": {},
   "outputs": [],
   "source": [
    "pickle.dump(hrf, open('/home/phil/hrf_cifar10.pickle', 'wb')) # phil because I'm running this as myself -phil"
   ]
  },
  {
   "cell_type": "code",
   "execution_count": 17,
   "metadata": {},
   "outputs": [],
   "source": [
    "from sklearn.ensemble import RandomForestClassifier as SklearnRandomForestClassifier"
   ]
  },
  {
   "cell_type": "code",
   "execution_count": 18,
   "metadata": {},
   "outputs": [
    {
     "data": {
      "text/plain": [
       "0.8505"
      ]
     },
     "execution_count": 18,
     "metadata": {},
     "output_type": "execute_result"
    }
   ],
   "source": [
    "erf = SklearnRandomForestClassifier(random_state=42, n_estimators=10, max_depth=5)\n",
    "erf.fit(X_splits['train'], y_splits['train'])\n",
    "y_pred = erf.predict(X_splits['test'])\n",
    "# erf_acc = accuracy_score(y_splits['test'], y_pred)\n",
    "erf_acc = top1perclassaccuracy(y_pred, y_splits['test'])\n",
    "erf_acc"
   ]
  },
  {
   "cell_type": "markdown",
   "metadata": {},
   "source": [
    "### Train Model"
   ]
  },
  {
   "cell_type": "code",
   "execution_count": 12,
   "metadata": {},
   "outputs": [],
   "source": [
    "from sklearn.metrics import accuracy_score\n",
    "from src.hyperdt.tree import HyperbolicDecisionTreeClassifier, DecisionTreeClassifier"
   ]
  },
  {
   "cell_type": "code",
   "execution_count": 13,
   "metadata": {},
   "outputs": [
    {
     "ename": "NameError",
     "evalue": "name 'X_train' is not defined",
     "output_type": "error",
     "traceback": [
      "\u001b[0;31m---------------------------------------------------------------------------\u001b[0m",
      "\u001b[0;31mNameError\u001b[0m                                 Traceback (most recent call last)",
      "\u001b[1;32m/home/ethan/hdt/21_classification_on_clip.ipynb Cell 18\u001b[0m line \u001b[0;36m2\n\u001b[1;32m      <a href='vscode-notebook-cell://ssh-remote%2Baeolus/home/ethan/hdt/21_classification_on_clip.ipynb#X21sdnNjb2RlLXJlbW90ZQ%3D%3D?line=0'>1</a>\u001b[0m dt \u001b[39m=\u001b[39m DecisionTreeClassifier(max_depth\u001b[39m=\u001b[39m\u001b[39m3\u001b[39m)\n\u001b[0;32m----> <a href='vscode-notebook-cell://ssh-remote%2Baeolus/home/ethan/hdt/21_classification_on_clip.ipynb#X21sdnNjb2RlLXJlbW90ZQ%3D%3D?line=1'>2</a>\u001b[0m dt\u001b[39m.\u001b[39mfit(X_train, y_train)\n\u001b[1;32m      <a href='vscode-notebook-cell://ssh-remote%2Baeolus/home/ethan/hdt/21_classification_on_clip.ipynb#X21sdnNjb2RlLXJlbW90ZQ%3D%3D?line=2'>3</a>\u001b[0m y_pred \u001b[39m=\u001b[39m dt\u001b[39m.\u001b[39mpredict(X_val)\n\u001b[1;32m      <a href='vscode-notebook-cell://ssh-remote%2Baeolus/home/ethan/hdt/21_classification_on_clip.ipynb#X21sdnNjb2RlLXJlbW90ZQ%3D%3D?line=3'>4</a>\u001b[0m dt_acc \u001b[39m=\u001b[39m accuracy_score(y_val, y_pred)\n",
      "\u001b[0;31mNameError\u001b[0m: name 'X_train' is not defined"
     ]
    }
   ],
   "source": [
    "dt = DecisionTreeClassifier(max_depth=3)\n",
    "dt.fit(X_train, y_train)\n",
    "y_pred = dt.predict(X_val)\n",
    "dt_acc = accuracy_score(y_val, y_pred)\n",
    "dt_acc"
   ]
  },
  {
   "cell_type": "code",
   "execution_count": null,
   "metadata": {},
   "outputs": [],
   "source": [
    "hdt = HyperbolicDecisionTreeClassifier(max_depth=3, curvature=curvature)\n",
    "hdt.fit(X_train, y_train)\n",
    "y_pred = hdt.predict(X_val)\n",
    "hdt_acc = accuracy_score(y_val, y_pred)\n",
    "hdt_acc"
   ]
  },
  {
   "cell_type": "code",
   "execution_count": null,
   "metadata": {},
   "outputs": [],
   "source": [
    "from sklearn.tree import DecisionTreeClassifier as SklearnDecisionTreeClassifier\n",
    "from sklearn.ensemble import RandomForestClassifier as SklearnRandomForestClassifier"
   ]
  },
  {
   "cell_type": "code",
   "execution_count": null,
   "metadata": {},
   "outputs": [],
   "source": [
    "sdt = SklearnDecisionTreeClassifier(max_depth=15, random_state=42)\n",
    "sdt.fit(X_splits['train'], y_splits['train'])\n",
    "y_pred = sdt.predict(X_splits['val'])"
   ]
  },
  {
   "cell_type": "code",
   "execution_count": null,
   "metadata": {},
   "outputs": [],
   "source": [
    "std_train_acc = accuracy_score(y_splits['train'], sdt.predict(X_splits['train']))\n",
    "sdt_val_acc = accuracy_score(y_splits['val'], sdt.predict(X_splits['val']))\n",
    "\n",
    "print('sklearn train acc: ', std_train_acc)\n",
    "print('sklearn val acc: ', sdt_val_acc)"
   ]
  },
  {
   "cell_type": "code",
   "execution_count": null,
   "metadata": {},
   "outputs": [],
   "source": [
    "max_depth=6"
   ]
  },
  {
   "cell_type": "code",
   "execution_count": null,
   "metadata": {},
   "outputs": [],
   "source": [
    "from itertools import product\n",
    "\n",
    "import pandas as pd\n",
    "from tqdm import tqdm"
   ]
  },
  {
   "cell_type": "code",
   "execution_count": null,
   "metadata": {},
   "outputs": [],
   "source": [
    "model_params = {\n",
    "    'max_depth': [6],\n",
    "    'seed': [42, 43],\n",
    "    }\n",
    "\n",
    "data_params = {\n",
    "    'model_name': ['clip'],\n",
    "    'projection': [False],\n",
    "    'normal': [False],\n",
    "    'curvature': [-0.10000000149011612],\n",
    "    'subset': [False],\n",
    "}"
   ]
  },
  {
   "cell_type": "code",
   "execution_count": null,
   "metadata": {},
   "outputs": [],
   "source": [
    "param_keys = list(model_params.keys())\n",
    "param_values_list = list(product(*model_params.values()))\n",
    "params_list = [{key: val for key, val in zip(param_keys, param_values)} for param_values in param_values_list]\n",
    "results = []\n",
    "\n",
    "with tqdm(params_list) as pbar:\n",
    "    for params in pbar:\n",
    "        X_splits, y_splits = get_data(\n",
    "            model_name=data_params['model_name'][0],\n",
    "            projection=data_params['projection'][0],\n",
    "            normal=data_params['normal'][0],\n",
    "            curvature=data_params['curvature'][0],\n",
    "            subset=data_params['subset'][0]\n",
    "            )\n",
    "        pbar.set_description('Seed={}, max_depth={}'.format(\n",
    "            params['seed'], params['max_depth']))\n",
    "            \n",
    "        # unpack data\n",
    "        X_train, X_val = X_splits['train'], X_splits['val']\n",
    "        y_train, y_val = y_splits['train'], y_splits['val']\n",
    "        \n",
    "        # Fit, predict, and score sklearn decision tree\n",
    "        dt = SklearnDecisionTreeClassifier(max_depth=params['max_depth'], random_state=params['seed'])\n",
    "        dt.fit(X_train, y_train)\n",
    "        dt_acc = accuracy_score(y_val, dt.predict(X_val))\n",
    "            \n",
    "        # Fit, predict, and score sklearn random forest\n",
    "        rf = SklearnRandomForestClassifier(max_depth=params['max_depth'], random_state=params['seed'])\n",
    "        rf.fit(X_train, y_train)\n",
    "        rf_acc = accuracy_score(y_val, rf.predict(X_val))\n",
    "\n",
    "        # save results\n",
    "        # geo_model is the model of geometry that data is in when computing the distance \n",
    "        # don't worry, the data is always in the hyperboloid model when inputted into hdt\n",
    "        result =model_params | data_params | {'dt_acc': dt_acc, 'rf_acc': rf_acc}\n",
    "        results.append(result)\n",
    "            \n",
    "results = pd.DataFrame(results)"
   ]
  },
  {
   "cell_type": "code",
   "execution_count": null,
   "metadata": {},
   "outputs": [],
   "source": [
    "results"
   ]
  }
 ],
 "metadata": {
  "kernelspec": {
   "display_name": "hdt",
   "language": "python",
   "name": "python3"
  },
  "language_info": {
   "codemirror_mode": {
    "name": "ipython",
    "version": 3
   },
   "file_extension": ".py",
   "mimetype": "text/x-python",
   "name": "python",
   "nbconvert_exporter": "python",
   "pygments_lexer": "ipython3",
   "version": "3.11.4"
  },
  "orig_nbformat": 4
 },
 "nbformat": 4,
 "nbformat_minor": 2
}
