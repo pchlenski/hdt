{
 "cells": [
  {
   "cell_type": "code",
   "execution_count": 1,
   "metadata": {},
   "outputs": [],
   "source": [
    "%load_ext autoreload\n",
    "%autoreload 2"
   ]
  },
  {
   "cell_type": "code",
   "execution_count": 16,
   "metadata": {},
   "outputs": [],
   "source": [
    "import os\n",
    "\n",
    "import networkx as nx\n",
    "import pandas as pd\n",
    "import numpy as np\n",
    "import matplotlib.pyplot as plt\n",
    "\n",
    "from geomstats.datasets.prepare_graph_data import HyperbolicEmbedding, Graph\n",
    "\n",
    "from sklearn.model_selection import KFold\n",
    "\n",
    "from src.hyperdt.tree import DecisionTreeClassifier, HyperbolicDecisionTreeClassifier"
   ]
  },
  {
   "cell_type": "code",
   "execution_count": 17,
   "metadata": {},
   "outputs": [],
   "source": [
    "EPOCHS = 2"
   ]
  },
  {
   "cell_type": "code",
   "execution_count": 18,
   "metadata": {},
   "outputs": [],
   "source": [
    "# Copied from 17_graphs_2.ipynb\n",
    "\n",
    "def load_graph(graph_dir, graph_type=\"directed\", edge_type=\"unweighted\", add_isolates=False, top_cc=False):\n",
    "    # Specify paths\n",
    "    adjacency_path = f\"{graph_dir}/adjacency.tsv\"\n",
    "    dense_adjacency_path = f\"{graph_dir.replace('/raw/', '/interim/')}/adjacency_dense.tsv\"\n",
    "    labels_path = f\"{graph_dir}/labels.tsv\"\n",
    "    label_names_path = f\"{graph_dir}/names_labels.tsv\"\n",
    "    names_path = f\"{graph_dir}/names.tsv\"\n",
    "\n",
    "    # Adjacency matrix: (out_node, in_node)\n",
    "    adjacency = pd.read_table(adjacency_path, header=None, usecols=[0, 1])\n",
    "\n",
    "    # Labels: (label, )\n",
    "    labels = pd.read_table(labels_path, header=None, usecols=[0])[0]\n",
    "\n",
    "    # Label name: (label_name, )\n",
    "    if os.path.exists(label_names_path):\n",
    "        label_names = pd.read_table(label_names_path, header=None, usecols=[0])[0]\n",
    "    else:\n",
    "        label_names = pd.Series(labels[0].unique()).reset_index()\n",
    "\n",
    "    # Node name: (node_name, )\n",
    "    if os.path.exists(names_path):\n",
    "        names = pd.read_table(names_path, header=None, usecols=[0])[0]\n",
    "    else:\n",
    "        names = pd.Series(np.arange(len(labels))).reset_index()\n",
    "\n",
    "    # Networkx object\n",
    "    base_graph = nx.DiGraph if graph_type == \"directed\" else nx.Graph\n",
    "    networkx_graph = nx.from_pandas_edgelist(adjacency, source=0, target=1, create_using=base_graph)\n",
    "    if add_isolates:\n",
    "        networkx_graph.add_nodes_from(names.index)\n",
    "\n",
    "    # Add names and labels to nodes\n",
    "    nx.set_node_attributes(networkx_graph, dict(zip(names.index, labels)), \"label\")\n",
    "    networkx_graph = nx.relabel_nodes(networkx_graph, dict(zip(names.index, names)))\n",
    "\n",
    "    # Get connected components\n",
    "    if top_cc:\n",
    "        networkx_graph = networkx_graph.subgraph(max(nx.connected_components(networkx_graph), key=len))\n",
    "\n",
    "    # Pairwise distances\n",
    "    distances = nx.floyd_warshall_numpy(networkx_graph)\n",
    "\n",
    "    # Geomstats object\n",
    "    dense_adjacency = nx.to_numpy_array(networkx_graph)\n",
    "    np.savetxt(dense_adjacency_path, dense_adjacency, fmt=\"%d\", delimiter=\"\\t\")\n",
    "    geomstats_graph = Graph(graph_matrix_path=dense_adjacency_path, labels_path=labels_path)\n",
    "\n",
    "    return {\n",
    "        \"labels\": list(networkx_graph.nodes(data=\"label\")),\n",
    "        \"label_names\": list(label_names),\n",
    "        \"names\": list(networkx_graph.nodes()),\n",
    "        \"networkx_graph\": networkx_graph,\n",
    "        \"geomstats_graph\": geomstats_graph,\n",
    "        \"distances\": distances,\n",
    "    }\n",
    "\n",
    "\n",
    "polblogs = load_graph(\"data/raw/polblogs\", graph_type=\"undirected\", top_cc=True)"
   ]
  },
  {
   "cell_type": "code",
   "execution_count": 20,
   "metadata": {},
   "outputs": [
    {
     "name": "stderr",
     "output_type": "stream",
     "text": [
      "INFO: Number of edges: 1222\n",
      "INFO: Mean vertices by edges: 27.357610474631752\n",
      "INFO: iteration 0 loss_value 1.940278\n"
     ]
    }
   ],
   "source": [
    "# Embeddings at different dimensions\n",
    "\n",
    "for embed_dim in [2, 4, 8, 16]:\n",
    "    hyp_emb = HyperbolicEmbedding(dim=embed_dim, n_negative=20, n_context=20, lr=1e-2, max_epochs=EPOCHS)\n",
    "    polblogs_gs_embed = hyp_emb.embed(polblogs[\"geomstats_graph\"])\n",
    "    print(f\"Embedding shape: {polblogs_gs_embed.shape}\")\n"
   ]
  },
  {
   "cell_type": "code",
   "execution_count": null,
   "metadata": {},
   "outputs": [],
   "source": []
  }
 ],
 "metadata": {
  "kernelspec": {
   "display_name": "hdt",
   "language": "python",
   "name": "python3"
  },
  "language_info": {
   "codemirror_mode": {
    "name": "ipython",
    "version": 3
   },
   "file_extension": ".py",
   "mimetype": "text/x-python",
   "name": "python",
   "nbconvert_exporter": "python",
   "pygments_lexer": "ipython3",
   "version": "3.11.4"
  },
  "orig_nbformat": 4
 },
 "nbformat": 4,
 "nbformat_minor": 2
}
