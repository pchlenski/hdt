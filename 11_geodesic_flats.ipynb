{
 "cells": [
  {
   "cell_type": "markdown",
   "metadata": {},
   "source": [
    "# Geodesic flats\n",
    "> Verify that the normal vector formulation generalizes to higher dimensions"
   ]
  },
  {
   "cell_type": "code",
   "execution_count": 17,
   "metadata": {},
   "outputs": [],
   "source": [
    "%load_ext autoreload\n",
    "%autoreload 2"
   ]
  },
  {
   "cell_type": "code",
   "execution_count": 23,
   "metadata": {},
   "outputs": [],
   "source": [
    "import numpy as np\n",
    "import matplotlib.pyplot as plt\n",
    "\n",
    "from geomstats.visualization import plot as gplot\n",
    "from geomstats.geometry.hyperbolic import Hyperbolic\n",
    "\n",
    "from src.hyperdt.geodesics import (\n",
    "    generate_hyperboloid_points,\n",
    "    get_geodesic,\n",
    "    _compute_x_u,\n",
    "    _B,\n",
    ")\n"
   ]
  },
  {
   "cell_type": "markdown",
   "metadata": {},
   "source": [
    "# Show geodesics between two points in H+ stay in H+"
   ]
  },
  {
   "cell_type": "code",
   "execution_count": 22,
   "metadata": {},
   "outputs": [
    {
     "name": "stdout",
     "output_type": "stream",
     "text": [
      "BILINEAR 0.09074452219350086\n"
     ]
    },
    {
     "ename": "AssertionError",
     "evalue": "B(x, u) not equal to 0",
     "output_type": "error",
     "traceback": [
      "\u001b[0;31m---------------------------------------------------------------------------\u001b[0m",
      "\u001b[0;31mAssertionError\u001b[0m                            Traceback (most recent call last)",
      "Cell \u001b[0;32mIn[22], line 2\u001b[0m\n\u001b[1;32m      1\u001b[0m p1, p2 \u001b[39m=\u001b[39m generate_hyperboloid_points(\u001b[39m2\u001b[39m, \u001b[39m2\u001b[39m)\n\u001b[0;32m----> 2\u001b[0m geodesic \u001b[39m=\u001b[39m get_geodesic(p1, p2)\n",
      "File \u001b[0;32m~/hdt/src/hyperdt/geodesics.py:92\u001b[0m, in \u001b[0;36mget_geodesic\u001b[0;34m(p1, p2, n_points)\u001b[0m\n\u001b[1;32m     90\u001b[0m _test_hyperboloid_points(np\u001b[39m.\u001b[39mstack([p1, p1], axis\u001b[39m=\u001b[39m\u001b[39m0\u001b[39m))\n\u001b[1;32m     91\u001b[0m x, u \u001b[39m=\u001b[39m _compute_x_u(p1, p2)\n\u001b[0;32m---> 92\u001b[0m _test_x_u(x, u)\n\u001b[1;32m     93\u001b[0m \u001b[39m# _test_x_u_p1_p2(x, u, p1, p2)\u001b[39;00m\n\u001b[1;32m     94\u001b[0m w \u001b[39m=\u001b[39m np\u001b[39m.\u001b[39mlinspace(\u001b[39m-\u001b[39m\u001b[39m1\u001b[39m, \u001b[39m1\u001b[39m, n_points)\u001b[39m.\u001b[39mreshape(\u001b[39m-\u001b[39m\u001b[39m1\u001b[39m, \u001b[39m1\u001b[39m)  \u001b[39m# Parameterized by w\u001b[39;00m\n",
      "File \u001b[0;32m~/hdt/src/hyperdt/geodesics.py:59\u001b[0m, in \u001b[0;36m_test_x_u\u001b[0;34m(x, u)\u001b[0m\n\u001b[1;32m     57\u001b[0m \u001b[39massert\u001b[39;00m np\u001b[39m.\u001b[39misclose(_B(x, x), \u001b[39m-\u001b[39m\u001b[39m1\u001b[39m), \u001b[39m\"\u001b[39m\u001b[39mB(x, x) not equal to -1\u001b[39m\u001b[39m\"\u001b[39m\n\u001b[1;32m     58\u001b[0m \u001b[39massert\u001b[39;00m np\u001b[39m.\u001b[39misclose(_B(u, u), \u001b[39m1\u001b[39m), \u001b[39m\"\u001b[39m\u001b[39mB(u, u) not equal to 1\u001b[39m\u001b[39m\"\u001b[39m\n\u001b[0;32m---> 59\u001b[0m \u001b[39massert\u001b[39;00m np\u001b[39m.\u001b[39misclose(_B(x, u), \u001b[39m0\u001b[39m), \u001b[39m\"\u001b[39m\u001b[39mB(x, u) not equal to 0\u001b[39m\u001b[39m\"\u001b[39m\n\u001b[1;32m     60\u001b[0m \u001b[39massert\u001b[39;00m np\u001b[39m.\u001b[39misclose(_B(u, x), \u001b[39m0\u001b[39m), \u001b[39m\"\u001b[39m\u001b[39mB(u, x) not equal to 0\u001b[39m\u001b[39m\"\u001b[39m\n\u001b[1;32m     61\u001b[0m \u001b[39mreturn\u001b[39;00m \u001b[39mTrue\u001b[39;00m\n",
      "\u001b[0;31mAssertionError\u001b[0m: B(x, u) not equal to 0"
     ]
    }
   ],
   "source": [
    "p1, p2 = generate_hyperboloid_points(2, 2)\n",
    "geodesic = get_geodesic(p1, p2)\n"
   ]
  },
  {
   "cell_type": "code",
   "execution_count": 24,
   "metadata": {},
   "outputs": [
    {
     "name": "stdout",
     "output_type": "stream",
     "text": [
      "BILINEAR 0.09074452219350086\n"
     ]
    }
   ],
   "source": [
    "x, u = _compute_x_u(p1, p2)"
   ]
  },
  {
   "cell_type": "code",
   "execution_count": null,
   "metadata": {},
   "outputs": [],
   "source": []
  }
 ],
 "metadata": {
  "kernelspec": {
   "display_name": "hdt",
   "language": "python",
   "name": "python3"
  },
  "language_info": {
   "codemirror_mode": {
    "name": "ipython",
    "version": 3
   },
   "file_extension": ".py",
   "mimetype": "text/x-python",
   "name": "python",
   "nbconvert_exporter": "python",
   "pygments_lexer": "ipython3",
   "version": "3.11.4"
  },
  "orig_nbformat": 4
 },
 "nbformat": 4,
 "nbformat_minor": 2
}
