{
 "cells": [
  {
   "cell_type": "markdown",
   "metadata": {},
   "source": [
    "# Geodesic flats\n",
    "> Verify that the normal vector formulation generalizes to higher dimensions"
   ]
  },
  {
   "cell_type": "code",
   "execution_count": 1,
   "metadata": {},
   "outputs": [],
   "source": [
    "%load_ext autoreload\n",
    "%autoreload 2"
   ]
  },
  {
   "cell_type": "code",
   "execution_count": 44,
   "metadata": {},
   "outputs": [],
   "source": [
    "import numpy as np\n",
    "import matplotlib.pyplot as plt\n",
    "\n",
    "from geomstats.visualization import plot as gplot\n",
    "from geomstats.geometry.hyperbolic import Hyperbolic\n",
    "\n",
    "from src.hyperdt.geodesics import generate_hyperboloid_points, get_geodesic\n"
   ]
  },
  {
   "cell_type": "markdown",
   "metadata": {},
   "source": [
    "# Show geodesics between two points in H+ stay in H+"
   ]
  },
  {
   "cell_type": "code",
   "execution_count": 48,
   "metadata": {},
   "outputs": [
    {
     "ename": "AttributeError",
     "evalue": "'Hyperboloid' object has no attribute 'to_coords'",
     "output_type": "error",
     "traceback": [
      "\u001b[0;31m---------------------------------------------------------------------------\u001b[0m",
      "\u001b[0;31mAttributeError\u001b[0m                            Traceback (most recent call last)",
      "Cell \u001b[0;32mIn[48], line 4\u001b[0m\n\u001b[1;32m      1\u001b[0m manifold \u001b[39m=\u001b[39m Hyperbolic(\u001b[39m2\u001b[39m, default_coords_type\u001b[39m=\u001b[39m\u001b[39m\"\u001b[39m\u001b[39mextrinsic\u001b[39m\u001b[39m\"\u001b[39m)\n\u001b[1;32m      3\u001b[0m \u001b[39m# Convert p1 to intrinsic coordinates\u001b[39;00m\n\u001b[0;32m----> 4\u001b[0m p1_poincare \u001b[39m=\u001b[39m manifold\u001b[39m.\u001b[39mto_coords(p1, \u001b[39m\"\u001b[39m\u001b[39mintrinsic\u001b[39m\u001b[39m\"\u001b[39m)\n\u001b[1;32m      5\u001b[0m p1_poincare\n",
      "\u001b[0;31mAttributeError\u001b[0m: 'Hyperboloid' object has no attribute 'to_coords'"
     ]
    }
   ],
   "source": [
    "manifold = Hyperbolic(2, default_coords_type=\"extrinsic\")\n",
    "\n",
    "# Convert p1 to intrinsic coordinates\n",
    "p1_poincare = manifold.\n",
    "p1_poincare"
   ]
  },
  {
   "cell_type": "code",
   "execution_count": 50,
   "metadata": {},
   "outputs": [
    {
     "data": {
      "text/plain": [
       "array([0.07457017, 0.93726557])"
      ]
     },
     "execution_count": 50,
     "metadata": {},
     "output_type": "execute_result"
    }
   ],
   "source": [
    "manifold.extrinsic_to_intrinsic_coords(p1)\n"
   ]
  },
  {
   "cell_type": "code",
   "execution_count": null,
   "metadata": {},
   "outputs": [],
   "source": [
    "# This isn't right at all...\n"
   ]
  }
 ],
 "metadata": {
  "kernelspec": {
   "display_name": "hdt",
   "language": "python",
   "name": "python3"
  },
  "language_info": {
   "codemirror_mode": {
    "name": "ipython",
    "version": 3
   },
   "file_extension": ".py",
   "mimetype": "text/x-python",
   "name": "python",
   "nbconvert_exporter": "python",
   "pygments_lexer": "ipython3",
   "version": "3.11.4"
  },
  "orig_nbformat": 4
 },
 "nbformat": 4,
 "nbformat_minor": 2
}
