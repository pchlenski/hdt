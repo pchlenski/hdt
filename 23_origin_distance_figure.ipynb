{
 "cells": [
  {
   "cell_type": "code",
   "execution_count": 1,
   "metadata": {},
   "outputs": [],
   "source": [
    "%load_ext autoreload\n",
    "%autoreload 2"
   ]
  },
  {
   "cell_type": "code",
   "execution_count": 2,
   "metadata": {},
   "outputs": [],
   "source": [
    "from pathlib import Path\n",
    "\n",
    "import pandas as pd"
   ]
  },
  {
   "cell_type": "code",
   "execution_count": 3,
   "metadata": {},
   "outputs": [],
   "source": [
    "outpath = Path('results/origin_distance_mse.tsv')"
   ]
  },
  {
   "cell_type": "code",
   "execution_count": 4,
   "metadata": {},
   "outputs": [
    {
     "data": {
      "text/html": [
       "<div>\n",
       "<style scoped>\n",
       "    .dataframe tbody tr th:only-of-type {\n",
       "        vertical-align: middle;\n",
       "    }\n",
       "\n",
       "    .dataframe tbody tr th {\n",
       "        vertical-align: top;\n",
       "    }\n",
       "\n",
       "    .dataframe thead th {\n",
       "        text-align: right;\n",
       "    }\n",
       "</style>\n",
       "<table border=\"1\" class=\"dataframe\">\n",
       "  <thead>\n",
       "    <tr style=\"text-align: right;\">\n",
       "      <th></th>\n",
       "      <th>model of geometry</th>\n",
       "      <th>distance function</th>\n",
       "      <th>hdt_reg_mse</th>\n",
       "      <th>edt_reg_mse</th>\n",
       "      <th>max_depth</th>\n",
       "      <th>n_dim</th>\n",
       "      <th>seed</th>\n",
       "      <th>noise_std</th>\n",
       "      <th>n_samples</th>\n",
       "      <th>n_classes</th>\n",
       "    </tr>\n",
       "  </thead>\n",
       "  <tbody>\n",
       "    <tr>\n",
       "      <th>0</th>\n",
       "      <td>poincare</td>\n",
       "      <td>euclidean</td>\n",
       "      <td>8.711850e-04</td>\n",
       "      <td>2.149039e+05</td>\n",
       "      <td>5</td>\n",
       "      <td>2</td>\n",
       "      <td>42</td>\n",
       "      <td>0.1</td>\n",
       "      <td>1000</td>\n",
       "      <td>2</td>\n",
       "    </tr>\n",
       "    <tr>\n",
       "      <th>1</th>\n",
       "      <td>poincare</td>\n",
       "      <td>poincare</td>\n",
       "      <td>8.443482e-03</td>\n",
       "      <td>2.139521e+05</td>\n",
       "      <td>5</td>\n",
       "      <td>2</td>\n",
       "      <td>42</td>\n",
       "      <td>0.1</td>\n",
       "      <td>1000</td>\n",
       "      <td>2</td>\n",
       "    </tr>\n",
       "    <tr>\n",
       "      <th>2</th>\n",
       "      <td>hyperboloid</td>\n",
       "      <td>euclidean</td>\n",
       "      <td>5.954323e+00</td>\n",
       "      <td>2.031758e+05</td>\n",
       "      <td>5</td>\n",
       "      <td>2</td>\n",
       "      <td>42</td>\n",
       "      <td>0.1</td>\n",
       "      <td>1000</td>\n",
       "      <td>2</td>\n",
       "    </tr>\n",
       "    <tr>\n",
       "      <th>3</th>\n",
       "      <td>hyperboloid</td>\n",
       "      <td>hyperboloid</td>\n",
       "      <td>4.197303e-08</td>\n",
       "      <td>1.922590e+05</td>\n",
       "      <td>5</td>\n",
       "      <td>2</td>\n",
       "      <td>42</td>\n",
       "      <td>0.1</td>\n",
       "      <td>1000</td>\n",
       "      <td>2</td>\n",
       "    </tr>\n",
       "    <tr>\n",
       "      <th>4</th>\n",
       "      <td>poincare</td>\n",
       "      <td>euclidean</td>\n",
       "      <td>3.745208e-03</td>\n",
       "      <td>2.050664e+05</td>\n",
       "      <td>5</td>\n",
       "      <td>2</td>\n",
       "      <td>42</td>\n",
       "      <td>0.1</td>\n",
       "      <td>1000</td>\n",
       "      <td>5</td>\n",
       "    </tr>\n",
       "    <tr>\n",
       "      <th>...</th>\n",
       "      <td>...</td>\n",
       "      <td>...</td>\n",
       "      <td>...</td>\n",
       "      <td>...</td>\n",
       "      <td>...</td>\n",
       "      <td>...</td>\n",
       "      <td>...</td>\n",
       "      <td>...</td>\n",
       "      <td>...</td>\n",
       "      <td>...</td>\n",
       "    </tr>\n",
       "    <tr>\n",
       "      <th>1075</th>\n",
       "      <td>hyperboloid</td>\n",
       "      <td>hyperboloid</td>\n",
       "      <td>NaN</td>\n",
       "      <td>1.735006e+05</td>\n",
       "      <td>20</td>\n",
       "      <td>32</td>\n",
       "      <td>44</td>\n",
       "      <td>0.5</td>\n",
       "      <td>1000</td>\n",
       "      <td>5</td>\n",
       "    </tr>\n",
       "    <tr>\n",
       "      <th>1076</th>\n",
       "      <td>poincare</td>\n",
       "      <td>euclidean</td>\n",
       "      <td>NaN</td>\n",
       "      <td>1.681987e+05</td>\n",
       "      <td>20</td>\n",
       "      <td>32</td>\n",
       "      <td>44</td>\n",
       "      <td>0.5</td>\n",
       "      <td>1000</td>\n",
       "      <td>10</td>\n",
       "    </tr>\n",
       "    <tr>\n",
       "      <th>1077</th>\n",
       "      <td>poincare</td>\n",
       "      <td>poincare</td>\n",
       "      <td>NaN</td>\n",
       "      <td>1.578095e+05</td>\n",
       "      <td>20</td>\n",
       "      <td>32</td>\n",
       "      <td>44</td>\n",
       "      <td>0.5</td>\n",
       "      <td>1000</td>\n",
       "      <td>10</td>\n",
       "    </tr>\n",
       "    <tr>\n",
       "      <th>1078</th>\n",
       "      <td>hyperboloid</td>\n",
       "      <td>euclidean</td>\n",
       "      <td>NaN</td>\n",
       "      <td>2.953678e+31</td>\n",
       "      <td>20</td>\n",
       "      <td>32</td>\n",
       "      <td>44</td>\n",
       "      <td>0.5</td>\n",
       "      <td>1000</td>\n",
       "      <td>10</td>\n",
       "    </tr>\n",
       "    <tr>\n",
       "      <th>1079</th>\n",
       "      <td>hyperboloid</td>\n",
       "      <td>hyperboloid</td>\n",
       "      <td>NaN</td>\n",
       "      <td>2.023600e+05</td>\n",
       "      <td>20</td>\n",
       "      <td>32</td>\n",
       "      <td>44</td>\n",
       "      <td>0.5</td>\n",
       "      <td>1000</td>\n",
       "      <td>10</td>\n",
       "    </tr>\n",
       "  </tbody>\n",
       "</table>\n",
       "<p>1080 rows × 10 columns</p>\n",
       "</div>"
      ],
      "text/plain": [
       "     model of geometry distance function   hdt_reg_mse   edt_reg_mse  \\\n",
       "0             poincare         euclidean  8.711850e-04  2.149039e+05   \n",
       "1             poincare          poincare  8.443482e-03  2.139521e+05   \n",
       "2          hyperboloid         euclidean  5.954323e+00  2.031758e+05   \n",
       "3          hyperboloid       hyperboloid  4.197303e-08  1.922590e+05   \n",
       "4             poincare         euclidean  3.745208e-03  2.050664e+05   \n",
       "...                ...               ...           ...           ...   \n",
       "1075       hyperboloid       hyperboloid           NaN  1.735006e+05   \n",
       "1076          poincare         euclidean           NaN  1.681987e+05   \n",
       "1077          poincare          poincare           NaN  1.578095e+05   \n",
       "1078       hyperboloid         euclidean           NaN  2.953678e+31   \n",
       "1079       hyperboloid       hyperboloid           NaN  2.023600e+05   \n",
       "\n",
       "      max_depth  n_dim  seed  noise_std  n_samples  n_classes  \n",
       "0             5      2    42        0.1       1000          2  \n",
       "1             5      2    42        0.1       1000          2  \n",
       "2             5      2    42        0.1       1000          2  \n",
       "3             5      2    42        0.1       1000          2  \n",
       "4             5      2    42        0.1       1000          5  \n",
       "...         ...    ...   ...        ...        ...        ...  \n",
       "1075         20     32    44        0.5       1000          5  \n",
       "1076         20     32    44        0.5       1000         10  \n",
       "1077         20     32    44        0.5       1000         10  \n",
       "1078         20     32    44        0.5       1000         10  \n",
       "1079         20     32    44        0.5       1000         10  \n",
       "\n",
       "[1080 rows x 10 columns]"
      ]
     },
     "execution_count": 4,
     "metadata": {},
     "output_type": "execute_result"
    }
   ],
   "source": [
    "results = pd.read_csv(outpath, sep='\\t')\n",
    "results"
   ]
  },
  {
   "cell_type": "code",
   "execution_count": 5,
   "metadata": {},
   "outputs": [
    {
     "data": {
      "text/html": [
       "<div>\n",
       "<style scoped>\n",
       "    .dataframe tbody tr th:only-of-type {\n",
       "        vertical-align: middle;\n",
       "    }\n",
       "\n",
       "    .dataframe tbody tr th {\n",
       "        vertical-align: top;\n",
       "    }\n",
       "\n",
       "    .dataframe thead th {\n",
       "        text-align: right;\n",
       "    }\n",
       "</style>\n",
       "<table border=\"1\" class=\"dataframe\">\n",
       "  <thead>\n",
       "    <tr style=\"text-align: right;\">\n",
       "      <th></th>\n",
       "      <th>model of geometry</th>\n",
       "      <th>distance function</th>\n",
       "      <th>max_depth</th>\n",
       "      <th>n_dim</th>\n",
       "      <th>n_samples</th>\n",
       "      <th>noise_std</th>\n",
       "      <th>n_classes</th>\n",
       "      <th>hdt_reg_mse mean</th>\n",
       "      <th>hdt_reg_mse std</th>\n",
       "      <th>edt_reg_mse mean</th>\n",
       "      <th>edt_reg_mse std</th>\n",
       "    </tr>\n",
       "  </thead>\n",
       "  <tbody>\n",
       "    <tr>\n",
       "      <th>0</th>\n",
       "      <td>hyperboloid</td>\n",
       "      <td>euclidean</td>\n",
       "      <td>5</td>\n",
       "      <td>2</td>\n",
       "      <td>1000</td>\n",
       "      <td>0.1</td>\n",
       "      <td>2</td>\n",
       "      <td>7.369487e+02</td>\n",
       "      <td>1.045553e+03</td>\n",
       "      <td>1.901376e+05</td>\n",
       "      <td>2.169340e+04</td>\n",
       "    </tr>\n",
       "    <tr>\n",
       "      <th>1</th>\n",
       "      <td>hyperboloid</td>\n",
       "      <td>euclidean</td>\n",
       "      <td>5</td>\n",
       "      <td>2</td>\n",
       "      <td>1000</td>\n",
       "      <td>0.1</td>\n",
       "      <td>5</td>\n",
       "      <td>1.991190e+02</td>\n",
       "      <td>1.870364e+02</td>\n",
       "      <td>1.818566e+05</td>\n",
       "      <td>4.331971e+03</td>\n",
       "    </tr>\n",
       "    <tr>\n",
       "      <th>2</th>\n",
       "      <td>hyperboloid</td>\n",
       "      <td>euclidean</td>\n",
       "      <td>5</td>\n",
       "      <td>2</td>\n",
       "      <td>1000</td>\n",
       "      <td>0.1</td>\n",
       "      <td>10</td>\n",
       "      <td>2.073553e+03</td>\n",
       "      <td>2.057575e+03</td>\n",
       "      <td>1.933143e+05</td>\n",
       "      <td>1.183979e+04</td>\n",
       "    </tr>\n",
       "    <tr>\n",
       "      <th>3</th>\n",
       "      <td>hyperboloid</td>\n",
       "      <td>euclidean</td>\n",
       "      <td>5</td>\n",
       "      <td>2</td>\n",
       "      <td>1000</td>\n",
       "      <td>0.5</td>\n",
       "      <td>2</td>\n",
       "      <td>2.301315e+07</td>\n",
       "      <td>3.039256e+07</td>\n",
       "      <td>2.543656e+07</td>\n",
       "      <td>3.432465e+07</td>\n",
       "    </tr>\n",
       "    <tr>\n",
       "      <th>4</th>\n",
       "      <td>hyperboloid</td>\n",
       "      <td>euclidean</td>\n",
       "      <td>5</td>\n",
       "      <td>2</td>\n",
       "      <td>1000</td>\n",
       "      <td>0.5</td>\n",
       "      <td>5</td>\n",
       "      <td>2.850955e+06</td>\n",
       "      <td>4.251437e+06</td>\n",
       "      <td>4.384914e+05</td>\n",
       "      <td>3.162543e+05</td>\n",
       "    </tr>\n",
       "    <tr>\n",
       "      <th>...</th>\n",
       "      <td>...</td>\n",
       "      <td>...</td>\n",
       "      <td>...</td>\n",
       "      <td>...</td>\n",
       "      <td>...</td>\n",
       "      <td>...</td>\n",
       "      <td>...</td>\n",
       "      <td>...</td>\n",
       "      <td>...</td>\n",
       "      <td>...</td>\n",
       "      <td>...</td>\n",
       "    </tr>\n",
       "    <tr>\n",
       "      <th>247</th>\n",
       "      <td>poincare</td>\n",
       "      <td>poincare</td>\n",
       "      <td>20</td>\n",
       "      <td>8</td>\n",
       "      <td>1000</td>\n",
       "      <td>0.5</td>\n",
       "      <td>5</td>\n",
       "      <td>6.052810e+00</td>\n",
       "      <td>2.575006e-01</td>\n",
       "      <td>2.079987e+05</td>\n",
       "      <td>1.529293e+04</td>\n",
       "    </tr>\n",
       "    <tr>\n",
       "      <th>248</th>\n",
       "      <td>poincare</td>\n",
       "      <td>poincare</td>\n",
       "      <td>20</td>\n",
       "      <td>8</td>\n",
       "      <td>1000</td>\n",
       "      <td>0.5</td>\n",
       "      <td>10</td>\n",
       "      <td>6.139616e+00</td>\n",
       "      <td>5.902031e-01</td>\n",
       "      <td>2.098772e+05</td>\n",
       "      <td>2.069556e+04</td>\n",
       "    </tr>\n",
       "    <tr>\n",
       "      <th>249</th>\n",
       "      <td>poincare</td>\n",
       "      <td>poincare</td>\n",
       "      <td>20</td>\n",
       "      <td>16</td>\n",
       "      <td>1000</td>\n",
       "      <td>0.1</td>\n",
       "      <td>2</td>\n",
       "      <td>2.738591e+00</td>\n",
       "      <td>2.539980e-01</td>\n",
       "      <td>2.063239e+05</td>\n",
       "      <td>1.750993e+04</td>\n",
       "    </tr>\n",
       "    <tr>\n",
       "      <th>250</th>\n",
       "      <td>poincare</td>\n",
       "      <td>poincare</td>\n",
       "      <td>20</td>\n",
       "      <td>16</td>\n",
       "      <td>1000</td>\n",
       "      <td>0.1</td>\n",
       "      <td>5</td>\n",
       "      <td>2.677655e+00</td>\n",
       "      <td>4.063953e-01</td>\n",
       "      <td>1.942163e+05</td>\n",
       "      <td>2.438256e+04</td>\n",
       "    </tr>\n",
       "    <tr>\n",
       "      <th>251</th>\n",
       "      <td>poincare</td>\n",
       "      <td>poincare</td>\n",
       "      <td>20</td>\n",
       "      <td>16</td>\n",
       "      <td>1000</td>\n",
       "      <td>0.1</td>\n",
       "      <td>10</td>\n",
       "      <td>2.915848e+00</td>\n",
       "      <td>1.663241e-01</td>\n",
       "      <td>2.080638e+05</td>\n",
       "      <td>2.623699e+04</td>\n",
       "    </tr>\n",
       "  </tbody>\n",
       "</table>\n",
       "<p>252 rows × 11 columns</p>\n",
       "</div>"
      ],
      "text/plain": [
       "    model of geometry distance function  max_depth  n_dim  n_samples  \\\n",
       "0         hyperboloid         euclidean          5      2       1000   \n",
       "1         hyperboloid         euclidean          5      2       1000   \n",
       "2         hyperboloid         euclidean          5      2       1000   \n",
       "3         hyperboloid         euclidean          5      2       1000   \n",
       "4         hyperboloid         euclidean          5      2       1000   \n",
       "..                ...               ...        ...    ...        ...   \n",
       "247          poincare          poincare         20      8       1000   \n",
       "248          poincare          poincare         20      8       1000   \n",
       "249          poincare          poincare         20     16       1000   \n",
       "250          poincare          poincare         20     16       1000   \n",
       "251          poincare          poincare         20     16       1000   \n",
       "\n",
       "     noise_std  n_classes  hdt_reg_mse mean  hdt_reg_mse std  \\\n",
       "0          0.1          2      7.369487e+02     1.045553e+03   \n",
       "1          0.1          5      1.991190e+02     1.870364e+02   \n",
       "2          0.1         10      2.073553e+03     2.057575e+03   \n",
       "3          0.5          2      2.301315e+07     3.039256e+07   \n",
       "4          0.5          5      2.850955e+06     4.251437e+06   \n",
       "..         ...        ...               ...              ...   \n",
       "247        0.5          5      6.052810e+00     2.575006e-01   \n",
       "248        0.5         10      6.139616e+00     5.902031e-01   \n",
       "249        0.1          2      2.738591e+00     2.539980e-01   \n",
       "250        0.1          5      2.677655e+00     4.063953e-01   \n",
       "251        0.1         10      2.915848e+00     1.663241e-01   \n",
       "\n",
       "     edt_reg_mse mean  edt_reg_mse std  \n",
       "0        1.901376e+05     2.169340e+04  \n",
       "1        1.818566e+05     4.331971e+03  \n",
       "2        1.933143e+05     1.183979e+04  \n",
       "3        2.543656e+07     3.432465e+07  \n",
       "4        4.384914e+05     3.162543e+05  \n",
       "..                ...              ...  \n",
       "247      2.079987e+05     1.529293e+04  \n",
       "248      2.098772e+05     2.069556e+04  \n",
       "249      2.063239e+05     1.750993e+04  \n",
       "250      1.942163e+05     2.438256e+04  \n",
       "251      2.080638e+05     2.623699e+04  \n",
       "\n",
       "[252 rows x 11 columns]"
      ]
     },
     "execution_count": 5,
     "metadata": {},
     "output_type": "execute_result"
    }
   ],
   "source": [
    "# groupby and compute mean and std\n",
    "results = results.dropna()\n",
    "groups = results.groupby(['model of geometry', 'distance function', 'max_depth', 'n_dim', 'n_samples', 'noise_std', 'n_classes'])\n",
    "stats = groups.agg(['mean', 'std']).reset_index().drop('seed', axis=1, level=0)\n",
    "stats.columns = [' '.join(col).strip() for col in stats.columns.values]\n",
    "stats"
   ]
  },
  {
   "cell_type": "code",
   "execution_count": 6,
   "metadata": {},
   "outputs": [],
   "source": [
    "from collections.abc import Iterator\n",
    "\n",
    "def filter_df(df, col_to_vals):\n",
    "    for col, vals in col_to_vals.items():\n",
    "        if isinstance(vals, float) or isinstance(vals, int) or isinstance(vals, str):\n",
    "            vals = [vals]  \n",
    "        df = df[df[col].isin(vals)]\n",
    "    return df"
   ]
  },
  {
   "cell_type": "code",
   "execution_count": 7,
   "metadata": {},
   "outputs": [
    {
     "data": {
      "text/html": [
       "<div>\n",
       "<style scoped>\n",
       "    .dataframe tbody tr th:only-of-type {\n",
       "        vertical-align: middle;\n",
       "    }\n",
       "\n",
       "    .dataframe tbody tr th {\n",
       "        vertical-align: top;\n",
       "    }\n",
       "\n",
       "    .dataframe thead th {\n",
       "        text-align: right;\n",
       "    }\n",
       "</style>\n",
       "<table border=\"1\" class=\"dataframe\">\n",
       "  <thead>\n",
       "    <tr style=\"text-align: right;\">\n",
       "      <th></th>\n",
       "      <th>model of geometry</th>\n",
       "      <th>distance function</th>\n",
       "      <th>max_depth</th>\n",
       "      <th>n_dim</th>\n",
       "      <th>n_samples</th>\n",
       "      <th>noise_std</th>\n",
       "      <th>n_classes</th>\n",
       "      <th>hdt_reg_mse mean</th>\n",
       "      <th>hdt_reg_mse std</th>\n",
       "      <th>edt_reg_mse mean</th>\n",
       "      <th>edt_reg_mse std</th>\n",
       "    </tr>\n",
       "  </thead>\n",
       "  <tbody>\n",
       "    <tr>\n",
       "      <th>0</th>\n",
       "      <td>hyperboloid</td>\n",
       "      <td>euclidean</td>\n",
       "      <td>5</td>\n",
       "      <td>2</td>\n",
       "      <td>1000</td>\n",
       "      <td>0.1</td>\n",
       "      <td>2</td>\n",
       "      <td>7.369487e+02</td>\n",
       "      <td>1.045553e+03</td>\n",
       "      <td>1.901376e+05</td>\n",
       "      <td>2.169340e+04</td>\n",
       "    </tr>\n",
       "    <tr>\n",
       "      <th>1</th>\n",
       "      <td>hyperboloid</td>\n",
       "      <td>euclidean</td>\n",
       "      <td>5</td>\n",
       "      <td>2</td>\n",
       "      <td>1000</td>\n",
       "      <td>0.1</td>\n",
       "      <td>5</td>\n",
       "      <td>1.991190e+02</td>\n",
       "      <td>1.870364e+02</td>\n",
       "      <td>1.818566e+05</td>\n",
       "      <td>4.331971e+03</td>\n",
       "    </tr>\n",
       "    <tr>\n",
       "      <th>2</th>\n",
       "      <td>hyperboloid</td>\n",
       "      <td>euclidean</td>\n",
       "      <td>5</td>\n",
       "      <td>2</td>\n",
       "      <td>1000</td>\n",
       "      <td>0.1</td>\n",
       "      <td>10</td>\n",
       "      <td>2.073553e+03</td>\n",
       "      <td>2.057575e+03</td>\n",
       "      <td>1.933143e+05</td>\n",
       "      <td>1.183979e+04</td>\n",
       "    </tr>\n",
       "    <tr>\n",
       "      <th>3</th>\n",
       "      <td>hyperboloid</td>\n",
       "      <td>euclidean</td>\n",
       "      <td>5</td>\n",
       "      <td>2</td>\n",
       "      <td>1000</td>\n",
       "      <td>0.5</td>\n",
       "      <td>2</td>\n",
       "      <td>2.301315e+07</td>\n",
       "      <td>3.039256e+07</td>\n",
       "      <td>2.543656e+07</td>\n",
       "      <td>3.432465e+07</td>\n",
       "    </tr>\n",
       "    <tr>\n",
       "      <th>4</th>\n",
       "      <td>hyperboloid</td>\n",
       "      <td>euclidean</td>\n",
       "      <td>5</td>\n",
       "      <td>2</td>\n",
       "      <td>1000</td>\n",
       "      <td>0.5</td>\n",
       "      <td>5</td>\n",
       "      <td>2.850955e+06</td>\n",
       "      <td>4.251437e+06</td>\n",
       "      <td>4.384914e+05</td>\n",
       "      <td>3.162543e+05</td>\n",
       "    </tr>\n",
       "    <tr>\n",
       "      <th>...</th>\n",
       "      <td>...</td>\n",
       "      <td>...</td>\n",
       "      <td>...</td>\n",
       "      <td>...</td>\n",
       "      <td>...</td>\n",
       "      <td>...</td>\n",
       "      <td>...</td>\n",
       "      <td>...</td>\n",
       "      <td>...</td>\n",
       "      <td>...</td>\n",
       "      <td>...</td>\n",
       "    </tr>\n",
       "    <tr>\n",
       "      <th>121</th>\n",
       "      <td>hyperboloid</td>\n",
       "      <td>hyperboloid</td>\n",
       "      <td>20</td>\n",
       "      <td>8</td>\n",
       "      <td>1000</td>\n",
       "      <td>0.5</td>\n",
       "      <td>5</td>\n",
       "      <td>2.712129e-03</td>\n",
       "      <td>2.381732e-03</td>\n",
       "      <td>1.991542e+05</td>\n",
       "      <td>1.753192e+04</td>\n",
       "    </tr>\n",
       "    <tr>\n",
       "      <th>122</th>\n",
       "      <td>hyperboloid</td>\n",
       "      <td>hyperboloid</td>\n",
       "      <td>20</td>\n",
       "      <td>8</td>\n",
       "      <td>1000</td>\n",
       "      <td>0.5</td>\n",
       "      <td>10</td>\n",
       "      <td>3.145761e-03</td>\n",
       "      <td>4.996747e-03</td>\n",
       "      <td>1.864830e+05</td>\n",
       "      <td>1.686768e+04</td>\n",
       "    </tr>\n",
       "    <tr>\n",
       "      <th>123</th>\n",
       "      <td>hyperboloid</td>\n",
       "      <td>hyperboloid</td>\n",
       "      <td>20</td>\n",
       "      <td>16</td>\n",
       "      <td>1000</td>\n",
       "      <td>0.1</td>\n",
       "      <td>2</td>\n",
       "      <td>7.268678e-03</td>\n",
       "      <td>1.247736e-02</td>\n",
       "      <td>1.830728e+05</td>\n",
       "      <td>1.985969e+04</td>\n",
       "    </tr>\n",
       "    <tr>\n",
       "      <th>124</th>\n",
       "      <td>hyperboloid</td>\n",
       "      <td>hyperboloid</td>\n",
       "      <td>20</td>\n",
       "      <td>16</td>\n",
       "      <td>1000</td>\n",
       "      <td>0.1</td>\n",
       "      <td>5</td>\n",
       "      <td>4.871258e-04</td>\n",
       "      <td>8.178081e-04</td>\n",
       "      <td>1.984191e+05</td>\n",
       "      <td>2.357072e+04</td>\n",
       "    </tr>\n",
       "    <tr>\n",
       "      <th>125</th>\n",
       "      <td>hyperboloid</td>\n",
       "      <td>hyperboloid</td>\n",
       "      <td>20</td>\n",
       "      <td>16</td>\n",
       "      <td>1000</td>\n",
       "      <td>0.1</td>\n",
       "      <td>10</td>\n",
       "      <td>4.312501e-04</td>\n",
       "      <td>6.747902e-04</td>\n",
       "      <td>1.947958e+05</td>\n",
       "      <td>2.735491e+04</td>\n",
       "    </tr>\n",
       "  </tbody>\n",
       "</table>\n",
       "<p>126 rows × 11 columns</p>\n",
       "</div>"
      ],
      "text/plain": [
       "    model of geometry distance function  max_depth  n_dim  n_samples  \\\n",
       "0         hyperboloid         euclidean          5      2       1000   \n",
       "1         hyperboloid         euclidean          5      2       1000   \n",
       "2         hyperboloid         euclidean          5      2       1000   \n",
       "3         hyperboloid         euclidean          5      2       1000   \n",
       "4         hyperboloid         euclidean          5      2       1000   \n",
       "..                ...               ...        ...    ...        ...   \n",
       "121       hyperboloid       hyperboloid         20      8       1000   \n",
       "122       hyperboloid       hyperboloid         20      8       1000   \n",
       "123       hyperboloid       hyperboloid         20     16       1000   \n",
       "124       hyperboloid       hyperboloid         20     16       1000   \n",
       "125       hyperboloid       hyperboloid         20     16       1000   \n",
       "\n",
       "     noise_std  n_classes  hdt_reg_mse mean  hdt_reg_mse std  \\\n",
       "0          0.1          2      7.369487e+02     1.045553e+03   \n",
       "1          0.1          5      1.991190e+02     1.870364e+02   \n",
       "2          0.1         10      2.073553e+03     2.057575e+03   \n",
       "3          0.5          2      2.301315e+07     3.039256e+07   \n",
       "4          0.5          5      2.850955e+06     4.251437e+06   \n",
       "..         ...        ...               ...              ...   \n",
       "121        0.5          5      2.712129e-03     2.381732e-03   \n",
       "122        0.5         10      3.145761e-03     4.996747e-03   \n",
       "123        0.1          2      7.268678e-03     1.247736e-02   \n",
       "124        0.1          5      4.871258e-04     8.178081e-04   \n",
       "125        0.1         10      4.312501e-04     6.747902e-04   \n",
       "\n",
       "     edt_reg_mse mean  edt_reg_mse std  \n",
       "0        1.901376e+05     2.169340e+04  \n",
       "1        1.818566e+05     4.331971e+03  \n",
       "2        1.933143e+05     1.183979e+04  \n",
       "3        2.543656e+07     3.432465e+07  \n",
       "4        4.384914e+05     3.162543e+05  \n",
       "..                ...              ...  \n",
       "121      1.991542e+05     1.753192e+04  \n",
       "122      1.864830e+05     1.686768e+04  \n",
       "123      1.830728e+05     1.985969e+04  \n",
       "124      1.984191e+05     2.357072e+04  \n",
       "125      1.947958e+05     2.735491e+04  \n",
       "\n",
       "[126 rows x 11 columns]"
      ]
     },
     "execution_count": 7,
     "metadata": {},
     "output_type": "execute_result"
    }
   ],
   "source": [
    "col_to_val = {\n",
    "    'model of geometry': ['hyperboloid'],\n",
    "    'distance function': ['hyperboloid', 'euclidean'],\n",
    "}\n",
    "\n",
    "df = filter_df(stats, col_to_val)\n",
    "df"
   ]
  },
  {
   "cell_type": "code",
   "execution_count": 26,
   "metadata": {},
   "outputs": [],
   "source": [
    "import plotly.express as px\n",
    "import plotly.graph_objects as go"
   ]
  },
  {
   "cell_type": "code",
   "execution_count": 66,
   "metadata": {},
   "outputs": [
    {
     "data": {
      "application/vnd.plotly.v1+json": {
       "config": {
        "plotlyServerURL": "https://plot.ly"
       },
       "data": [
        {
         "customdata": [
          [
           190137.5837318514
          ],
          [
           2005759.2710868698
          ],
          [
           2932097184829.4395
          ],
          [
           1122602621985455100
          ]
         ],
         "hovertemplate": "distance function=euclidean<br>noise_std=0.1<br>max_depth=5<br>n_classes=2<br>n_dim=%{x}<br>hdt_reg_mse mean=%{y}<br>edt_reg_mse mean=%{customdata[0]}<extra></extra>",
         "legendgroup": "euclidean, 0.1",
         "marker": {
          "color": "#636efa",
          "symbol": "circle"
         },
         "mode": "markers",
         "name": "euclidean, 0.1",
         "orientation": "v",
         "showlegend": true,
         "type": "scatter",
         "x": [
          2,
          4,
          8,
          16
         ],
         "xaxis": "x7",
         "y": [
          736.9486619262556,
          2686330.1913812007,
          2940318945600.8335,
          1.0773152603888461e+21
         ],
         "yaxis": "y7"
        },
        {
         "customdata": [
          [
           181856.64593598866
          ],
          [
           2460520174.103873
          ],
          [
           233909258989.8185
          ],
          [
           3314471481110473000
          ]
         ],
         "hovertemplate": "distance function=euclidean<br>noise_std=0.1<br>max_depth=5<br>n_classes=5<br>n_dim=%{x}<br>hdt_reg_mse mean=%{y}<br>edt_reg_mse mean=%{customdata[0]}<extra></extra>",
         "legendgroup": "euclidean, 0.1",
         "marker": {
          "color": "#636efa",
          "symbol": "circle"
         },
         "mode": "markers",
         "name": "euclidean, 0.1",
         "orientation": "v",
         "showlegend": false,
         "type": "scatter",
         "x": [
          2,
          4,
          8,
          16
         ],
         "xaxis": "x8",
         "y": [
          199.11895566943613,
          3335704932.562115,
          292346898283.77594,
          110487049571687330000
         ],
         "yaxis": "y8"
        },
        {
         "customdata": [
          [
           193314.3407071412
          ],
          [
           1704091.5895797703
          ],
          [
           450752324354.549
          ],
          [
           4971480875456169000
          ]
         ],
         "hovertemplate": "distance function=euclidean<br>noise_std=0.1<br>max_depth=5<br>n_classes=10<br>n_dim=%{x}<br>hdt_reg_mse mean=%{y}<br>edt_reg_mse mean=%{customdata[0]}<extra></extra>",
         "legendgroup": "euclidean, 0.1",
         "marker": {
          "color": "#636efa",
          "symbol": "circle"
         },
         "mode": "markers",
         "name": "euclidean, 0.1",
         "orientation": "v",
         "showlegend": false,
         "type": "scatter",
         "x": [
          2,
          4,
          8,
          16
         ],
         "xaxis": "x9",
         "y": [
          2073.552717031215,
          1566905.7893582024,
          1531087038135.7659,
          481636046548000830000
         ],
         "yaxis": "y9"
        },
        {
         "customdata": [
          [
           190152.87501582256
          ],
          [
           2003932.5396017497
          ],
          [
           2932095283383.4585
          ],
          [
           1122602620548048900
          ]
         ],
         "hovertemplate": "distance function=euclidean<br>noise_std=0.1<br>max_depth=10<br>n_classes=2<br>n_dim=%{x}<br>hdt_reg_mse mean=%{y}<br>edt_reg_mse mean=%{customdata[0]}<extra></extra>",
         "legendgroup": "euclidean, 0.1",
         "marker": {
          "color": "#636efa",
          "symbol": "circle"
         },
         "mode": "markers",
         "name": "euclidean, 0.1",
         "orientation": "v",
         "showlegend": false,
         "type": "scatter",
         "x": [
          2,
          4,
          8,
          16
         ],
         "xaxis": "x4",
         "y": [
          487.2379015470195,
          2548003.9647423434,
          3000487647274.607,
          1.0776623498450095e+21
         ],
         "yaxis": "y4"
        },
        {
         "customdata": [
          [
           181578.9821381215
          ],
          [
           2460472540.0769577
          ],
          [
           233908534411.9541
          ],
          [
           3314471478487376000
          ]
         ],
         "hovertemplate": "distance function=euclidean<br>noise_std=0.1<br>max_depth=10<br>n_classes=5<br>n_dim=%{x}<br>hdt_reg_mse mean=%{y}<br>edt_reg_mse mean=%{customdata[0]}<extra></extra>",
         "legendgroup": "euclidean, 0.1",
         "marker": {
          "color": "#636efa",
          "symbol": "circle"
         },
         "mode": "markers",
         "name": "euclidean, 0.1",
         "orientation": "v",
         "showlegend": false,
         "type": "scatter",
         "x": [
          2,
          4,
          8,
          16
         ],
         "xaxis": "x5",
         "y": [
          111.29477523635207,
          3276602220.059009,
          298527107325.20184,
          110462543426020920000
         ],
         "yaxis": "y5"
        },
        {
         "customdata": [
          [
           193691.47142048096
          ],
          [
           1702525.517491826
          ],
          [
           450751672037.1246
          ],
          [
           4971480874011210000
          ]
         ],
         "hovertemplate": "distance function=euclidean<br>noise_std=0.1<br>max_depth=10<br>n_classes=10<br>n_dim=%{x}<br>hdt_reg_mse mean=%{y}<br>edt_reg_mse mean=%{customdata[0]}<extra></extra>",
         "legendgroup": "euclidean, 0.1",
         "marker": {
          "color": "#636efa",
          "symbol": "circle"
         },
         "mode": "markers",
         "name": "euclidean, 0.1",
         "orientation": "v",
         "showlegend": false,
         "type": "scatter",
         "x": [
          2,
          4,
          8,
          16
         ],
         "xaxis": "x6",
         "y": [
          1833.4036147835288,
          1557725.0514349916,
          1538191073146.0193,
          485948106725119300000
         ],
         "yaxis": "y6"
        },
        {
         "customdata": [
          [
           190152.87501582256
          ],
          [
           2003932.5396017497
          ],
          [
           2932095283383.4585
          ],
          [
           1122602620548048900
          ]
         ],
         "hovertemplate": "distance function=euclidean<br>noise_std=0.1<br>max_depth=20<br>n_classes=2<br>n_dim=%{x}<br>hdt_reg_mse mean=%{y}<br>edt_reg_mse mean=%{customdata[0]}<extra></extra>",
         "legendgroup": "euclidean, 0.1",
         "marker": {
          "color": "#636efa",
          "symbol": "circle"
         },
         "mode": "markers",
         "name": "euclidean, 0.1",
         "orientation": "v",
         "showlegend": false,
         "type": "scatter",
         "x": [
          2,
          4,
          8,
          16
         ],
         "xaxis": "x",
         "y": [
          485.63927538822173,
          2537167.3152467874,
          3001998554750.9507,
          1.0777032128905268e+21
         ],
         "yaxis": "y"
        },
        {
         "customdata": [
          [
           181578.9821381215
          ],
          [
           2460472540.0769577
          ],
          [
           233908534411.9541
          ],
          [
           3314471478487376000
          ]
         ],
         "hovertemplate": "distance function=euclidean<br>noise_std=0.1<br>max_depth=20<br>n_classes=5<br>n_dim=%{x}<br>hdt_reg_mse mean=%{y}<br>edt_reg_mse mean=%{customdata[0]}<extra></extra>",
         "legendgroup": "euclidean, 0.1",
         "marker": {
          "color": "#636efa",
          "symbol": "circle"
         },
         "mode": "markers",
         "name": "euclidean, 0.1",
         "orientation": "v",
         "showlegend": false,
         "type": "scatter",
         "x": [
          2,
          4,
          8,
          16
         ],
         "xaxis": "x2",
         "y": [
          105.6530903312475,
          3276604927.3422337,
          299154885493.1694,
          110508141984896650000
         ],
         "yaxis": "y2"
        },
        {
         "customdata": [
          [
           193691.47142048096
          ],
          [
           1702525.517491826
          ],
          [
           450751672037.1246
          ],
          [
           4971480874011210000
          ]
         ],
         "hovertemplate": "distance function=euclidean<br>noise_std=0.1<br>max_depth=20<br>n_classes=10<br>n_dim=%{x}<br>hdt_reg_mse mean=%{y}<br>edt_reg_mse mean=%{customdata[0]}<extra></extra>",
         "legendgroup": "euclidean, 0.1",
         "marker": {
          "color": "#636efa",
          "symbol": "circle"
         },
         "mode": "markers",
         "name": "euclidean, 0.1",
         "orientation": "v",
         "showlegend": false,
         "type": "scatter",
         "x": [
          2,
          4,
          8,
          16
         ],
         "xaxis": "x3",
         "y": [
          1803.1946308321033,
          1557414.644833667,
          1541677074358.3984,
          486048903834910650000
         ],
         "yaxis": "y3"
        },
        {
         "customdata": [
          [
           25436560.150584336
          ],
          [
           15327355292652.766
          ],
          [
           3.729647587223951e+27
          ]
         ],
         "hovertemplate": "distance function=euclidean<br>noise_std=0.5<br>max_depth=5<br>n_classes=2<br>n_dim=%{x}<br>hdt_reg_mse mean=%{y}<br>edt_reg_mse mean=%{customdata[0]}<extra></extra>",
         "legendgroup": "euclidean, 0.5",
         "marker": {
          "color": "#636efa",
          "symbol": "diamond"
         },
         "mode": "markers",
         "name": "euclidean, 0.5",
         "orientation": "v",
         "showlegend": true,
         "type": "scatter",
         "x": [
          2,
          4,
          8
         ],
         "xaxis": "x7",
         "y": [
          23013153.84390979,
          17236024165953.35,
          3.293035507889939e+27
         ],
         "yaxis": "y7"
        },
        {
         "customdata": [
          [
           438491.3755826042
          ],
          [
           17640070726921943000
          ],
          [
           3.398022217121096e+23
          ]
         ],
         "hovertemplate": "distance function=euclidean<br>noise_std=0.5<br>max_depth=5<br>n_classes=5<br>n_dim=%{x}<br>hdt_reg_mse mean=%{y}<br>edt_reg_mse mean=%{customdata[0]}<extra></extra>",
         "legendgroup": "euclidean, 0.5",
         "marker": {
          "color": "#636efa",
          "symbol": "diamond"
         },
         "mode": "markers",
         "name": "euclidean, 0.5",
         "orientation": "v",
         "showlegend": false,
         "type": "scatter",
         "x": [
          2,
          4,
          8
         ],
         "xaxis": "x8",
         "y": [
          2850954.511669125,
          19496451297581924000,
          3.7835068799352915e+23
         ],
         "yaxis": "y8"
        },
        {
         "customdata": [
          [
           174581538.31303155
          ],
          [
           635703823015.3083
          ],
          [
           8.848147016058778e+22
          ]
         ],
         "hovertemplate": "distance function=euclidean<br>noise_std=0.5<br>max_depth=5<br>n_classes=10<br>n_dim=%{x}<br>hdt_reg_mse mean=%{y}<br>edt_reg_mse mean=%{customdata[0]}<extra></extra>",
         "legendgroup": "euclidean, 0.5",
         "marker": {
          "color": "#636efa",
          "symbol": "diamond"
         },
         "mode": "markers",
         "name": "euclidean, 0.5",
         "orientation": "v",
         "showlegend": false,
         "type": "scatter",
         "x": [
          2,
          4,
          8
         ],
         "xaxis": "x9",
         "y": [
          183505801.48235092,
          1119262784355.7224,
          1.3242769071669454e+25
         ],
         "yaxis": "y9"
        },
        {
         "customdata": [
          [
           25429498.215234455
          ],
          [
           15327351848898.88
          ],
          [
           3.7296475872238936e+27
          ]
         ],
         "hovertemplate": "distance function=euclidean<br>noise_std=0.5<br>max_depth=10<br>n_classes=2<br>n_dim=%{x}<br>hdt_reg_mse mean=%{y}<br>edt_reg_mse mean=%{customdata[0]}<extra></extra>",
         "legendgroup": "euclidean, 0.5",
         "marker": {
          "color": "#636efa",
          "symbol": "diamond"
         },
         "mode": "markers",
         "name": "euclidean, 0.5",
         "orientation": "v",
         "showlegend": false,
         "type": "scatter",
         "x": [
          2,
          4,
          8
         ],
         "xaxis": "x4",
         "y": [
          11621212.971141959,
          26851689811954.23,
          3.293035633672221e+27
         ],
         "yaxis": "y4"
        },
        {
         "customdata": [
          [
           438900.15923258616
          ],
          [
           17640070722805205000
          ],
          [
           3.39802221711272e+23
          ]
         ],
         "hovertemplate": "distance function=euclidean<br>noise_std=0.5<br>max_depth=10<br>n_classes=5<br>n_dim=%{x}<br>hdt_reg_mse mean=%{y}<br>edt_reg_mse mean=%{customdata[0]}<extra></extra>",
         "legendgroup": "euclidean, 0.5",
         "marker": {
          "color": "#636efa",
          "symbol": "diamond"
         },
         "mode": "markers",
         "name": "euclidean, 0.5",
         "orientation": "v",
         "showlegend": false,
         "type": "scatter",
         "x": [
          2,
          4,
          8
         ],
         "xaxis": "x5",
         "y": [
          3939628.9515577643,
          19502190466772648000,
          3.783620253691657e+23
         ],
         "yaxis": "y5"
        },
        {
         "customdata": [
          [
           174556432.4773598
          ],
          [
           635703071362.7554
          ],
          [
           8.848147016030842e+22
          ]
         ],
         "hovertemplate": "distance function=euclidean<br>noise_std=0.5<br>max_depth=10<br>n_classes=10<br>n_dim=%{x}<br>hdt_reg_mse mean=%{y}<br>edt_reg_mse mean=%{customdata[0]}<extra></extra>",
         "legendgroup": "euclidean, 0.5",
         "marker": {
          "color": "#636efa",
          "symbol": "diamond"
         },
         "mode": "markers",
         "name": "euclidean, 0.5",
         "orientation": "v",
         "showlegend": false,
         "type": "scatter",
         "x": [
          2,
          4,
          8
         ],
         "xaxis": "x6",
         "y": [
          184259604.6369882,
          2642732595720.586,
          1.3243985052803872e+25
         ],
         "yaxis": "y6"
        },
        {
         "customdata": [
          [
           25429498.215234455
          ],
          [
           15327351848898.88
          ],
          [
           3.7296475872238936e+27
          ]
         ],
         "hovertemplate": "distance function=euclidean<br>noise_std=0.5<br>max_depth=20<br>n_classes=2<br>n_dim=%{x}<br>hdt_reg_mse mean=%{y}<br>edt_reg_mse mean=%{customdata[0]}<extra></extra>",
         "legendgroup": "euclidean, 0.5",
         "marker": {
          "color": "#636efa",
          "symbol": "diamond"
         },
         "mode": "markers",
         "name": "euclidean, 0.5",
         "orientation": "v",
         "showlegend": false,
         "type": "scatter",
         "x": [
          2,
          4,
          8
         ],
         "xaxis": "x",
         "y": [
          11622226.760936042,
          26853954041427.645,
          3.293035635047462e+27
         ],
         "yaxis": "y"
        },
        {
         "customdata": [
          [
           438900.15923258616
          ],
          [
           17640070722805205000
          ],
          [
           3.39802221711272e+23
          ]
         ],
         "hovertemplate": "distance function=euclidean<br>noise_std=0.5<br>max_depth=20<br>n_classes=5<br>n_dim=%{x}<br>hdt_reg_mse mean=%{y}<br>edt_reg_mse mean=%{customdata[0]}<extra></extra>",
         "legendgroup": "euclidean, 0.5",
         "marker": {
          "color": "#636efa",
          "symbol": "diamond"
         },
         "mode": "markers",
         "name": "euclidean, 0.5",
         "orientation": "v",
         "showlegend": false,
         "type": "scatter",
         "x": [
          2,
          4,
          8
         ],
         "xaxis": "x2",
         "y": [
          3937529.2296038293,
          19502227276250310000,
          3.7837399556724766e+23
         ],
         "yaxis": "y2"
        },
        {
         "customdata": [
          [
           174556432.4773598
          ],
          [
           635703071362.7554
          ],
          [
           8.848147016030842e+22
          ]
         ],
         "hovertemplate": "distance function=euclidean<br>noise_std=0.5<br>max_depth=20<br>n_classes=10<br>n_dim=%{x}<br>hdt_reg_mse mean=%{y}<br>edt_reg_mse mean=%{customdata[0]}<extra></extra>",
         "legendgroup": "euclidean, 0.5",
         "marker": {
          "color": "#636efa",
          "symbol": "diamond"
         },
         "mode": "markers",
         "name": "euclidean, 0.5",
         "orientation": "v",
         "showlegend": false,
         "type": "scatter",
         "x": [
          2,
          4,
          8
         ],
         "xaxis": "x3",
         "y": [
          184252074.901083,
          2639801339343.8257,
          1.3244040172279662e+25
         ],
         "yaxis": "y3"
        },
        {
         "customdata": [
          [
           199318.1221645202
          ],
          [
           192976.41030114112
          ],
          [
           188979.8424552688
          ],
          [
           183199.11969766123
          ]
         ],
         "hovertemplate": "distance function=hyperboloid<br>noise_std=0.1<br>max_depth=5<br>n_classes=2<br>n_dim=%{x}<br>hdt_reg_mse mean=%{y}<br>edt_reg_mse mean=%{customdata[0]}<extra></extra>",
         "legendgroup": "hyperboloid, 0.1",
         "marker": {
          "color": "#EF553B",
          "symbol": "circle"
         },
         "mode": "markers",
         "name": "hyperboloid, 0.1",
         "orientation": "v",
         "showlegend": true,
         "type": "scatter",
         "x": [
          2,
          4,
          8,
          16
         ],
         "xaxis": "x7",
         "y": [
          0.0000022472104806718917,
          0.000007118994937291584,
          0.0010049438358505553,
          0.007267406619411363
         ],
         "yaxis": "y7"
        },
        {
         "customdata": [
          [
           222044.39142287895
          ],
          [
           214900.26187192093
          ],
          [
           210205.97632152284
          ],
          [
           198255.4512628937
          ]
         ],
         "hovertemplate": "distance function=hyperboloid<br>noise_std=0.1<br>max_depth=5<br>n_classes=5<br>n_dim=%{x}<br>hdt_reg_mse mean=%{y}<br>edt_reg_mse mean=%{customdata[0]}<extra></extra>",
         "legendgroup": "hyperboloid, 0.1",
         "marker": {
          "color": "#EF553B",
          "symbol": "circle"
         },
         "mode": "markers",
         "name": "hyperboloid, 0.1",
         "orientation": "v",
         "showlegend": false,
         "type": "scatter",
         "x": [
          2,
          4,
          8,
          16
         ],
         "xaxis": "x8",
         "y": [
          4.324195541864395e-7,
          0.0004985999192475425,
          0.00020763697784200962,
          0.0004869944275148306
         ],
         "yaxis": "y8"
        },
        {
         "customdata": [
          [
           196666.33943625027
          ],
          [
           202741.58717778185
          ],
          [
           194148.46668483294
          ],
          [
           194814.5592506969
          ]
         ],
         "hovertemplate": "distance function=hyperboloid<br>noise_std=0.1<br>max_depth=5<br>n_classes=10<br>n_dim=%{x}<br>hdt_reg_mse mean=%{y}<br>edt_reg_mse mean=%{customdata[0]}<extra></extra>",
         "legendgroup": "hyperboloid, 0.1",
         "marker": {
          "color": "#EF553B",
          "symbol": "circle"
         },
         "mode": "markers",
         "name": "hyperboloid, 0.1",
         "orientation": "v",
         "showlegend": false,
         "type": "scatter",
         "x": [
          2,
          4,
          8,
          16
         ],
         "xaxis": "x9",
         "y": [
          0.000004830977347321912,
          0.00000840620029739674,
          0.00021273766916679997,
          0.0004255904026876581
         ],
         "yaxis": "y9"
        },
        {
         "customdata": [
          [
           199553.97642043376
          ],
          [
           192818.4063109846
          ],
          [
           189164.95294042924
          ],
          [
           183072.8418691875
          ]
         ],
         "hovertemplate": "distance function=hyperboloid<br>noise_std=0.1<br>max_depth=10<br>n_classes=2<br>n_dim=%{x}<br>hdt_reg_mse mean=%{y}<br>edt_reg_mse mean=%{customdata[0]}<extra></extra>",
         "legendgroup": "hyperboloid, 0.1",
         "marker": {
          "color": "#EF553B",
          "symbol": "circle"
         },
         "mode": "markers",
         "name": "hyperboloid, 0.1",
         "orientation": "v",
         "showlegend": false,
         "type": "scatter",
         "x": [
          2,
          4,
          8,
          16
         ],
         "xaxis": "x4",
         "y": [
          0.0000019897201895109723,
          0.000010965447327009338,
          0.0010216835886085486,
          0.007268246425559094
         ],
         "yaxis": "y4"
        },
        {
         "customdata": [
          [
           222486.64851466112
          ],
          [
           214940.8514632173
          ],
          [
           209821.1072168747
          ],
          [
           198419.1149697021
          ]
         ],
         "hovertemplate": "distance function=hyperboloid<br>noise_std=0.1<br>max_depth=10<br>n_classes=5<br>n_dim=%{x}<br>hdt_reg_mse mean=%{y}<br>edt_reg_mse mean=%{customdata[0]}<extra></extra>",
         "legendgroup": "hyperboloid, 0.1",
         "marker": {
          "color": "#EF553B",
          "symbol": "circle"
         },
         "mode": "markers",
         "name": "hyperboloid, 0.1",
         "orientation": "v",
         "showlegend": false,
         "type": "scatter",
         "x": [
          2,
          4,
          8,
          16
         ],
         "xaxis": "x5",
         "y": [
          2.81924315037739e-7,
          0.0004938087248886661,
          0.00021249875341192796,
          0.00048697786100566025
         ],
         "yaxis": "y5"
        },
        {
         "customdata": [
          [
           196291.9783103294
          ],
          [
           203280.1358567756
          ],
          [
           194496.15598970538
          ],
          [
           194795.8007939379
          ]
         ],
         "hovertemplate": "distance function=hyperboloid<br>noise_std=0.1<br>max_depth=10<br>n_classes=10<br>n_dim=%{x}<br>hdt_reg_mse mean=%{y}<br>edt_reg_mse mean=%{customdata[0]}<extra></extra>",
         "legendgroup": "hyperboloid, 0.1",
         "marker": {
          "color": "#EF553B",
          "symbol": "circle"
         },
         "mode": "markers",
         "name": "hyperboloid, 0.1",
         "orientation": "v",
         "showlegend": false,
         "type": "scatter",
         "x": [
          2,
          4,
          8,
          16
         ],
         "xaxis": "x6",
         "y": [
          0.0000042730911860352635,
          0.000008262272201761988,
          0.00021531061581876666,
          0.0004308552733936515
         ],
         "yaxis": "y6"
        },
        {
         "customdata": [
          [
           199553.97642043376
          ],
          [
           192818.4063109846
          ],
          [
           189164.95294042924
          ],
          [
           183072.8418691875
          ]
         ],
         "hovertemplate": "distance function=hyperboloid<br>noise_std=0.1<br>max_depth=20<br>n_classes=2<br>n_dim=%{x}<br>hdt_reg_mse mean=%{y}<br>edt_reg_mse mean=%{customdata[0]}<extra></extra>",
         "legendgroup": "hyperboloid, 0.1",
         "marker": {
          "color": "#EF553B",
          "symbol": "circle"
         },
         "mode": "markers",
         "name": "hyperboloid, 0.1",
         "orientation": "v",
         "showlegend": false,
         "type": "scatter",
         "x": [
          2,
          4,
          8,
          16
         ],
         "xaxis": "x",
         "y": [
          0.000001988368429594544,
          0.000010821739652756173,
          0.0010219226665226086,
          0.00726867750681601
         ],
         "yaxis": "y"
        },
        {
         "customdata": [
          [
           222486.64851466112
          ],
          [
           214940.8514632173
          ],
          [
           209821.1072168747
          ],
          [
           198419.1149697021
          ]
         ],
         "hovertemplate": "distance function=hyperboloid<br>noise_std=0.1<br>max_depth=20<br>n_classes=5<br>n_dim=%{x}<br>hdt_reg_mse mean=%{y}<br>edt_reg_mse mean=%{customdata[0]}<extra></extra>",
         "legendgroup": "hyperboloid, 0.1",
         "marker": {
          "color": "#EF553B",
          "symbol": "circle"
         },
         "mode": "markers",
         "name": "hyperboloid, 0.1",
         "orientation": "v",
         "showlegend": false,
         "type": "scatter",
         "x": [
          2,
          4,
          8,
          16
         ],
         "xaxis": "x2",
         "y": [
          2.7662729232959956e-7,
          0.0004937959284696353,
          0.00021279543140884823,
          0.00048712580884285243
         ],
         "yaxis": "y2"
        },
        {
         "customdata": [
          [
           196291.9783103294
          ],
          [
           203280.1358567756
          ],
          [
           194496.15598970538
          ],
          [
           194795.8007939379
          ]
         ],
         "hovertemplate": "distance function=hyperboloid<br>noise_std=0.1<br>max_depth=20<br>n_classes=10<br>n_dim=%{x}<br>hdt_reg_mse mean=%{y}<br>edt_reg_mse mean=%{customdata[0]}<extra></extra>",
         "legendgroup": "hyperboloid, 0.1",
         "marker": {
          "color": "#EF553B",
          "symbol": "circle"
         },
         "mode": "markers",
         "name": "hyperboloid, 0.1",
         "orientation": "v",
         "showlegend": false,
         "type": "scatter",
         "x": [
          2,
          4,
          8,
          16
         ],
         "xaxis": "x3",
         "y": [
          0.000004204482922817534,
          0.000008231396373711763,
          0.00021575542600256667,
          0.00043125007480561303
         ],
         "yaxis": "y3"
        },
        {
         "customdata": [
          [
           205749.57411013427
          ],
          [
           188717.38639255092
          ],
          [
           178472.77537304035
          ]
         ],
         "hovertemplate": "distance function=hyperboloid<br>noise_std=0.5<br>max_depth=5<br>n_classes=2<br>n_dim=%{x}<br>hdt_reg_mse mean=%{y}<br>edt_reg_mse mean=%{customdata[0]}<extra></extra>",
         "legendgroup": "hyperboloid, 0.5",
         "marker": {
          "color": "#EF553B",
          "symbol": "diamond"
         },
         "mode": "markers",
         "name": "hyperboloid, 0.5",
         "orientation": "v",
         "showlegend": true,
         "type": "scatter",
         "x": [
          2,
          4,
          8
         ],
         "xaxis": "x7",
         "y": [
          0.00019615247799787568,
          0.00008490461669066387,
          0.010814162516540134
         ],
         "yaxis": "y7"
        },
        {
         "customdata": [
          [
           216284.0723366401
          ],
          [
           203406.6876949619
          ],
          [
           199154.92323638455
          ]
         ],
         "hovertemplate": "distance function=hyperboloid<br>noise_std=0.5<br>max_depth=5<br>n_classes=5<br>n_dim=%{x}<br>hdt_reg_mse mean=%{y}<br>edt_reg_mse mean=%{customdata[0]}<extra></extra>",
         "legendgroup": "hyperboloid, 0.5",
         "marker": {
          "color": "#EF553B",
          "symbol": "diamond"
         },
         "mode": "markers",
         "name": "hyperboloid, 0.5",
         "orientation": "v",
         "showlegend": false,
         "type": "scatter",
         "x": [
          2,
          4,
          8
         ],
         "xaxis": "x8",
         "y": [
          0.000040304210495902934,
          0.003625071878548448,
          0.0027119466637482
         ],
         "yaxis": "y8"
        },
        {
         "customdata": [
          [
           198803.24348186058
          ],
          [
           203159.37713333327
          ],
          [
           186477.86935436982
          ]
         ],
         "hovertemplate": "distance function=hyperboloid<br>noise_std=0.5<br>max_depth=5<br>n_classes=10<br>n_dim=%{x}<br>hdt_reg_mse mean=%{y}<br>edt_reg_mse mean=%{customdata[0]}<extra></extra>",
         "legendgroup": "hyperboloid, 0.5",
         "marker": {
          "color": "#EF553B",
          "symbol": "diamond"
         },
         "mode": "markers",
         "name": "hyperboloid, 0.5",
         "orientation": "v",
         "showlegend": false,
         "type": "scatter",
         "x": [
          2,
          4,
          8
         ],
         "xaxis": "x9",
         "y": [
          0.00021957594236319598,
          0.00046266832699254395,
          0.003143694034322807
         ],
         "yaxis": "y9"
        },
        {
         "customdata": [
          [
           206277.26803146163
          ],
          [
           188708.15675409182
          ],
          [
           178923.64618606353
          ]
         ],
         "hovertemplate": "distance function=hyperboloid<br>noise_std=0.5<br>max_depth=10<br>n_classes=2<br>n_dim=%{x}<br>hdt_reg_mse mean=%{y}<br>edt_reg_mse mean=%{customdata[0]}<extra></extra>",
         "legendgroup": "hyperboloid, 0.5",
         "marker": {
          "color": "#EF553B",
          "symbol": "diamond"
         },
         "mode": "markers",
         "name": "hyperboloid, 0.5",
         "orientation": "v",
         "showlegend": false,
         "type": "scatter",
         "x": [
          2,
          4,
          8
         ],
         "xaxis": "x4",
         "y": [
          0.00019371898197386656,
          0.00013790059892866292,
          0.0108153687007233
         ],
         "yaxis": "y4"
        },
        {
         "customdata": [
          [
           216033.753075117
          ],
          [
           203154.97983261073
          ],
          [
           199154.23070736867
          ]
         ],
         "hovertemplate": "distance function=hyperboloid<br>noise_std=0.5<br>max_depth=10<br>n_classes=5<br>n_dim=%{x}<br>hdt_reg_mse mean=%{y}<br>edt_reg_mse mean=%{customdata[0]}<extra></extra>",
         "legendgroup": "hyperboloid, 0.5",
         "marker": {
          "color": "#EF553B",
          "symbol": "diamond"
         },
         "mode": "markers",
         "name": "hyperboloid, 0.5",
         "orientation": "v",
         "showlegend": false,
         "type": "scatter",
         "x": [
          2,
          4,
          8
         ],
         "xaxis": "x5",
         "y": [
          0.00005413603175952939,
          0.0036260704508999965,
          0.0027119973924604334
         ],
         "yaxis": "y5"
        },
        {
         "customdata": [
          [
           199045.09301463902
          ],
          [
           202959.57053875332
          ],
          [
           186483.03232704967
          ]
         ],
         "hovertemplate": "distance function=hyperboloid<br>noise_std=0.5<br>max_depth=10<br>n_classes=10<br>n_dim=%{x}<br>hdt_reg_mse mean=%{y}<br>edt_reg_mse mean=%{customdata[0]}<extra></extra>",
         "legendgroup": "hyperboloid, 0.5",
         "marker": {
          "color": "#EF553B",
          "symbol": "diamond"
         },
         "mode": "markers",
         "name": "hyperboloid, 0.5",
         "orientation": "v",
         "showlegend": false,
         "type": "scatter",
         "x": [
          2,
          4,
          8
         ],
         "xaxis": "x6",
         "y": [
          0.0002199061473808167,
          0.00046583669026723905,
          0.0031457584776858915
         ],
         "yaxis": "y6"
        },
        {
         "customdata": [
          [
           206277.26803146163
          ],
          [
           188708.15675409182
          ],
          [
           178923.64618606353
          ]
         ],
         "hovertemplate": "distance function=hyperboloid<br>noise_std=0.5<br>max_depth=20<br>n_classes=2<br>n_dim=%{x}<br>hdt_reg_mse mean=%{y}<br>edt_reg_mse mean=%{customdata[0]}<extra></extra>",
         "legendgroup": "hyperboloid, 0.5",
         "marker": {
          "color": "#EF553B",
          "symbol": "diamond"
         },
         "mode": "markers",
         "name": "hyperboloid, 0.5",
         "orientation": "v",
         "showlegend": false,
         "type": "scatter",
         "x": [
          2,
          4,
          8
         ],
         "xaxis": "x",
         "y": [
          0.00019372109876200928,
          0.00013819496209838654,
          0.010815370443356101
         ],
         "yaxis": "y"
        },
        {
         "customdata": [
          [
           216033.753075117
          ],
          [
           203154.97983261073
          ],
          [
           199154.23070736867
          ]
         ],
         "hovertemplate": "distance function=hyperboloid<br>noise_std=0.5<br>max_depth=20<br>n_classes=5<br>n_dim=%{x}<br>hdt_reg_mse mean=%{y}<br>edt_reg_mse mean=%{customdata[0]}<extra></extra>",
         "legendgroup": "hyperboloid, 0.5",
         "marker": {
          "color": "#EF553B",
          "symbol": "diamond"
         },
         "mode": "markers",
         "name": "hyperboloid, 0.5",
         "orientation": "v",
         "showlegend": false,
         "type": "scatter",
         "x": [
          2,
          4,
          8
         ],
         "xaxis": "x2",
         "y": [
          0.000054088987780146734,
          0.0036260750917243272,
          0.0027121292758006
         ],
         "yaxis": "y2"
        },
        {
         "customdata": [
          [
           199045.09301463902
          ],
          [
           202959.57053875332
          ],
          [
           186483.03232704967
          ]
         ],
         "hovertemplate": "distance function=hyperboloid<br>noise_std=0.5<br>max_depth=20<br>n_classes=10<br>n_dim=%{x}<br>hdt_reg_mse mean=%{y}<br>edt_reg_mse mean=%{customdata[0]}<extra></extra>",
         "legendgroup": "hyperboloid, 0.5",
         "marker": {
          "color": "#EF553B",
          "symbol": "diamond"
         },
         "mode": "markers",
         "name": "hyperboloid, 0.5",
         "orientation": "v",
         "showlegend": false,
         "type": "scatter",
         "x": [
          2,
          4,
          8
         ],
         "xaxis": "x3",
         "y": [
          0.000220003832794998,
          0.0004658661851347652,
          0.003145761099741632
         ],
         "yaxis": "y3"
        }
       ],
       "layout": {
        "annotations": [
         {
          "showarrow": false,
          "text": "n_classes=2",
          "x": 0.15666666666666665,
          "xanchor": "center",
          "xref": "paper",
          "y": 0.9999999999999998,
          "yanchor": "bottom",
          "yref": "paper"
         },
         {
          "showarrow": false,
          "text": "n_classes=5",
          "x": 0.49,
          "xanchor": "center",
          "xref": "paper",
          "y": 0.9999999999999998,
          "yanchor": "bottom",
          "yref": "paper"
         },
         {
          "showarrow": false,
          "text": "n_classes=10",
          "x": 0.8233333333333333,
          "xanchor": "center",
          "xref": "paper",
          "y": 0.9999999999999998,
          "yanchor": "bottom",
          "yref": "paper"
         },
         {
          "showarrow": false,
          "text": "max_depth=20",
          "textangle": 90,
          "x": 0.98,
          "xanchor": "left",
          "xref": "paper",
          "y": 0.15666666666666665,
          "yanchor": "middle",
          "yref": "paper"
         },
         {
          "showarrow": false,
          "text": "max_depth=10",
          "textangle": 90,
          "x": 0.98,
          "xanchor": "left",
          "xref": "paper",
          "y": 0.4999999999999999,
          "yanchor": "middle",
          "yref": "paper"
         },
         {
          "showarrow": false,
          "text": "max_depth=5",
          "textangle": 90,
          "x": 0.98,
          "xanchor": "left",
          "xref": "paper",
          "y": 0.8433333333333332,
          "yanchor": "middle",
          "yref": "paper"
         },
         {
          "font": {
           "size": 16
          },
          "showarrow": false,
          "text": "MSE",
          "textangle": -90,
          "x": -0.1,
          "xref": "paper",
          "y": 0.5,
          "yref": "paper"
         },
         {
          "font": {
           "size": 16
          },
          "showarrow": false,
          "text": "Tree Max Depth",
          "x": 0.5,
          "xref": "paper",
          "y": -0.15,
          "yref": "paper"
         }
        ],
        "legend": {
         "title": {
          "text": "distance function, noise_std"
         },
         "tracegroupgap": 0
        },
        "template": {
         "data": {
          "bar": [
           {
            "error_x": {
             "color": "#2a3f5f"
            },
            "error_y": {
             "color": "#2a3f5f"
            },
            "marker": {
             "line": {
              "color": "#E5ECF6",
              "width": 0.5
             },
             "pattern": {
              "fillmode": "overlay",
              "size": 10,
              "solidity": 0.2
             }
            },
            "type": "bar"
           }
          ],
          "barpolar": [
           {
            "marker": {
             "line": {
              "color": "#E5ECF6",
              "width": 0.5
             },
             "pattern": {
              "fillmode": "overlay",
              "size": 10,
              "solidity": 0.2
             }
            },
            "type": "barpolar"
           }
          ],
          "carpet": [
           {
            "aaxis": {
             "endlinecolor": "#2a3f5f",
             "gridcolor": "white",
             "linecolor": "white",
             "minorgridcolor": "white",
             "startlinecolor": "#2a3f5f"
            },
            "baxis": {
             "endlinecolor": "#2a3f5f",
             "gridcolor": "white",
             "linecolor": "white",
             "minorgridcolor": "white",
             "startlinecolor": "#2a3f5f"
            },
            "type": "carpet"
           }
          ],
          "choropleth": [
           {
            "colorbar": {
             "outlinewidth": 0,
             "ticks": ""
            },
            "type": "choropleth"
           }
          ],
          "contour": [
           {
            "colorbar": {
             "outlinewidth": 0,
             "ticks": ""
            },
            "colorscale": [
             [
              0,
              "#0d0887"
             ],
             [
              0.1111111111111111,
              "#46039f"
             ],
             [
              0.2222222222222222,
              "#7201a8"
             ],
             [
              0.3333333333333333,
              "#9c179e"
             ],
             [
              0.4444444444444444,
              "#bd3786"
             ],
             [
              0.5555555555555556,
              "#d8576b"
             ],
             [
              0.6666666666666666,
              "#ed7953"
             ],
             [
              0.7777777777777778,
              "#fb9f3a"
             ],
             [
              0.8888888888888888,
              "#fdca26"
             ],
             [
              1,
              "#f0f921"
             ]
            ],
            "type": "contour"
           }
          ],
          "contourcarpet": [
           {
            "colorbar": {
             "outlinewidth": 0,
             "ticks": ""
            },
            "type": "contourcarpet"
           }
          ],
          "heatmap": [
           {
            "colorbar": {
             "outlinewidth": 0,
             "ticks": ""
            },
            "colorscale": [
             [
              0,
              "#0d0887"
             ],
             [
              0.1111111111111111,
              "#46039f"
             ],
             [
              0.2222222222222222,
              "#7201a8"
             ],
             [
              0.3333333333333333,
              "#9c179e"
             ],
             [
              0.4444444444444444,
              "#bd3786"
             ],
             [
              0.5555555555555556,
              "#d8576b"
             ],
             [
              0.6666666666666666,
              "#ed7953"
             ],
             [
              0.7777777777777778,
              "#fb9f3a"
             ],
             [
              0.8888888888888888,
              "#fdca26"
             ],
             [
              1,
              "#f0f921"
             ]
            ],
            "type": "heatmap"
           }
          ],
          "heatmapgl": [
           {
            "colorbar": {
             "outlinewidth": 0,
             "ticks": ""
            },
            "colorscale": [
             [
              0,
              "#0d0887"
             ],
             [
              0.1111111111111111,
              "#46039f"
             ],
             [
              0.2222222222222222,
              "#7201a8"
             ],
             [
              0.3333333333333333,
              "#9c179e"
             ],
             [
              0.4444444444444444,
              "#bd3786"
             ],
             [
              0.5555555555555556,
              "#d8576b"
             ],
             [
              0.6666666666666666,
              "#ed7953"
             ],
             [
              0.7777777777777778,
              "#fb9f3a"
             ],
             [
              0.8888888888888888,
              "#fdca26"
             ],
             [
              1,
              "#f0f921"
             ]
            ],
            "type": "heatmapgl"
           }
          ],
          "histogram": [
           {
            "marker": {
             "pattern": {
              "fillmode": "overlay",
              "size": 10,
              "solidity": 0.2
             }
            },
            "type": "histogram"
           }
          ],
          "histogram2d": [
           {
            "colorbar": {
             "outlinewidth": 0,
             "ticks": ""
            },
            "colorscale": [
             [
              0,
              "#0d0887"
             ],
             [
              0.1111111111111111,
              "#46039f"
             ],
             [
              0.2222222222222222,
              "#7201a8"
             ],
             [
              0.3333333333333333,
              "#9c179e"
             ],
             [
              0.4444444444444444,
              "#bd3786"
             ],
             [
              0.5555555555555556,
              "#d8576b"
             ],
             [
              0.6666666666666666,
              "#ed7953"
             ],
             [
              0.7777777777777778,
              "#fb9f3a"
             ],
             [
              0.8888888888888888,
              "#fdca26"
             ],
             [
              1,
              "#f0f921"
             ]
            ],
            "type": "histogram2d"
           }
          ],
          "histogram2dcontour": [
           {
            "colorbar": {
             "outlinewidth": 0,
             "ticks": ""
            },
            "colorscale": [
             [
              0,
              "#0d0887"
             ],
             [
              0.1111111111111111,
              "#46039f"
             ],
             [
              0.2222222222222222,
              "#7201a8"
             ],
             [
              0.3333333333333333,
              "#9c179e"
             ],
             [
              0.4444444444444444,
              "#bd3786"
             ],
             [
              0.5555555555555556,
              "#d8576b"
             ],
             [
              0.6666666666666666,
              "#ed7953"
             ],
             [
              0.7777777777777778,
              "#fb9f3a"
             ],
             [
              0.8888888888888888,
              "#fdca26"
             ],
             [
              1,
              "#f0f921"
             ]
            ],
            "type": "histogram2dcontour"
           }
          ],
          "mesh3d": [
           {
            "colorbar": {
             "outlinewidth": 0,
             "ticks": ""
            },
            "type": "mesh3d"
           }
          ],
          "parcoords": [
           {
            "line": {
             "colorbar": {
              "outlinewidth": 0,
              "ticks": ""
             }
            },
            "type": "parcoords"
           }
          ],
          "pie": [
           {
            "automargin": true,
            "type": "pie"
           }
          ],
          "scatter": [
           {
            "fillpattern": {
             "fillmode": "overlay",
             "size": 10,
             "solidity": 0.2
            },
            "type": "scatter"
           }
          ],
          "scatter3d": [
           {
            "line": {
             "colorbar": {
              "outlinewidth": 0,
              "ticks": ""
             }
            },
            "marker": {
             "colorbar": {
              "outlinewidth": 0,
              "ticks": ""
             }
            },
            "type": "scatter3d"
           }
          ],
          "scattercarpet": [
           {
            "marker": {
             "colorbar": {
              "outlinewidth": 0,
              "ticks": ""
             }
            },
            "type": "scattercarpet"
           }
          ],
          "scattergeo": [
           {
            "marker": {
             "colorbar": {
              "outlinewidth": 0,
              "ticks": ""
             }
            },
            "type": "scattergeo"
           }
          ],
          "scattergl": [
           {
            "marker": {
             "colorbar": {
              "outlinewidth": 0,
              "ticks": ""
             }
            },
            "type": "scattergl"
           }
          ],
          "scattermapbox": [
           {
            "marker": {
             "colorbar": {
              "outlinewidth": 0,
              "ticks": ""
             }
            },
            "type": "scattermapbox"
           }
          ],
          "scatterpolar": [
           {
            "marker": {
             "colorbar": {
              "outlinewidth": 0,
              "ticks": ""
             }
            },
            "type": "scatterpolar"
           }
          ],
          "scatterpolargl": [
           {
            "marker": {
             "colorbar": {
              "outlinewidth": 0,
              "ticks": ""
             }
            },
            "type": "scatterpolargl"
           }
          ],
          "scatterternary": [
           {
            "marker": {
             "colorbar": {
              "outlinewidth": 0,
              "ticks": ""
             }
            },
            "type": "scatterternary"
           }
          ],
          "surface": [
           {
            "colorbar": {
             "outlinewidth": 0,
             "ticks": ""
            },
            "colorscale": [
             [
              0,
              "#0d0887"
             ],
             [
              0.1111111111111111,
              "#46039f"
             ],
             [
              0.2222222222222222,
              "#7201a8"
             ],
             [
              0.3333333333333333,
              "#9c179e"
             ],
             [
              0.4444444444444444,
              "#bd3786"
             ],
             [
              0.5555555555555556,
              "#d8576b"
             ],
             [
              0.6666666666666666,
              "#ed7953"
             ],
             [
              0.7777777777777778,
              "#fb9f3a"
             ],
             [
              0.8888888888888888,
              "#fdca26"
             ],
             [
              1,
              "#f0f921"
             ]
            ],
            "type": "surface"
           }
          ],
          "table": [
           {
            "cells": {
             "fill": {
              "color": "#EBF0F8"
             },
             "line": {
              "color": "white"
             }
            },
            "header": {
             "fill": {
              "color": "#C8D4E3"
             },
             "line": {
              "color": "white"
             }
            },
            "type": "table"
           }
          ]
         },
         "layout": {
          "annotationdefaults": {
           "arrowcolor": "#2a3f5f",
           "arrowhead": 0,
           "arrowwidth": 1
          },
          "autotypenumbers": "strict",
          "coloraxis": {
           "colorbar": {
            "outlinewidth": 0,
            "ticks": ""
           }
          },
          "colorscale": {
           "diverging": [
            [
             0,
             "#8e0152"
            ],
            [
             0.1,
             "#c51b7d"
            ],
            [
             0.2,
             "#de77ae"
            ],
            [
             0.3,
             "#f1b6da"
            ],
            [
             0.4,
             "#fde0ef"
            ],
            [
             0.5,
             "#f7f7f7"
            ],
            [
             0.6,
             "#e6f5d0"
            ],
            [
             0.7,
             "#b8e186"
            ],
            [
             0.8,
             "#7fbc41"
            ],
            [
             0.9,
             "#4d9221"
            ],
            [
             1,
             "#276419"
            ]
           ],
           "sequential": [
            [
             0,
             "#0d0887"
            ],
            [
             0.1111111111111111,
             "#46039f"
            ],
            [
             0.2222222222222222,
             "#7201a8"
            ],
            [
             0.3333333333333333,
             "#9c179e"
            ],
            [
             0.4444444444444444,
             "#bd3786"
            ],
            [
             0.5555555555555556,
             "#d8576b"
            ],
            [
             0.6666666666666666,
             "#ed7953"
            ],
            [
             0.7777777777777778,
             "#fb9f3a"
            ],
            [
             0.8888888888888888,
             "#fdca26"
            ],
            [
             1,
             "#f0f921"
            ]
           ],
           "sequentialminus": [
            [
             0,
             "#0d0887"
            ],
            [
             0.1111111111111111,
             "#46039f"
            ],
            [
             0.2222222222222222,
             "#7201a8"
            ],
            [
             0.3333333333333333,
             "#9c179e"
            ],
            [
             0.4444444444444444,
             "#bd3786"
            ],
            [
             0.5555555555555556,
             "#d8576b"
            ],
            [
             0.6666666666666666,
             "#ed7953"
            ],
            [
             0.7777777777777778,
             "#fb9f3a"
            ],
            [
             0.8888888888888888,
             "#fdca26"
            ],
            [
             1,
             "#f0f921"
            ]
           ]
          },
          "colorway": [
           "#636efa",
           "#EF553B",
           "#00cc96",
           "#ab63fa",
           "#FFA15A",
           "#19d3f3",
           "#FF6692",
           "#B6E880",
           "#FF97FF",
           "#FECB52"
          ],
          "font": {
           "color": "#2a3f5f"
          },
          "geo": {
           "bgcolor": "white",
           "lakecolor": "white",
           "landcolor": "#E5ECF6",
           "showlakes": true,
           "showland": true,
           "subunitcolor": "white"
          },
          "hoverlabel": {
           "align": "left"
          },
          "hovermode": "closest",
          "mapbox": {
           "style": "light"
          },
          "paper_bgcolor": "white",
          "plot_bgcolor": "#E5ECF6",
          "polar": {
           "angularaxis": {
            "gridcolor": "white",
            "linecolor": "white",
            "ticks": ""
           },
           "bgcolor": "#E5ECF6",
           "radialaxis": {
            "gridcolor": "white",
            "linecolor": "white",
            "ticks": ""
           }
          },
          "scene": {
           "xaxis": {
            "backgroundcolor": "#E5ECF6",
            "gridcolor": "white",
            "gridwidth": 2,
            "linecolor": "white",
            "showbackground": true,
            "ticks": "",
            "zerolinecolor": "white"
           },
           "yaxis": {
            "backgroundcolor": "#E5ECF6",
            "gridcolor": "white",
            "gridwidth": 2,
            "linecolor": "white",
            "showbackground": true,
            "ticks": "",
            "zerolinecolor": "white"
           },
           "zaxis": {
            "backgroundcolor": "#E5ECF6",
            "gridcolor": "white",
            "gridwidth": 2,
            "linecolor": "white",
            "showbackground": true,
            "ticks": "",
            "zerolinecolor": "white"
           }
          },
          "shapedefaults": {
           "line": {
            "color": "#2a3f5f"
           }
          },
          "ternary": {
           "aaxis": {
            "gridcolor": "white",
            "linecolor": "white",
            "ticks": ""
           },
           "baxis": {
            "gridcolor": "white",
            "linecolor": "white",
            "ticks": ""
           },
           "bgcolor": "#E5ECF6",
           "caxis": {
            "gridcolor": "white",
            "linecolor": "white",
            "ticks": ""
           }
          },
          "title": {
           "x": 0.05
          },
          "xaxis": {
           "automargin": true,
           "gridcolor": "white",
           "linecolor": "white",
           "ticks": "",
           "title": {
            "standoff": 15
           },
           "zerolinecolor": "white",
           "zerolinewidth": 2
          },
          "yaxis": {
           "automargin": true,
           "gridcolor": "white",
           "linecolor": "white",
           "ticks": "",
           "title": {
            "standoff": 15
           },
           "zerolinecolor": "white",
           "zerolinewidth": 2
          }
         }
        },
        "title": {
         "text": "Hyperboloid Distance Function MSE"
        },
        "xaxis": {
         "anchor": "y",
         "domain": [
          0,
          0.3133333333333333
         ],
         "title": {
          "text": ""
         }
        },
        "xaxis2": {
         "anchor": "y2",
         "domain": [
          0.3333333333333333,
          0.6466666666666666
         ],
         "matches": "x",
         "title": {
          "text": ""
         }
        },
        "xaxis3": {
         "anchor": "y3",
         "domain": [
          0.6666666666666666,
          0.98
         ],
         "matches": "x",
         "title": {
          "text": ""
         }
        },
        "xaxis4": {
         "anchor": "y4",
         "domain": [
          0,
          0.3133333333333333
         ],
         "matches": "x",
         "showticklabels": false,
         "title": {
          "text": ""
         }
        },
        "xaxis5": {
         "anchor": "y5",
         "domain": [
          0.3333333333333333,
          0.6466666666666666
         ],
         "matches": "x",
         "showticklabels": false,
         "title": {
          "text": ""
         }
        },
        "xaxis6": {
         "anchor": "y6",
         "domain": [
          0.6666666666666666,
          0.98
         ],
         "matches": "x",
         "showticklabels": false,
         "title": {
          "text": ""
         }
        },
        "xaxis7": {
         "anchor": "y7",
         "domain": [
          0,
          0.3133333333333333
         ],
         "matches": "x",
         "showticklabels": false,
         "title": {
          "text": ""
         }
        },
        "xaxis8": {
         "anchor": "y8",
         "domain": [
          0.3333333333333333,
          0.6466666666666666
         ],
         "matches": "x",
         "showticklabels": false,
         "title": {
          "text": ""
         }
        },
        "xaxis9": {
         "anchor": "y9",
         "domain": [
          0.6666666666666666,
          0.98
         ],
         "matches": "x",
         "showticklabels": false,
         "title": {
          "text": ""
         }
        },
        "yaxis": {
         "anchor": "x",
         "domain": [
          0,
          0.3133333333333333
         ],
         "title": {
          "text": ""
         },
         "type": "log"
        },
        "yaxis2": {
         "anchor": "x2",
         "domain": [
          0,
          0.3133333333333333
         ],
         "matches": "y",
         "showticklabels": false,
         "title": {
          "text": ""
         },
         "type": "log"
        },
        "yaxis3": {
         "anchor": "x3",
         "domain": [
          0,
          0.3133333333333333
         ],
         "matches": "y",
         "showticklabels": false,
         "title": {
          "text": ""
         },
         "type": "log"
        },
        "yaxis4": {
         "anchor": "x4",
         "domain": [
          0.34333333333333327,
          0.6566666666666665
         ],
         "matches": "y",
         "title": {
          "text": ""
         },
         "type": "log"
        },
        "yaxis5": {
         "anchor": "x5",
         "domain": [
          0.34333333333333327,
          0.6566666666666665
         ],
         "matches": "y",
         "showticklabels": false,
         "title": {
          "text": ""
         },
         "type": "log"
        },
        "yaxis6": {
         "anchor": "x6",
         "domain": [
          0.34333333333333327,
          0.6566666666666665
         ],
         "matches": "y",
         "showticklabels": false,
         "title": {
          "text": ""
         },
         "type": "log"
        },
        "yaxis7": {
         "anchor": "x7",
         "domain": [
          0.6866666666666665,
          0.9999999999999998
         ],
         "matches": "y",
         "title": {
          "text": ""
         },
         "type": "log"
        },
        "yaxis8": {
         "anchor": "x8",
         "domain": [
          0.6866666666666665,
          0.9999999999999998
         ],
         "matches": "y",
         "showticklabels": false,
         "title": {
          "text": ""
         },
         "type": "log"
        },
        "yaxis9": {
         "anchor": "x9",
         "domain": [
          0.6866666666666665,
          0.9999999999999998
         ],
         "matches": "y",
         "showticklabels": false,
         "title": {
          "text": ""
         },
         "type": "log"
        }
       }
      },
      "text/html": [
       "<div>                            <div id=\"f59908dd-e4c3-45a8-b04d-b2ec5bdd9b11\" class=\"plotly-graph-div\" style=\"height:525px; width:100%;\"></div>            <script type=\"text/javascript\">                require([\"plotly\"], function(Plotly) {                    window.PLOTLYENV=window.PLOTLYENV || {};                                    if (document.getElementById(\"f59908dd-e4c3-45a8-b04d-b2ec5bdd9b11\")) {                    Plotly.newPlot(                        \"f59908dd-e4c3-45a8-b04d-b2ec5bdd9b11\",                        [{\"customdata\":[[190137.5837318514],[2005759.2710868698],[2932097184829.4395],[1.1226026219854551e+18]],\"hovertemplate\":\"distance function=euclidean\\u003cbr\\u003enoise_std=0.1\\u003cbr\\u003emax_depth=5\\u003cbr\\u003en_classes=2\\u003cbr\\u003en_dim=%{x}\\u003cbr\\u003ehdt_reg_mse mean=%{y}\\u003cbr\\u003eedt_reg_mse mean=%{customdata[0]}\\u003cextra\\u003e\\u003c\\u002fextra\\u003e\",\"legendgroup\":\"euclidean, 0.1\",\"marker\":{\"color\":\"#636efa\",\"symbol\":\"circle\"},\"mode\":\"markers\",\"name\":\"euclidean, 0.1\",\"orientation\":\"v\",\"showlegend\":true,\"x\":[2,4,8,16],\"xaxis\":\"x7\",\"y\":[736.9486619262556,2686330.1913812007,2940318945600.8335,1.0773152603888461e+21],\"yaxis\":\"y7\",\"type\":\"scatter\"},{\"customdata\":[[181856.64593598866],[2460520174.103873],[233909258989.8185],[3.314471481110473e+18]],\"hovertemplate\":\"distance function=euclidean\\u003cbr\\u003enoise_std=0.1\\u003cbr\\u003emax_depth=5\\u003cbr\\u003en_classes=5\\u003cbr\\u003en_dim=%{x}\\u003cbr\\u003ehdt_reg_mse mean=%{y}\\u003cbr\\u003eedt_reg_mse mean=%{customdata[0]}\\u003cextra\\u003e\\u003c\\u002fextra\\u003e\",\"legendgroup\":\"euclidean, 0.1\",\"marker\":{\"color\":\"#636efa\",\"symbol\":\"circle\"},\"mode\":\"markers\",\"name\":\"euclidean, 0.1\",\"orientation\":\"v\",\"showlegend\":false,\"x\":[2,4,8,16],\"xaxis\":\"x8\",\"y\":[199.11895566943613,3335704932.562115,292346898283.77594,1.1048704957168733e+20],\"yaxis\":\"y8\",\"type\":\"scatter\"},{\"customdata\":[[193314.3407071412],[1704091.5895797703],[450752324354.549],[4.971480875456169e+18]],\"hovertemplate\":\"distance function=euclidean\\u003cbr\\u003enoise_std=0.1\\u003cbr\\u003emax_depth=5\\u003cbr\\u003en_classes=10\\u003cbr\\u003en_dim=%{x}\\u003cbr\\u003ehdt_reg_mse mean=%{y}\\u003cbr\\u003eedt_reg_mse mean=%{customdata[0]}\\u003cextra\\u003e\\u003c\\u002fextra\\u003e\",\"legendgroup\":\"euclidean, 0.1\",\"marker\":{\"color\":\"#636efa\",\"symbol\":\"circle\"},\"mode\":\"markers\",\"name\":\"euclidean, 0.1\",\"orientation\":\"v\",\"showlegend\":false,\"x\":[2,4,8,16],\"xaxis\":\"x9\",\"y\":[2073.552717031215,1566905.7893582024,1531087038135.7659,4.8163604654800083e+20],\"yaxis\":\"y9\",\"type\":\"scatter\"},{\"customdata\":[[190152.87501582256],[2003932.5396017497],[2932095283383.4585],[1.1226026205480489e+18]],\"hovertemplate\":\"distance function=euclidean\\u003cbr\\u003enoise_std=0.1\\u003cbr\\u003emax_depth=10\\u003cbr\\u003en_classes=2\\u003cbr\\u003en_dim=%{x}\\u003cbr\\u003ehdt_reg_mse mean=%{y}\\u003cbr\\u003eedt_reg_mse mean=%{customdata[0]}\\u003cextra\\u003e\\u003c\\u002fextra\\u003e\",\"legendgroup\":\"euclidean, 0.1\",\"marker\":{\"color\":\"#636efa\",\"symbol\":\"circle\"},\"mode\":\"markers\",\"name\":\"euclidean, 0.1\",\"orientation\":\"v\",\"showlegend\":false,\"x\":[2,4,8,16],\"xaxis\":\"x4\",\"y\":[487.2379015470195,2548003.9647423434,3000487647274.607,1.0776623498450095e+21],\"yaxis\":\"y4\",\"type\":\"scatter\"},{\"customdata\":[[181578.9821381215],[2460472540.0769577],[233908534411.9541],[3.314471478487376e+18]],\"hovertemplate\":\"distance function=euclidean\\u003cbr\\u003enoise_std=0.1\\u003cbr\\u003emax_depth=10\\u003cbr\\u003en_classes=5\\u003cbr\\u003en_dim=%{x}\\u003cbr\\u003ehdt_reg_mse mean=%{y}\\u003cbr\\u003eedt_reg_mse mean=%{customdata[0]}\\u003cextra\\u003e\\u003c\\u002fextra\\u003e\",\"legendgroup\":\"euclidean, 0.1\",\"marker\":{\"color\":\"#636efa\",\"symbol\":\"circle\"},\"mode\":\"markers\",\"name\":\"euclidean, 0.1\",\"orientation\":\"v\",\"showlegend\":false,\"x\":[2,4,8,16],\"xaxis\":\"x5\",\"y\":[111.29477523635207,3276602220.059009,298527107325.20184,1.1046254342602092e+20],\"yaxis\":\"y5\",\"type\":\"scatter\"},{\"customdata\":[[193691.47142048096],[1702525.517491826],[450751672037.1246],[4.97148087401121e+18]],\"hovertemplate\":\"distance function=euclidean\\u003cbr\\u003enoise_std=0.1\\u003cbr\\u003emax_depth=10\\u003cbr\\u003en_classes=10\\u003cbr\\u003en_dim=%{x}\\u003cbr\\u003ehdt_reg_mse mean=%{y}\\u003cbr\\u003eedt_reg_mse mean=%{customdata[0]}\\u003cextra\\u003e\\u003c\\u002fextra\\u003e\",\"legendgroup\":\"euclidean, 0.1\",\"marker\":{\"color\":\"#636efa\",\"symbol\":\"circle\"},\"mode\":\"markers\",\"name\":\"euclidean, 0.1\",\"orientation\":\"v\",\"showlegend\":false,\"x\":[2,4,8,16],\"xaxis\":\"x6\",\"y\":[1833.4036147835288,1557725.0514349916,1538191073146.0193,4.859481067251193e+20],\"yaxis\":\"y6\",\"type\":\"scatter\"},{\"customdata\":[[190152.87501582256],[2003932.5396017497],[2932095283383.4585],[1.1226026205480489e+18]],\"hovertemplate\":\"distance function=euclidean\\u003cbr\\u003enoise_std=0.1\\u003cbr\\u003emax_depth=20\\u003cbr\\u003en_classes=2\\u003cbr\\u003en_dim=%{x}\\u003cbr\\u003ehdt_reg_mse mean=%{y}\\u003cbr\\u003eedt_reg_mse mean=%{customdata[0]}\\u003cextra\\u003e\\u003c\\u002fextra\\u003e\",\"legendgroup\":\"euclidean, 0.1\",\"marker\":{\"color\":\"#636efa\",\"symbol\":\"circle\"},\"mode\":\"markers\",\"name\":\"euclidean, 0.1\",\"orientation\":\"v\",\"showlegend\":false,\"x\":[2,4,8,16],\"xaxis\":\"x\",\"y\":[485.63927538822173,2537167.3152467874,3001998554750.9507,1.0777032128905268e+21],\"yaxis\":\"y\",\"type\":\"scatter\"},{\"customdata\":[[181578.9821381215],[2460472540.0769577],[233908534411.9541],[3.314471478487376e+18]],\"hovertemplate\":\"distance function=euclidean\\u003cbr\\u003enoise_std=0.1\\u003cbr\\u003emax_depth=20\\u003cbr\\u003en_classes=5\\u003cbr\\u003en_dim=%{x}\\u003cbr\\u003ehdt_reg_mse mean=%{y}\\u003cbr\\u003eedt_reg_mse mean=%{customdata[0]}\\u003cextra\\u003e\\u003c\\u002fextra\\u003e\",\"legendgroup\":\"euclidean, 0.1\",\"marker\":{\"color\":\"#636efa\",\"symbol\":\"circle\"},\"mode\":\"markers\",\"name\":\"euclidean, 0.1\",\"orientation\":\"v\",\"showlegend\":false,\"x\":[2,4,8,16],\"xaxis\":\"x2\",\"y\":[105.6530903312475,3276604927.3422337,299154885493.1694,1.1050814198489665e+20],\"yaxis\":\"y2\",\"type\":\"scatter\"},{\"customdata\":[[193691.47142048096],[1702525.517491826],[450751672037.1246],[4.97148087401121e+18]],\"hovertemplate\":\"distance function=euclidean\\u003cbr\\u003enoise_std=0.1\\u003cbr\\u003emax_depth=20\\u003cbr\\u003en_classes=10\\u003cbr\\u003en_dim=%{x}\\u003cbr\\u003ehdt_reg_mse mean=%{y}\\u003cbr\\u003eedt_reg_mse mean=%{customdata[0]}\\u003cextra\\u003e\\u003c\\u002fextra\\u003e\",\"legendgroup\":\"euclidean, 0.1\",\"marker\":{\"color\":\"#636efa\",\"symbol\":\"circle\"},\"mode\":\"markers\",\"name\":\"euclidean, 0.1\",\"orientation\":\"v\",\"showlegend\":false,\"x\":[2,4,8,16],\"xaxis\":\"x3\",\"y\":[1803.1946308321033,1557414.644833667,1541677074358.3984,4.8604890383491065e+20],\"yaxis\":\"y3\",\"type\":\"scatter\"},{\"customdata\":[[25436560.150584336],[15327355292652.766],[3.729647587223951e+27]],\"hovertemplate\":\"distance function=euclidean\\u003cbr\\u003enoise_std=0.5\\u003cbr\\u003emax_depth=5\\u003cbr\\u003en_classes=2\\u003cbr\\u003en_dim=%{x}\\u003cbr\\u003ehdt_reg_mse mean=%{y}\\u003cbr\\u003eedt_reg_mse mean=%{customdata[0]}\\u003cextra\\u003e\\u003c\\u002fextra\\u003e\",\"legendgroup\":\"euclidean, 0.5\",\"marker\":{\"color\":\"#636efa\",\"symbol\":\"diamond\"},\"mode\":\"markers\",\"name\":\"euclidean, 0.5\",\"orientation\":\"v\",\"showlegend\":true,\"x\":[2,4,8],\"xaxis\":\"x7\",\"y\":[23013153.84390979,17236024165953.35,3.293035507889939e+27],\"yaxis\":\"y7\",\"type\":\"scatter\"},{\"customdata\":[[438491.3755826042],[1.7640070726921943e+19],[3.398022217121096e+23]],\"hovertemplate\":\"distance function=euclidean\\u003cbr\\u003enoise_std=0.5\\u003cbr\\u003emax_depth=5\\u003cbr\\u003en_classes=5\\u003cbr\\u003en_dim=%{x}\\u003cbr\\u003ehdt_reg_mse mean=%{y}\\u003cbr\\u003eedt_reg_mse mean=%{customdata[0]}\\u003cextra\\u003e\\u003c\\u002fextra\\u003e\",\"legendgroup\":\"euclidean, 0.5\",\"marker\":{\"color\":\"#636efa\",\"symbol\":\"diamond\"},\"mode\":\"markers\",\"name\":\"euclidean, 0.5\",\"orientation\":\"v\",\"showlegend\":false,\"x\":[2,4,8],\"xaxis\":\"x8\",\"y\":[2850954.511669125,1.9496451297581924e+19,3.7835068799352915e+23],\"yaxis\":\"y8\",\"type\":\"scatter\"},{\"customdata\":[[174581538.31303155],[635703823015.3083],[8.848147016058778e+22]],\"hovertemplate\":\"distance function=euclidean\\u003cbr\\u003enoise_std=0.5\\u003cbr\\u003emax_depth=5\\u003cbr\\u003en_classes=10\\u003cbr\\u003en_dim=%{x}\\u003cbr\\u003ehdt_reg_mse mean=%{y}\\u003cbr\\u003eedt_reg_mse mean=%{customdata[0]}\\u003cextra\\u003e\\u003c\\u002fextra\\u003e\",\"legendgroup\":\"euclidean, 0.5\",\"marker\":{\"color\":\"#636efa\",\"symbol\":\"diamond\"},\"mode\":\"markers\",\"name\":\"euclidean, 0.5\",\"orientation\":\"v\",\"showlegend\":false,\"x\":[2,4,8],\"xaxis\":\"x9\",\"y\":[183505801.48235092,1119262784355.7224,1.3242769071669454e+25],\"yaxis\":\"y9\",\"type\":\"scatter\"},{\"customdata\":[[25429498.215234455],[15327351848898.88],[3.7296475872238936e+27]],\"hovertemplate\":\"distance function=euclidean\\u003cbr\\u003enoise_std=0.5\\u003cbr\\u003emax_depth=10\\u003cbr\\u003en_classes=2\\u003cbr\\u003en_dim=%{x}\\u003cbr\\u003ehdt_reg_mse mean=%{y}\\u003cbr\\u003eedt_reg_mse mean=%{customdata[0]}\\u003cextra\\u003e\\u003c\\u002fextra\\u003e\",\"legendgroup\":\"euclidean, 0.5\",\"marker\":{\"color\":\"#636efa\",\"symbol\":\"diamond\"},\"mode\":\"markers\",\"name\":\"euclidean, 0.5\",\"orientation\":\"v\",\"showlegend\":false,\"x\":[2,4,8],\"xaxis\":\"x4\",\"y\":[11621212.971141959,26851689811954.23,3.293035633672221e+27],\"yaxis\":\"y4\",\"type\":\"scatter\"},{\"customdata\":[[438900.15923258616],[1.7640070722805205e+19],[3.39802221711272e+23]],\"hovertemplate\":\"distance function=euclidean\\u003cbr\\u003enoise_std=0.5\\u003cbr\\u003emax_depth=10\\u003cbr\\u003en_classes=5\\u003cbr\\u003en_dim=%{x}\\u003cbr\\u003ehdt_reg_mse mean=%{y}\\u003cbr\\u003eedt_reg_mse mean=%{customdata[0]}\\u003cextra\\u003e\\u003c\\u002fextra\\u003e\",\"legendgroup\":\"euclidean, 0.5\",\"marker\":{\"color\":\"#636efa\",\"symbol\":\"diamond\"},\"mode\":\"markers\",\"name\":\"euclidean, 0.5\",\"orientation\":\"v\",\"showlegend\":false,\"x\":[2,4,8],\"xaxis\":\"x5\",\"y\":[3939628.9515577643,1.9502190466772648e+19,3.783620253691657e+23],\"yaxis\":\"y5\",\"type\":\"scatter\"},{\"customdata\":[[174556432.4773598],[635703071362.7554],[8.848147016030842e+22]],\"hovertemplate\":\"distance function=euclidean\\u003cbr\\u003enoise_std=0.5\\u003cbr\\u003emax_depth=10\\u003cbr\\u003en_classes=10\\u003cbr\\u003en_dim=%{x}\\u003cbr\\u003ehdt_reg_mse mean=%{y}\\u003cbr\\u003eedt_reg_mse mean=%{customdata[0]}\\u003cextra\\u003e\\u003c\\u002fextra\\u003e\",\"legendgroup\":\"euclidean, 0.5\",\"marker\":{\"color\":\"#636efa\",\"symbol\":\"diamond\"},\"mode\":\"markers\",\"name\":\"euclidean, 0.5\",\"orientation\":\"v\",\"showlegend\":false,\"x\":[2,4,8],\"xaxis\":\"x6\",\"y\":[184259604.6369882,2642732595720.586,1.3243985052803872e+25],\"yaxis\":\"y6\",\"type\":\"scatter\"},{\"customdata\":[[25429498.215234455],[15327351848898.88],[3.7296475872238936e+27]],\"hovertemplate\":\"distance function=euclidean\\u003cbr\\u003enoise_std=0.5\\u003cbr\\u003emax_depth=20\\u003cbr\\u003en_classes=2\\u003cbr\\u003en_dim=%{x}\\u003cbr\\u003ehdt_reg_mse mean=%{y}\\u003cbr\\u003eedt_reg_mse mean=%{customdata[0]}\\u003cextra\\u003e\\u003c\\u002fextra\\u003e\",\"legendgroup\":\"euclidean, 0.5\",\"marker\":{\"color\":\"#636efa\",\"symbol\":\"diamond\"},\"mode\":\"markers\",\"name\":\"euclidean, 0.5\",\"orientation\":\"v\",\"showlegend\":false,\"x\":[2,4,8],\"xaxis\":\"x\",\"y\":[11622226.760936042,26853954041427.645,3.293035635047462e+27],\"yaxis\":\"y\",\"type\":\"scatter\"},{\"customdata\":[[438900.15923258616],[1.7640070722805205e+19],[3.39802221711272e+23]],\"hovertemplate\":\"distance function=euclidean\\u003cbr\\u003enoise_std=0.5\\u003cbr\\u003emax_depth=20\\u003cbr\\u003en_classes=5\\u003cbr\\u003en_dim=%{x}\\u003cbr\\u003ehdt_reg_mse mean=%{y}\\u003cbr\\u003eedt_reg_mse mean=%{customdata[0]}\\u003cextra\\u003e\\u003c\\u002fextra\\u003e\",\"legendgroup\":\"euclidean, 0.5\",\"marker\":{\"color\":\"#636efa\",\"symbol\":\"diamond\"},\"mode\":\"markers\",\"name\":\"euclidean, 0.5\",\"orientation\":\"v\",\"showlegend\":false,\"x\":[2,4,8],\"xaxis\":\"x2\",\"y\":[3937529.2296038293,1.950222727625031e+19,3.7837399556724766e+23],\"yaxis\":\"y2\",\"type\":\"scatter\"},{\"customdata\":[[174556432.4773598],[635703071362.7554],[8.848147016030842e+22]],\"hovertemplate\":\"distance function=euclidean\\u003cbr\\u003enoise_std=0.5\\u003cbr\\u003emax_depth=20\\u003cbr\\u003en_classes=10\\u003cbr\\u003en_dim=%{x}\\u003cbr\\u003ehdt_reg_mse mean=%{y}\\u003cbr\\u003eedt_reg_mse mean=%{customdata[0]}\\u003cextra\\u003e\\u003c\\u002fextra\\u003e\",\"legendgroup\":\"euclidean, 0.5\",\"marker\":{\"color\":\"#636efa\",\"symbol\":\"diamond\"},\"mode\":\"markers\",\"name\":\"euclidean, 0.5\",\"orientation\":\"v\",\"showlegend\":false,\"x\":[2,4,8],\"xaxis\":\"x3\",\"y\":[184252074.901083,2639801339343.8257,1.3244040172279662e+25],\"yaxis\":\"y3\",\"type\":\"scatter\"},{\"customdata\":[[199318.1221645202],[192976.41030114112],[188979.8424552688],[183199.11969766123]],\"hovertemplate\":\"distance function=hyperboloid\\u003cbr\\u003enoise_std=0.1\\u003cbr\\u003emax_depth=5\\u003cbr\\u003en_classes=2\\u003cbr\\u003en_dim=%{x}\\u003cbr\\u003ehdt_reg_mse mean=%{y}\\u003cbr\\u003eedt_reg_mse mean=%{customdata[0]}\\u003cextra\\u003e\\u003c\\u002fextra\\u003e\",\"legendgroup\":\"hyperboloid, 0.1\",\"marker\":{\"color\":\"#EF553B\",\"symbol\":\"circle\"},\"mode\":\"markers\",\"name\":\"hyperboloid, 0.1\",\"orientation\":\"v\",\"showlegend\":true,\"x\":[2,4,8,16],\"xaxis\":\"x7\",\"y\":[2.2472104806718917e-06,7.118994937291584e-06,0.0010049438358505553,0.007267406619411363],\"yaxis\":\"y7\",\"type\":\"scatter\"},{\"customdata\":[[222044.39142287895],[214900.26187192093],[210205.97632152284],[198255.4512628937]],\"hovertemplate\":\"distance function=hyperboloid\\u003cbr\\u003enoise_std=0.1\\u003cbr\\u003emax_depth=5\\u003cbr\\u003en_classes=5\\u003cbr\\u003en_dim=%{x}\\u003cbr\\u003ehdt_reg_mse mean=%{y}\\u003cbr\\u003eedt_reg_mse mean=%{customdata[0]}\\u003cextra\\u003e\\u003c\\u002fextra\\u003e\",\"legendgroup\":\"hyperboloid, 0.1\",\"marker\":{\"color\":\"#EF553B\",\"symbol\":\"circle\"},\"mode\":\"markers\",\"name\":\"hyperboloid, 0.1\",\"orientation\":\"v\",\"showlegend\":false,\"x\":[2,4,8,16],\"xaxis\":\"x8\",\"y\":[4.324195541864395e-07,0.0004985999192475425,0.00020763697784200962,0.0004869944275148306],\"yaxis\":\"y8\",\"type\":\"scatter\"},{\"customdata\":[[196666.33943625027],[202741.58717778185],[194148.46668483294],[194814.5592506969]],\"hovertemplate\":\"distance function=hyperboloid\\u003cbr\\u003enoise_std=0.1\\u003cbr\\u003emax_depth=5\\u003cbr\\u003en_classes=10\\u003cbr\\u003en_dim=%{x}\\u003cbr\\u003ehdt_reg_mse mean=%{y}\\u003cbr\\u003eedt_reg_mse mean=%{customdata[0]}\\u003cextra\\u003e\\u003c\\u002fextra\\u003e\",\"legendgroup\":\"hyperboloid, 0.1\",\"marker\":{\"color\":\"#EF553B\",\"symbol\":\"circle\"},\"mode\":\"markers\",\"name\":\"hyperboloid, 0.1\",\"orientation\":\"v\",\"showlegend\":false,\"x\":[2,4,8,16],\"xaxis\":\"x9\",\"y\":[4.830977347321912e-06,8.40620029739674e-06,0.00021273766916679997,0.0004255904026876581],\"yaxis\":\"y9\",\"type\":\"scatter\"},{\"customdata\":[[199553.97642043376],[192818.4063109846],[189164.95294042924],[183072.8418691875]],\"hovertemplate\":\"distance function=hyperboloid\\u003cbr\\u003enoise_std=0.1\\u003cbr\\u003emax_depth=10\\u003cbr\\u003en_classes=2\\u003cbr\\u003en_dim=%{x}\\u003cbr\\u003ehdt_reg_mse mean=%{y}\\u003cbr\\u003eedt_reg_mse mean=%{customdata[0]}\\u003cextra\\u003e\\u003c\\u002fextra\\u003e\",\"legendgroup\":\"hyperboloid, 0.1\",\"marker\":{\"color\":\"#EF553B\",\"symbol\":\"circle\"},\"mode\":\"markers\",\"name\":\"hyperboloid, 0.1\",\"orientation\":\"v\",\"showlegend\":false,\"x\":[2,4,8,16],\"xaxis\":\"x4\",\"y\":[1.9897201895109723e-06,1.0965447327009338e-05,0.0010216835886085486,0.007268246425559094],\"yaxis\":\"y4\",\"type\":\"scatter\"},{\"customdata\":[[222486.64851466112],[214940.8514632173],[209821.1072168747],[198419.1149697021]],\"hovertemplate\":\"distance function=hyperboloid\\u003cbr\\u003enoise_std=0.1\\u003cbr\\u003emax_depth=10\\u003cbr\\u003en_classes=5\\u003cbr\\u003en_dim=%{x}\\u003cbr\\u003ehdt_reg_mse mean=%{y}\\u003cbr\\u003eedt_reg_mse mean=%{customdata[0]}\\u003cextra\\u003e\\u003c\\u002fextra\\u003e\",\"legendgroup\":\"hyperboloid, 0.1\",\"marker\":{\"color\":\"#EF553B\",\"symbol\":\"circle\"},\"mode\":\"markers\",\"name\":\"hyperboloid, 0.1\",\"orientation\":\"v\",\"showlegend\":false,\"x\":[2,4,8,16],\"xaxis\":\"x5\",\"y\":[2.81924315037739e-07,0.0004938087248886661,0.00021249875341192796,0.00048697786100566025],\"yaxis\":\"y5\",\"type\":\"scatter\"},{\"customdata\":[[196291.9783103294],[203280.1358567756],[194496.15598970538],[194795.8007939379]],\"hovertemplate\":\"distance function=hyperboloid\\u003cbr\\u003enoise_std=0.1\\u003cbr\\u003emax_depth=10\\u003cbr\\u003en_classes=10\\u003cbr\\u003en_dim=%{x}\\u003cbr\\u003ehdt_reg_mse mean=%{y}\\u003cbr\\u003eedt_reg_mse mean=%{customdata[0]}\\u003cextra\\u003e\\u003c\\u002fextra\\u003e\",\"legendgroup\":\"hyperboloid, 0.1\",\"marker\":{\"color\":\"#EF553B\",\"symbol\":\"circle\"},\"mode\":\"markers\",\"name\":\"hyperboloid, 0.1\",\"orientation\":\"v\",\"showlegend\":false,\"x\":[2,4,8,16],\"xaxis\":\"x6\",\"y\":[4.2730911860352635e-06,8.262272201761988e-06,0.00021531061581876666,0.0004308552733936515],\"yaxis\":\"y6\",\"type\":\"scatter\"},{\"customdata\":[[199553.97642043376],[192818.4063109846],[189164.95294042924],[183072.8418691875]],\"hovertemplate\":\"distance function=hyperboloid\\u003cbr\\u003enoise_std=0.1\\u003cbr\\u003emax_depth=20\\u003cbr\\u003en_classes=2\\u003cbr\\u003en_dim=%{x}\\u003cbr\\u003ehdt_reg_mse mean=%{y}\\u003cbr\\u003eedt_reg_mse mean=%{customdata[0]}\\u003cextra\\u003e\\u003c\\u002fextra\\u003e\",\"legendgroup\":\"hyperboloid, 0.1\",\"marker\":{\"color\":\"#EF553B\",\"symbol\":\"circle\"},\"mode\":\"markers\",\"name\":\"hyperboloid, 0.1\",\"orientation\":\"v\",\"showlegend\":false,\"x\":[2,4,8,16],\"xaxis\":\"x\",\"y\":[1.988368429594544e-06,1.0821739652756173e-05,0.0010219226665226086,0.00726867750681601],\"yaxis\":\"y\",\"type\":\"scatter\"},{\"customdata\":[[222486.64851466112],[214940.8514632173],[209821.1072168747],[198419.1149697021]],\"hovertemplate\":\"distance function=hyperboloid\\u003cbr\\u003enoise_std=0.1\\u003cbr\\u003emax_depth=20\\u003cbr\\u003en_classes=5\\u003cbr\\u003en_dim=%{x}\\u003cbr\\u003ehdt_reg_mse mean=%{y}\\u003cbr\\u003eedt_reg_mse mean=%{customdata[0]}\\u003cextra\\u003e\\u003c\\u002fextra\\u003e\",\"legendgroup\":\"hyperboloid, 0.1\",\"marker\":{\"color\":\"#EF553B\",\"symbol\":\"circle\"},\"mode\":\"markers\",\"name\":\"hyperboloid, 0.1\",\"orientation\":\"v\",\"showlegend\":false,\"x\":[2,4,8,16],\"xaxis\":\"x2\",\"y\":[2.7662729232959956e-07,0.0004937959284696353,0.00021279543140884823,0.00048712580884285243],\"yaxis\":\"y2\",\"type\":\"scatter\"},{\"customdata\":[[196291.9783103294],[203280.1358567756],[194496.15598970538],[194795.8007939379]],\"hovertemplate\":\"distance function=hyperboloid\\u003cbr\\u003enoise_std=0.1\\u003cbr\\u003emax_depth=20\\u003cbr\\u003en_classes=10\\u003cbr\\u003en_dim=%{x}\\u003cbr\\u003ehdt_reg_mse mean=%{y}\\u003cbr\\u003eedt_reg_mse mean=%{customdata[0]}\\u003cextra\\u003e\\u003c\\u002fextra\\u003e\",\"legendgroup\":\"hyperboloid, 0.1\",\"marker\":{\"color\":\"#EF553B\",\"symbol\":\"circle\"},\"mode\":\"markers\",\"name\":\"hyperboloid, 0.1\",\"orientation\":\"v\",\"showlegend\":false,\"x\":[2,4,8,16],\"xaxis\":\"x3\",\"y\":[4.204482922817534e-06,8.231396373711763e-06,0.00021575542600256667,0.00043125007480561303],\"yaxis\":\"y3\",\"type\":\"scatter\"},{\"customdata\":[[205749.57411013427],[188717.38639255092],[178472.77537304035]],\"hovertemplate\":\"distance function=hyperboloid\\u003cbr\\u003enoise_std=0.5\\u003cbr\\u003emax_depth=5\\u003cbr\\u003en_classes=2\\u003cbr\\u003en_dim=%{x}\\u003cbr\\u003ehdt_reg_mse mean=%{y}\\u003cbr\\u003eedt_reg_mse mean=%{customdata[0]}\\u003cextra\\u003e\\u003c\\u002fextra\\u003e\",\"legendgroup\":\"hyperboloid, 0.5\",\"marker\":{\"color\":\"#EF553B\",\"symbol\":\"diamond\"},\"mode\":\"markers\",\"name\":\"hyperboloid, 0.5\",\"orientation\":\"v\",\"showlegend\":true,\"x\":[2,4,8],\"xaxis\":\"x7\",\"y\":[0.00019615247799787568,8.490461669066387e-05,0.010814162516540134],\"yaxis\":\"y7\",\"type\":\"scatter\"},{\"customdata\":[[216284.0723366401],[203406.6876949619],[199154.92323638455]],\"hovertemplate\":\"distance function=hyperboloid\\u003cbr\\u003enoise_std=0.5\\u003cbr\\u003emax_depth=5\\u003cbr\\u003en_classes=5\\u003cbr\\u003en_dim=%{x}\\u003cbr\\u003ehdt_reg_mse mean=%{y}\\u003cbr\\u003eedt_reg_mse mean=%{customdata[0]}\\u003cextra\\u003e\\u003c\\u002fextra\\u003e\",\"legendgroup\":\"hyperboloid, 0.5\",\"marker\":{\"color\":\"#EF553B\",\"symbol\":\"diamond\"},\"mode\":\"markers\",\"name\":\"hyperboloid, 0.5\",\"orientation\":\"v\",\"showlegend\":false,\"x\":[2,4,8],\"xaxis\":\"x8\",\"y\":[4.0304210495902934e-05,0.003625071878548448,0.0027119466637482],\"yaxis\":\"y8\",\"type\":\"scatter\"},{\"customdata\":[[198803.24348186058],[203159.37713333327],[186477.86935436982]],\"hovertemplate\":\"distance function=hyperboloid\\u003cbr\\u003enoise_std=0.5\\u003cbr\\u003emax_depth=5\\u003cbr\\u003en_classes=10\\u003cbr\\u003en_dim=%{x}\\u003cbr\\u003ehdt_reg_mse mean=%{y}\\u003cbr\\u003eedt_reg_mse mean=%{customdata[0]}\\u003cextra\\u003e\\u003c\\u002fextra\\u003e\",\"legendgroup\":\"hyperboloid, 0.5\",\"marker\":{\"color\":\"#EF553B\",\"symbol\":\"diamond\"},\"mode\":\"markers\",\"name\":\"hyperboloid, 0.5\",\"orientation\":\"v\",\"showlegend\":false,\"x\":[2,4,8],\"xaxis\":\"x9\",\"y\":[0.00021957594236319598,0.00046266832699254395,0.003143694034322807],\"yaxis\":\"y9\",\"type\":\"scatter\"},{\"customdata\":[[206277.26803146163],[188708.15675409182],[178923.64618606353]],\"hovertemplate\":\"distance function=hyperboloid\\u003cbr\\u003enoise_std=0.5\\u003cbr\\u003emax_depth=10\\u003cbr\\u003en_classes=2\\u003cbr\\u003en_dim=%{x}\\u003cbr\\u003ehdt_reg_mse mean=%{y}\\u003cbr\\u003eedt_reg_mse mean=%{customdata[0]}\\u003cextra\\u003e\\u003c\\u002fextra\\u003e\",\"legendgroup\":\"hyperboloid, 0.5\",\"marker\":{\"color\":\"#EF553B\",\"symbol\":\"diamond\"},\"mode\":\"markers\",\"name\":\"hyperboloid, 0.5\",\"orientation\":\"v\",\"showlegend\":false,\"x\":[2,4,8],\"xaxis\":\"x4\",\"y\":[0.00019371898197386656,0.00013790059892866292,0.0108153687007233],\"yaxis\":\"y4\",\"type\":\"scatter\"},{\"customdata\":[[216033.753075117],[203154.97983261073],[199154.23070736867]],\"hovertemplate\":\"distance function=hyperboloid\\u003cbr\\u003enoise_std=0.5\\u003cbr\\u003emax_depth=10\\u003cbr\\u003en_classes=5\\u003cbr\\u003en_dim=%{x}\\u003cbr\\u003ehdt_reg_mse mean=%{y}\\u003cbr\\u003eedt_reg_mse mean=%{customdata[0]}\\u003cextra\\u003e\\u003c\\u002fextra\\u003e\",\"legendgroup\":\"hyperboloid, 0.5\",\"marker\":{\"color\":\"#EF553B\",\"symbol\":\"diamond\"},\"mode\":\"markers\",\"name\":\"hyperboloid, 0.5\",\"orientation\":\"v\",\"showlegend\":false,\"x\":[2,4,8],\"xaxis\":\"x5\",\"y\":[5.413603175952939e-05,0.0036260704508999965,0.0027119973924604334],\"yaxis\":\"y5\",\"type\":\"scatter\"},{\"customdata\":[[199045.09301463902],[202959.57053875332],[186483.03232704967]],\"hovertemplate\":\"distance function=hyperboloid\\u003cbr\\u003enoise_std=0.5\\u003cbr\\u003emax_depth=10\\u003cbr\\u003en_classes=10\\u003cbr\\u003en_dim=%{x}\\u003cbr\\u003ehdt_reg_mse mean=%{y}\\u003cbr\\u003eedt_reg_mse mean=%{customdata[0]}\\u003cextra\\u003e\\u003c\\u002fextra\\u003e\",\"legendgroup\":\"hyperboloid, 0.5\",\"marker\":{\"color\":\"#EF553B\",\"symbol\":\"diamond\"},\"mode\":\"markers\",\"name\":\"hyperboloid, 0.5\",\"orientation\":\"v\",\"showlegend\":false,\"x\":[2,4,8],\"xaxis\":\"x6\",\"y\":[0.0002199061473808167,0.00046583669026723905,0.0031457584776858915],\"yaxis\":\"y6\",\"type\":\"scatter\"},{\"customdata\":[[206277.26803146163],[188708.15675409182],[178923.64618606353]],\"hovertemplate\":\"distance function=hyperboloid\\u003cbr\\u003enoise_std=0.5\\u003cbr\\u003emax_depth=20\\u003cbr\\u003en_classes=2\\u003cbr\\u003en_dim=%{x}\\u003cbr\\u003ehdt_reg_mse mean=%{y}\\u003cbr\\u003eedt_reg_mse mean=%{customdata[0]}\\u003cextra\\u003e\\u003c\\u002fextra\\u003e\",\"legendgroup\":\"hyperboloid, 0.5\",\"marker\":{\"color\":\"#EF553B\",\"symbol\":\"diamond\"},\"mode\":\"markers\",\"name\":\"hyperboloid, 0.5\",\"orientation\":\"v\",\"showlegend\":false,\"x\":[2,4,8],\"xaxis\":\"x\",\"y\":[0.00019372109876200928,0.00013819496209838654,0.010815370443356101],\"yaxis\":\"y\",\"type\":\"scatter\"},{\"customdata\":[[216033.753075117],[203154.97983261073],[199154.23070736867]],\"hovertemplate\":\"distance function=hyperboloid\\u003cbr\\u003enoise_std=0.5\\u003cbr\\u003emax_depth=20\\u003cbr\\u003en_classes=5\\u003cbr\\u003en_dim=%{x}\\u003cbr\\u003ehdt_reg_mse mean=%{y}\\u003cbr\\u003eedt_reg_mse mean=%{customdata[0]}\\u003cextra\\u003e\\u003c\\u002fextra\\u003e\",\"legendgroup\":\"hyperboloid, 0.5\",\"marker\":{\"color\":\"#EF553B\",\"symbol\":\"diamond\"},\"mode\":\"markers\",\"name\":\"hyperboloid, 0.5\",\"orientation\":\"v\",\"showlegend\":false,\"x\":[2,4,8],\"xaxis\":\"x2\",\"y\":[5.4088987780146734e-05,0.0036260750917243272,0.0027121292758006],\"yaxis\":\"y2\",\"type\":\"scatter\"},{\"customdata\":[[199045.09301463902],[202959.57053875332],[186483.03232704967]],\"hovertemplate\":\"distance function=hyperboloid\\u003cbr\\u003enoise_std=0.5\\u003cbr\\u003emax_depth=20\\u003cbr\\u003en_classes=10\\u003cbr\\u003en_dim=%{x}\\u003cbr\\u003ehdt_reg_mse mean=%{y}\\u003cbr\\u003eedt_reg_mse mean=%{customdata[0]}\\u003cextra\\u003e\\u003c\\u002fextra\\u003e\",\"legendgroup\":\"hyperboloid, 0.5\",\"marker\":{\"color\":\"#EF553B\",\"symbol\":\"diamond\"},\"mode\":\"markers\",\"name\":\"hyperboloid, 0.5\",\"orientation\":\"v\",\"showlegend\":false,\"x\":[2,4,8],\"xaxis\":\"x3\",\"y\":[0.000220003832794998,0.0004658661851347652,0.003145761099741632],\"yaxis\":\"y3\",\"type\":\"scatter\"}],                        {\"template\":{\"data\":{\"histogram2dcontour\":[{\"type\":\"histogram2dcontour\",\"colorbar\":{\"outlinewidth\":0,\"ticks\":\"\"},\"colorscale\":[[0.0,\"#0d0887\"],[0.1111111111111111,\"#46039f\"],[0.2222222222222222,\"#7201a8\"],[0.3333333333333333,\"#9c179e\"],[0.4444444444444444,\"#bd3786\"],[0.5555555555555556,\"#d8576b\"],[0.6666666666666666,\"#ed7953\"],[0.7777777777777778,\"#fb9f3a\"],[0.8888888888888888,\"#fdca26\"],[1.0,\"#f0f921\"]]}],\"choropleth\":[{\"type\":\"choropleth\",\"colorbar\":{\"outlinewidth\":0,\"ticks\":\"\"}}],\"histogram2d\":[{\"type\":\"histogram2d\",\"colorbar\":{\"outlinewidth\":0,\"ticks\":\"\"},\"colorscale\":[[0.0,\"#0d0887\"],[0.1111111111111111,\"#46039f\"],[0.2222222222222222,\"#7201a8\"],[0.3333333333333333,\"#9c179e\"],[0.4444444444444444,\"#bd3786\"],[0.5555555555555556,\"#d8576b\"],[0.6666666666666666,\"#ed7953\"],[0.7777777777777778,\"#fb9f3a\"],[0.8888888888888888,\"#fdca26\"],[1.0,\"#f0f921\"]]}],\"heatmap\":[{\"type\":\"heatmap\",\"colorbar\":{\"outlinewidth\":0,\"ticks\":\"\"},\"colorscale\":[[0.0,\"#0d0887\"],[0.1111111111111111,\"#46039f\"],[0.2222222222222222,\"#7201a8\"],[0.3333333333333333,\"#9c179e\"],[0.4444444444444444,\"#bd3786\"],[0.5555555555555556,\"#d8576b\"],[0.6666666666666666,\"#ed7953\"],[0.7777777777777778,\"#fb9f3a\"],[0.8888888888888888,\"#fdca26\"],[1.0,\"#f0f921\"]]}],\"heatmapgl\":[{\"type\":\"heatmapgl\",\"colorbar\":{\"outlinewidth\":0,\"ticks\":\"\"},\"colorscale\":[[0.0,\"#0d0887\"],[0.1111111111111111,\"#46039f\"],[0.2222222222222222,\"#7201a8\"],[0.3333333333333333,\"#9c179e\"],[0.4444444444444444,\"#bd3786\"],[0.5555555555555556,\"#d8576b\"],[0.6666666666666666,\"#ed7953\"],[0.7777777777777778,\"#fb9f3a\"],[0.8888888888888888,\"#fdca26\"],[1.0,\"#f0f921\"]]}],\"contourcarpet\":[{\"type\":\"contourcarpet\",\"colorbar\":{\"outlinewidth\":0,\"ticks\":\"\"}}],\"contour\":[{\"type\":\"contour\",\"colorbar\":{\"outlinewidth\":0,\"ticks\":\"\"},\"colorscale\":[[0.0,\"#0d0887\"],[0.1111111111111111,\"#46039f\"],[0.2222222222222222,\"#7201a8\"],[0.3333333333333333,\"#9c179e\"],[0.4444444444444444,\"#bd3786\"],[0.5555555555555556,\"#d8576b\"],[0.6666666666666666,\"#ed7953\"],[0.7777777777777778,\"#fb9f3a\"],[0.8888888888888888,\"#fdca26\"],[1.0,\"#f0f921\"]]}],\"surface\":[{\"type\":\"surface\",\"colorbar\":{\"outlinewidth\":0,\"ticks\":\"\"},\"colorscale\":[[0.0,\"#0d0887\"],[0.1111111111111111,\"#46039f\"],[0.2222222222222222,\"#7201a8\"],[0.3333333333333333,\"#9c179e\"],[0.4444444444444444,\"#bd3786\"],[0.5555555555555556,\"#d8576b\"],[0.6666666666666666,\"#ed7953\"],[0.7777777777777778,\"#fb9f3a\"],[0.8888888888888888,\"#fdca26\"],[1.0,\"#f0f921\"]]}],\"mesh3d\":[{\"type\":\"mesh3d\",\"colorbar\":{\"outlinewidth\":0,\"ticks\":\"\"}}],\"scatter\":[{\"fillpattern\":{\"fillmode\":\"overlay\",\"size\":10,\"solidity\":0.2},\"type\":\"scatter\"}],\"parcoords\":[{\"type\":\"parcoords\",\"line\":{\"colorbar\":{\"outlinewidth\":0,\"ticks\":\"\"}}}],\"scatterpolargl\":[{\"type\":\"scatterpolargl\",\"marker\":{\"colorbar\":{\"outlinewidth\":0,\"ticks\":\"\"}}}],\"bar\":[{\"error_x\":{\"color\":\"#2a3f5f\"},\"error_y\":{\"color\":\"#2a3f5f\"},\"marker\":{\"line\":{\"color\":\"#E5ECF6\",\"width\":0.5},\"pattern\":{\"fillmode\":\"overlay\",\"size\":10,\"solidity\":0.2}},\"type\":\"bar\"}],\"scattergeo\":[{\"type\":\"scattergeo\",\"marker\":{\"colorbar\":{\"outlinewidth\":0,\"ticks\":\"\"}}}],\"scatterpolar\":[{\"type\":\"scatterpolar\",\"marker\":{\"colorbar\":{\"outlinewidth\":0,\"ticks\":\"\"}}}],\"histogram\":[{\"marker\":{\"pattern\":{\"fillmode\":\"overlay\",\"size\":10,\"solidity\":0.2}},\"type\":\"histogram\"}],\"scattergl\":[{\"type\":\"scattergl\",\"marker\":{\"colorbar\":{\"outlinewidth\":0,\"ticks\":\"\"}}}],\"scatter3d\":[{\"type\":\"scatter3d\",\"line\":{\"colorbar\":{\"outlinewidth\":0,\"ticks\":\"\"}},\"marker\":{\"colorbar\":{\"outlinewidth\":0,\"ticks\":\"\"}}}],\"scattermapbox\":[{\"type\":\"scattermapbox\",\"marker\":{\"colorbar\":{\"outlinewidth\":0,\"ticks\":\"\"}}}],\"scatterternary\":[{\"type\":\"scatterternary\",\"marker\":{\"colorbar\":{\"outlinewidth\":0,\"ticks\":\"\"}}}],\"scattercarpet\":[{\"type\":\"scattercarpet\",\"marker\":{\"colorbar\":{\"outlinewidth\":0,\"ticks\":\"\"}}}],\"carpet\":[{\"aaxis\":{\"endlinecolor\":\"#2a3f5f\",\"gridcolor\":\"white\",\"linecolor\":\"white\",\"minorgridcolor\":\"white\",\"startlinecolor\":\"#2a3f5f\"},\"baxis\":{\"endlinecolor\":\"#2a3f5f\",\"gridcolor\":\"white\",\"linecolor\":\"white\",\"minorgridcolor\":\"white\",\"startlinecolor\":\"#2a3f5f\"},\"type\":\"carpet\"}],\"table\":[{\"cells\":{\"fill\":{\"color\":\"#EBF0F8\"},\"line\":{\"color\":\"white\"}},\"header\":{\"fill\":{\"color\":\"#C8D4E3\"},\"line\":{\"color\":\"white\"}},\"type\":\"table\"}],\"barpolar\":[{\"marker\":{\"line\":{\"color\":\"#E5ECF6\",\"width\":0.5},\"pattern\":{\"fillmode\":\"overlay\",\"size\":10,\"solidity\":0.2}},\"type\":\"barpolar\"}],\"pie\":[{\"automargin\":true,\"type\":\"pie\"}]},\"layout\":{\"autotypenumbers\":\"strict\",\"colorway\":[\"#636efa\",\"#EF553B\",\"#00cc96\",\"#ab63fa\",\"#FFA15A\",\"#19d3f3\",\"#FF6692\",\"#B6E880\",\"#FF97FF\",\"#FECB52\"],\"font\":{\"color\":\"#2a3f5f\"},\"hovermode\":\"closest\",\"hoverlabel\":{\"align\":\"left\"},\"paper_bgcolor\":\"white\",\"plot_bgcolor\":\"#E5ECF6\",\"polar\":{\"bgcolor\":\"#E5ECF6\",\"angularaxis\":{\"gridcolor\":\"white\",\"linecolor\":\"white\",\"ticks\":\"\"},\"radialaxis\":{\"gridcolor\":\"white\",\"linecolor\":\"white\",\"ticks\":\"\"}},\"ternary\":{\"bgcolor\":\"#E5ECF6\",\"aaxis\":{\"gridcolor\":\"white\",\"linecolor\":\"white\",\"ticks\":\"\"},\"baxis\":{\"gridcolor\":\"white\",\"linecolor\":\"white\",\"ticks\":\"\"},\"caxis\":{\"gridcolor\":\"white\",\"linecolor\":\"white\",\"ticks\":\"\"}},\"coloraxis\":{\"colorbar\":{\"outlinewidth\":0,\"ticks\":\"\"}},\"colorscale\":{\"sequential\":[[0.0,\"#0d0887\"],[0.1111111111111111,\"#46039f\"],[0.2222222222222222,\"#7201a8\"],[0.3333333333333333,\"#9c179e\"],[0.4444444444444444,\"#bd3786\"],[0.5555555555555556,\"#d8576b\"],[0.6666666666666666,\"#ed7953\"],[0.7777777777777778,\"#fb9f3a\"],[0.8888888888888888,\"#fdca26\"],[1.0,\"#f0f921\"]],\"sequentialminus\":[[0.0,\"#0d0887\"],[0.1111111111111111,\"#46039f\"],[0.2222222222222222,\"#7201a8\"],[0.3333333333333333,\"#9c179e\"],[0.4444444444444444,\"#bd3786\"],[0.5555555555555556,\"#d8576b\"],[0.6666666666666666,\"#ed7953\"],[0.7777777777777778,\"#fb9f3a\"],[0.8888888888888888,\"#fdca26\"],[1.0,\"#f0f921\"]],\"diverging\":[[0,\"#8e0152\"],[0.1,\"#c51b7d\"],[0.2,\"#de77ae\"],[0.3,\"#f1b6da\"],[0.4,\"#fde0ef\"],[0.5,\"#f7f7f7\"],[0.6,\"#e6f5d0\"],[0.7,\"#b8e186\"],[0.8,\"#7fbc41\"],[0.9,\"#4d9221\"],[1,\"#276419\"]]},\"xaxis\":{\"gridcolor\":\"white\",\"linecolor\":\"white\",\"ticks\":\"\",\"title\":{\"standoff\":15},\"zerolinecolor\":\"white\",\"automargin\":true,\"zerolinewidth\":2},\"yaxis\":{\"gridcolor\":\"white\",\"linecolor\":\"white\",\"ticks\":\"\",\"title\":{\"standoff\":15},\"zerolinecolor\":\"white\",\"automargin\":true,\"zerolinewidth\":2},\"scene\":{\"xaxis\":{\"backgroundcolor\":\"#E5ECF6\",\"gridcolor\":\"white\",\"linecolor\":\"white\",\"showbackground\":true,\"ticks\":\"\",\"zerolinecolor\":\"white\",\"gridwidth\":2},\"yaxis\":{\"backgroundcolor\":\"#E5ECF6\",\"gridcolor\":\"white\",\"linecolor\":\"white\",\"showbackground\":true,\"ticks\":\"\",\"zerolinecolor\":\"white\",\"gridwidth\":2},\"zaxis\":{\"backgroundcolor\":\"#E5ECF6\",\"gridcolor\":\"white\",\"linecolor\":\"white\",\"showbackground\":true,\"ticks\":\"\",\"zerolinecolor\":\"white\",\"gridwidth\":2}},\"shapedefaults\":{\"line\":{\"color\":\"#2a3f5f\"}},\"annotationdefaults\":{\"arrowcolor\":\"#2a3f5f\",\"arrowhead\":0,\"arrowwidth\":1},\"geo\":{\"bgcolor\":\"white\",\"landcolor\":\"#E5ECF6\",\"subunitcolor\":\"white\",\"showland\":true,\"showlakes\":true,\"lakecolor\":\"white\"},\"title\":{\"x\":0.05},\"mapbox\":{\"style\":\"light\"}}},\"xaxis\":{\"anchor\":\"y\",\"domain\":[0.0,0.3133333333333333],\"title\":{\"text\":\"\"}},\"yaxis\":{\"anchor\":\"x\",\"domain\":[0.0,0.3133333333333333],\"title\":{\"text\":\"\"},\"type\":\"log\"},\"xaxis2\":{\"anchor\":\"y2\",\"domain\":[0.3333333333333333,0.6466666666666666],\"matches\":\"x\",\"title\":{\"text\":\"\"}},\"yaxis2\":{\"anchor\":\"x2\",\"domain\":[0.0,0.3133333333333333],\"matches\":\"y\",\"showticklabels\":false,\"type\":\"log\",\"title\":{\"text\":\"\"}},\"xaxis3\":{\"anchor\":\"y3\",\"domain\":[0.6666666666666666,0.98],\"matches\":\"x\",\"title\":{\"text\":\"\"}},\"yaxis3\":{\"anchor\":\"x3\",\"domain\":[0.0,0.3133333333333333],\"matches\":\"y\",\"showticklabels\":false,\"type\":\"log\",\"title\":{\"text\":\"\"}},\"xaxis4\":{\"anchor\":\"y4\",\"domain\":[0.0,0.3133333333333333],\"matches\":\"x\",\"showticklabels\":false,\"title\":{\"text\":\"\"}},\"yaxis4\":{\"anchor\":\"x4\",\"domain\":[0.34333333333333327,0.6566666666666665],\"matches\":\"y\",\"title\":{\"text\":\"\"},\"type\":\"log\"},\"xaxis5\":{\"anchor\":\"y5\",\"domain\":[0.3333333333333333,0.6466666666666666],\"matches\":\"x\",\"showticklabels\":false,\"title\":{\"text\":\"\"}},\"yaxis5\":{\"anchor\":\"x5\",\"domain\":[0.34333333333333327,0.6566666666666665],\"matches\":\"y\",\"showticklabels\":false,\"type\":\"log\",\"title\":{\"text\":\"\"}},\"xaxis6\":{\"anchor\":\"y6\",\"domain\":[0.6666666666666666,0.98],\"matches\":\"x\",\"showticklabels\":false,\"title\":{\"text\":\"\"}},\"yaxis6\":{\"anchor\":\"x6\",\"domain\":[0.34333333333333327,0.6566666666666665],\"matches\":\"y\",\"showticklabels\":false,\"type\":\"log\",\"title\":{\"text\":\"\"}},\"xaxis7\":{\"anchor\":\"y7\",\"domain\":[0.0,0.3133333333333333],\"matches\":\"x\",\"showticklabels\":false,\"title\":{\"text\":\"\"}},\"yaxis7\":{\"anchor\":\"x7\",\"domain\":[0.6866666666666665,0.9999999999999998],\"matches\":\"y\",\"title\":{\"text\":\"\"},\"type\":\"log\"},\"xaxis8\":{\"anchor\":\"y8\",\"domain\":[0.3333333333333333,0.6466666666666666],\"matches\":\"x\",\"showticklabels\":false,\"title\":{\"text\":\"\"}},\"yaxis8\":{\"anchor\":\"x8\",\"domain\":[0.6866666666666665,0.9999999999999998],\"matches\":\"y\",\"showticklabels\":false,\"type\":\"log\",\"title\":{\"text\":\"\"}},\"xaxis9\":{\"anchor\":\"y9\",\"domain\":[0.6666666666666666,0.98],\"matches\":\"x\",\"showticklabels\":false,\"title\":{\"text\":\"\"}},\"yaxis9\":{\"anchor\":\"x9\",\"domain\":[0.6866666666666665,0.9999999999999998],\"matches\":\"y\",\"showticklabels\":false,\"type\":\"log\",\"title\":{\"text\":\"\"}},\"annotations\":[{\"showarrow\":false,\"text\":\"n_classes=2\",\"x\":0.15666666666666665,\"xanchor\":\"center\",\"xref\":\"paper\",\"y\":0.9999999999999998,\"yanchor\":\"bottom\",\"yref\":\"paper\"},{\"showarrow\":false,\"text\":\"n_classes=5\",\"x\":0.49,\"xanchor\":\"center\",\"xref\":\"paper\",\"y\":0.9999999999999998,\"yanchor\":\"bottom\",\"yref\":\"paper\"},{\"showarrow\":false,\"text\":\"n_classes=10\",\"x\":0.8233333333333333,\"xanchor\":\"center\",\"xref\":\"paper\",\"y\":0.9999999999999998,\"yanchor\":\"bottom\",\"yref\":\"paper\"},{\"showarrow\":false,\"text\":\"max_depth=20\",\"textangle\":90,\"x\":0.98,\"xanchor\":\"left\",\"xref\":\"paper\",\"y\":0.15666666666666665,\"yanchor\":\"middle\",\"yref\":\"paper\"},{\"showarrow\":false,\"text\":\"max_depth=10\",\"textangle\":90,\"x\":0.98,\"xanchor\":\"left\",\"xref\":\"paper\",\"y\":0.4999999999999999,\"yanchor\":\"middle\",\"yref\":\"paper\"},{\"showarrow\":false,\"text\":\"max_depth=5\",\"textangle\":90,\"x\":0.98,\"xanchor\":\"left\",\"xref\":\"paper\",\"y\":0.8433333333333332,\"yanchor\":\"middle\",\"yref\":\"paper\"},{\"font\":{\"size\":16},\"showarrow\":false,\"text\":\"MSE\",\"textangle\":-90,\"x\":-0.1,\"xref\":\"paper\",\"y\":0.5,\"yref\":\"paper\"},{\"font\":{\"size\":16},\"showarrow\":false,\"text\":\"Tree Max Depth\",\"x\":0.5,\"xref\":\"paper\",\"y\":-0.15,\"yref\":\"paper\"}],\"legend\":{\"title\":{\"text\":\"distance function, noise_std\"},\"tracegroupgap\":0},\"title\":{\"text\":\"Hyperboloid Distance Function MSE\"}},                        {\"responsive\": true}                    ).then(function(){\n",
       "                            \n",
       "var gd = document.getElementById('f59908dd-e4c3-45a8-b04d-b2ec5bdd9b11');\n",
       "var x = new MutationObserver(function (mutations, observer) {{\n",
       "        var display = window.getComputedStyle(gd).display;\n",
       "        if (!display || display === 'none') {{\n",
       "            console.log([gd, 'removed!']);\n",
       "            Plotly.purge(gd);\n",
       "            observer.disconnect();\n",
       "        }}\n",
       "}});\n",
       "\n",
       "// Listen for the removal of the full notebook cells\n",
       "var notebookContainer = gd.closest('#notebook-container');\n",
       "if (notebookContainer) {{\n",
       "    x.observe(notebookContainer, {childList: true});\n",
       "}}\n",
       "\n",
       "// Listen for the clearing of the current output cell\n",
       "var outputEl = gd.closest('.output');\n",
       "if (outputEl) {{\n",
       "    x.observe(outputEl, {childList: true});\n",
       "}}\n",
       "\n",
       "                        })                };                });            </script>        </div>"
      ]
     },
     "metadata": {},
     "output_type": "display_data"
    }
   ],
   "source": [
    "fig = px.scatter(\n",
    "    df,\n",
    "    x='n_dim',\n",
    "    y='hdt_reg_mse mean',\n",
    "    log_y=True,\n",
    "    color='distance function',\n",
    "    facet_col='n_classes',\n",
    "    facet_row='max_depth',\n",
    "    symbol='noise_std',\n",
    "    title='Hyperboloid Distance Function MSE',\n",
    "    hover_data=['hdt_reg_mse mean', 'edt_reg_mse mean'],\n",
    "    )\n",
    "\n",
    "# set all facet axis titles to blank\n",
    "# fig.for_each_yaxis(lambda y: y.update(title = ''))\n",
    "for axis in fig.layout:\n",
    "    if type(fig.layout[axis]) == go.layout.YAxis or type(fig.layout[axis]) == go.layout.XAxis:\n",
    "        fig.layout[axis].title.text = ''\n",
    "\n",
    "# fig.update_layout(\n",
    "#     xaxis_title='Dimension',\n",
    "#     yaxis3_title='MSE',\n",
    "# )\n",
    "\n",
    "fig.add_annotation(\n",
    "    x=-0.1, y=0.5,\n",
    "    text=\"MSE\",\n",
    "    textangle=-90,\n",
    "    xref=\"paper\", yref=\"paper\",\n",
    "    showarrow=False,\n",
    "    font=dict(size=16)\n",
    "    )\n",
    "fig.add_annotation(\n",
    "    x=0.5, y=-0.15,\n",
    "    text=\"Tree Max Depth\",\n",
    "    xref=\"paper\", yref=\"paper\",\n",
    "    showarrow=False,\n",
    "    font=dict(size=16),\n",
    "    )\n",
    "\n",
    "\n",
    "fig.show()"
   ]
  },
  {
   "cell_type": "code",
   "execution_count": null,
   "metadata": {},
   "outputs": [],
   "source": []
  }
 ],
 "metadata": {
  "kernelspec": {
   "display_name": "hdt",
   "language": "python",
   "name": "python3"
  },
  "language_info": {
   "codemirror_mode": {
    "name": "ipython",
    "version": 3
   },
   "file_extension": ".py",
   "mimetype": "text/x-python",
   "name": "python",
   "nbconvert_exporter": "python",
   "pygments_lexer": "ipython3",
   "version": "3.11.5"
  },
  "orig_nbformat": 4
 },
 "nbformat": 4,
 "nbformat_minor": 2
}
