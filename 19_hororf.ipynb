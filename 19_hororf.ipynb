{
 "cells": [
  {
   "cell_type": "markdown",
   "metadata": {},
   "source": [
    "# HoroRF\n",
    "> Comparing two hyperbolic RF methods"
   ]
  },
  {
   "cell_type": "code",
   "execution_count": 2,
   "metadata": {},
   "outputs": [],
   "source": [
    "%load_ext autoreload\n",
    "%autoreload 2"
   ]
  },
  {
   "cell_type": "code",
   "execution_count": 9,
   "metadata": {},
   "outputs": [],
   "source": [
    "from HoroRF.hororf.rf_trainer import run_train"
   ]
  },
  {
   "cell_type": "code",
   "execution_count": 13,
   "metadata": {},
   "outputs": [
    {
     "name": "stderr",
     "output_type": "stream",
     "text": [
      "tar (child): ./logs/output__/code.tar.gz: Cannot open: No such file or directory\n",
      "tar (child): Error is not recoverable: exiting now\n",
      "tar: ./logs/output__/code.tar.gz: Cannot write: Broken pipe\n",
      "tar: Child returned status 2\n",
      "tar: Error is not recoverable: exiting now\n",
      "\u001b[32;1m2023-09-12 08:54:09,911 [hororf.rf_trainer]\u001b[0m 1 GPUs available\n",
      "\u001b[32;1m2023-09-12 08:54:09,911 [hororf.rf_trainer]\u001b[0m Using seed 17 on class 2\n",
      "\u001b[32;1m2023-09-12 08:54:09,920 [hororf.utils]\u001b[0m 34 datapoints in dataset 'datasets.karate'\n",
      "\u001b[32;1m2023-09-12 08:54:09,920 [hororf.utils]\u001b[0m 34 datapoints in test dataset 'datasets.karate'\n",
      "\u001b[32;1m2023-09-12 08:54:09,939 [hororf.rf_trainer]\u001b[0m 17 train and 17 test samples for fold 0\n",
      "\u001b[32;1m2023-09-12 08:54:13,315 [hororf.rf_trainer]\u001b[0m Hyperbolic tree f1 micro: 0.9412, f1 macro: 0.9412, AUPR: 0.0000. Mean depth of 1.00\n",
      "\u001b[32;1m2023-09-12 08:54:15,614 [hororf.rf_trainer]\u001b[0m 17 train and 17 test samples for fold 1\n",
      "\u001b[32;1m2023-09-12 08:54:18,124 [hororf.rf_trainer]\u001b[0m Hyperbolic tree f1 micro: 1.0000, f1 macro: 1.0000, AUPR: 0.0000. Mean depth of 3.00\n"
     ]
    }
   ],
   "source": [
    "%%bash\n",
    "cd HoroRF\n",
    "/home/phil/mambaforge/envs/hdt/bin/python train_hyp_rf.py -h"
   ]
  },
  {
   "cell_type": "code",
   "execution_count": 1,
   "metadata": {},
   "outputs": [
    {
     "name": "stderr",
     "output_type": "stream",
     "text": [
      "tar (child): ./logs/output_/code.tar.gz: Cannot open: No such file or directory\n",
      "tar (child): Error is not recoverable: exiting now\n",
      "tar: ./logs/output_/code.tar.gz: Cannot write: Broken pipe\n",
      "tar: Child returned status 2\n",
      "tar: Error is not recoverable: exiting now\n",
      "\u001b[32;1m2023-09-12 09:52:24,360 [hororf.rf_trainer]\u001b[0m 1 GPUs available\n",
      "\u001b[32;1m2023-09-12 09:52:24,360 [hororf.rf_trainer]\u001b[0m Using seed 17 on class 2\n",
      "\u001b[32;1m2023-09-12 09:52:28,224 [hororf.utils]\u001b[0m 800 datapoints in dataset 'datasets.neuroseed'\n",
      "\u001b[32;1m2023-09-12 09:52:28,224 [hororf.utils]\u001b[0m 200 datapoints in test dataset 'datasets.neuroseed'\n",
      "/home/phil/mambaforge/envs/hdt/lib/python3.11/site-packages/sklearn/model_selection/_split.py:725: UserWarning: The least populated class in y has only 1 members, which is less than n_splits=2.\n",
      "  warnings.warn(\n",
      "\u001b[32;1m2023-09-12 09:52:28,251 [hororf.rf_trainer]\u001b[0m 400 train and 400 test samples for fold 0\n",
      "\u001b[32;1m2023-09-12 09:53:18,410 [hororf.rf_trainer]\u001b[0m Hyperbolic tree f1 micro: 0.6700, f1 macro: 0.2155, AUPR: 0.0000. Mean depth of 6.00\n",
      "/home/phil/mambaforge/envs/hdt/lib/python3.11/site-packages/sklearn/model_selection/_split.py:725: UserWarning: The least populated class in y has only 1 members, which is less than n_splits=2.\n",
      "  warnings.warn(\n",
      "\u001b[32;1m2023-09-12 09:53:18,411 [hororf.rf_trainer]\u001b[0m 400 train and 400 test samples for fold 1\n",
      "\u001b[32;1m2023-09-12 09:54:19,541 [hororf.rf_trainer]\u001b[0m Hyperbolic tree f1 micro: 0.6800, f1 macro: 0.1767, AUPR: 0.0000. Mean depth of 6.00\n"
     ]
    }
   ],
   "source": [
    "%%bash\n",
    "cd HoroRF\n",
    "/home/phil/mambaforge/envs/hdt/bin/python train_hyp_rf.py -h\n",
    "\n",
    "# NeuroSEED version"
   ]
  },
  {
   "cell_type": "code",
   "execution_count": null,
   "metadata": {},
   "outputs": [],
   "source": []
  }
 ],
 "metadata": {
  "kernelspec": {
   "display_name": "hdt",
   "language": "python",
   "name": "python3"
  },
  "language_info": {
   "codemirror_mode": {
    "name": "ipython",
    "version": 3
   },
   "file_extension": ".py",
   "mimetype": "text/x-python",
   "name": "python",
   "nbconvert_exporter": "python",
   "pygments_lexer": "ipython3",
   "version": "3.11.4"
  },
  "orig_nbformat": 4
 },
 "nbformat": 4,
 "nbformat_minor": 2
}
