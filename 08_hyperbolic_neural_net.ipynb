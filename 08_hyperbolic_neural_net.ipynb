{
 "cells": [
  {
   "cell_type": "markdown",
   "metadata": {},
   "source": [
    "# Hyperbolic neural net\n",
    "> Do hyperbolic neural nets beat HDTs?"
   ]
  },
  {
   "cell_type": "code",
   "execution_count": 1,
   "metadata": {},
   "outputs": [],
   "source": [
    "%load_ext autoreload\n",
    "%autoreload 2"
   ]
  },
  {
   "cell_type": "code",
   "execution_count": 124,
   "metadata": {},
   "outputs": [],
   "source": [
    "import torch\n",
    "import argparse\n",
    "import copy\n",
    "\n",
    "from sklearn.model_selection import train_test_split\n",
    "\n",
    "import sys\n",
    "\n",
    "sys.path.append(\"/home/phil/americangut\")\n",
    "from make_xy import make_anndata_X_y\n",
    "\n",
    "from hgcn.models.base_models import NCModel\n",
    "from hgcn.models.encoders import HNN\n",
    "from hgcn.optimizers.radam import RiemannianAdam\n"
   ]
  },
  {
   "cell_type": "code",
   "execution_count": 58,
   "metadata": {},
   "outputs": [],
   "source": [
    "# Get data\n",
    "X, y = make_anndata_X_y(balance=True, column=\"ibd\", embedding=\"poi_mix_2\")\n",
    "\n",
    "# Convert to torch\n",
    "X = torch.Tensor(X)\n",
    "y = torch.Tensor(y)\n",
    "\n",
    "# Train-test split\n",
    "X_train, X_test, y_train, y_test = train_test_split(\n",
    "    X, y, test_size=0.2, random_state=42, stratify=y\n",
    ")\n"
   ]
  },
  {
   "cell_type": "code",
   "execution_count": 77,
   "metadata": {},
   "outputs": [],
   "source": [
    "# Initialize this kind of arcane HNN object:\n",
    "\n",
    "C = 1.0  # c is the hyperbolic radius\n",
    "EMBEDDING_DIM = 2  # dimension of the Poincare ball\n",
    "\n",
    "hnn = HNN(\n",
    "    c=C,\n",
    "    args=argparse.Namespace(\n",
    "        num_layers=2,\n",
    "        manifold=\"PoincareBall\",\n",
    "        dropout=0.5,\n",
    "        bias=True,\n",
    "        act=\"tanh\",\n",
    "        feat_dim=EMBEDDING_DIM,\n",
    "        dim=EMBEDDING_DIM,\n",
    "        task=\"nc\",\n",
    "        c=C,\n",
    "        cuda=\"gpu\",\n",
    "        device=torch.device(\"cuda:0\" if torch.cuda.is_available() else \"cpu\"),\n",
    "    ),\n",
    ")\n"
   ]
  },
  {
   "cell_type": "code",
   "execution_count": 118,
   "metadata": {},
   "outputs": [],
   "source": [
    "# Define a simple classifier on top of the HNN encoder (no adj matrix):\n",
    "\n",
    "\n",
    "class HNN_classifier(torch.nn.Module):\n",
    "    def __init__(self, c, embedding_dim, latent_dim):\n",
    "        super(HNN_classifier, self).__init__()\n",
    "        self.encoder = HNN(\n",
    "            c=c,\n",
    "            args=argparse.Namespace(\n",
    "                num_layers=2,\n",
    "                manifold=\"PoincareBall\",\n",
    "                dropout=0.5,\n",
    "                bias=True,\n",
    "                act=\"tanh\",\n",
    "                feat_dim=embedding_dim,\n",
    "                dim=latent_dim,\n",
    "                task=\"nc\",\n",
    "                c=C,\n",
    "                cuda=\"gpu\",\n",
    "                device=torch.device(\n",
    "                    \"cuda:0\" if torch.cuda.is_available() else \"cpu\"\n",
    "                ),\n",
    "            ),\n",
    "        )\n",
    "        self.classifier = torch.nn.Linear(latent_dim, 1, bias=True)\n",
    "        self.sigmoid = torch.nn.Sigmoid()\n",
    "\n",
    "    def forward(self, x):\n",
    "        x = self.encoder.encode(x, None)\n",
    "        x = self.classifier(x)\n",
    "        x = self.sigmoid(x)\n",
    "        return x\n"
   ]
  },
  {
   "cell_type": "code",
   "execution_count": 119,
   "metadata": {},
   "outputs": [
    {
     "name": "stdout",
     "output_type": "stream",
     "text": [
      "0\t0.000720930278301239\n",
      "1000\t0.6931653810739518\n",
      "2000\t0.6931470614671708\n",
      "3000\t0.6931576954126358\n",
      "4000\t0.6931473612785339\n",
      "5000\t0.6931473612785339\n",
      "6000\t0.6931473612785339\n",
      "7000\t0.6931473612785339\n",
      "8000\t0.6931473612785339\n",
      "9000\t0.6931473612785339\n"
     ]
    }
   ],
   "source": [
    "# Train! (need Riemannian Adam)\n",
    "\n",
    "model = HNN_classifier(c=1, embedding_dim=2, latent_dim=4)\n",
    "radam = RiemannianAdam(model.parameters(), lr=1)\n",
    "losses = 0\n",
    "for epoch in range(10000):\n",
    "    radam.zero_grad()\n",
    "    output = model(X_train).squeeze()\n",
    "    loss = torch.nn.functional.binary_cross_entropy_with_logits(output, y_train)\n",
    "    loss.backward()\n",
    "    radam.step()\n",
    "    losses += loss.item()\n",
    "    if epoch % 1000 == 0:\n",
    "        print(epoch, losses / 1000, sep=\"\\t\")\n",
    "        losses = 0\n"
   ]
  },
  {
   "cell_type": "code",
   "execution_count": 132,
   "metadata": {},
   "outputs": [],
   "source": [
    "# Ok, this might have been wrong. Let's try to use NCmodel:\n",
    "\n",
    "# copy argparse namespace\n",
    "args_nc = argparse.Namespace(\n",
    "    num_layers=2,\n",
    "    manifold=\"PoincareBall\",\n",
    "    dropout=0.5,\n",
    "    bias=True,\n",
    "    act=\"tanh\",\n",
    "    feat_dim=EMBEDDING_DIM,\n",
    "    dim=EMBEDDING_DIM,\n",
    "    task=\"nc\",\n",
    "    c=C,\n",
    "    cuda=\"gpu\",\n",
    "    device=torch.device(\"cuda:0\" if torch.cuda.is_available() else \"cpu\"),\n",
    "    n_nodes=len(X_train),\n",
    "    n_classes=2,\n",
    "    model=\"HNN\",\n",
    "    pos_weight=False\n",
    ")\n",
    "\n",
    "classifier = NCModel(args_nc)\n"
   ]
  },
  {
   "cell_type": "code",
   "execution_count": 134,
   "metadata": {},
   "outputs": [
    {
     "data": {
      "text/plain": [
       "NCModel(\n",
       "  (encoder): HNN(\n",
       "    (layers): Sequential(\n",
       "      (0): HNNLayer(\n",
       "        (linear): HypLinear(in_features=2, out_features=2, c=tensor([1.], device='cuda:0'))\n",
       "        (hyp_act): HypAct(c_in=tensor([1.], device='cuda:0'), c_out=tensor([1.], device='cuda:0'))\n",
       "      )\n",
       "    )\n",
       "  )\n",
       "  (decoder): LinearDecoder(\n",
       "    in_features=2, out_features=2, bias=True, c=tensor([1.], device='cuda:0')\n",
       "    (cls): Linear(\n",
       "      (linear): Linear(in_features=2, out_features=2, bias=True)\n",
       "    )\n",
       "  )\n",
       ")"
      ]
     },
     "execution_count": 134,
     "metadata": {},
     "output_type": "execute_result"
    }
   ],
   "source": [
    "classifier.train()"
   ]
  },
  {
   "cell_type": "markdown",
   "metadata": {},
   "source": []
  }
 ],
 "metadata": {
  "kernelspec": {
   "display_name": "hdt",
   "language": "python",
   "name": "python3"
  },
  "language_info": {
   "codemirror_mode": {
    "name": "ipython",
    "version": 3
   },
   "file_extension": ".py",
   "mimetype": "text/x-python",
   "name": "python",
   "nbconvert_exporter": "python",
   "pygments_lexer": "ipython3",
   "version": "3.11.4"
  },
  "orig_nbformat": 4
 },
 "nbformat": 4,
 "nbformat_minor": 2
}
